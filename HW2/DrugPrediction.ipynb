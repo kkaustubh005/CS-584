{
  "nbformat": 4,
  "nbformat_minor": 0,
  "metadata": {
    "colab": {
      "name": "CS584_Assignment2.ipynb",
      "provenance": [],
      "collapsed_sections": [
        "Xq2DrOwFjJxR"
      ]
    },
    "kernelspec": {
      "name": "python3",
      "display_name": "Python 3"
    },
    "language_info": {
      "name": "python"
    }
  },
  "cells": [
    {
      "cell_type": "markdown",
      "source": [
        "HW2 \n",
        "G01314326\n",
        "Kaustubh Karanjkar\n",
        "CS584"
      ],
      "metadata": {
        "id": "TGCYPuiDXUtW"
      }
    },
    {
      "cell_type": "code",
      "execution_count": 114,
      "metadata": {
        "id": "aE7vV-TLInw3"
      },
      "outputs": [],
      "source": [
        "import pandas as pd\n",
        "import numpy as np\n",
        "from sklearn.model_selection import train_test_split\n",
        "from sklearn import metrics\n",
        "import scipy.sparse as sp\n",
        "from sklearn.tree import DecisionTreeClassifier\n",
        "from sklearn.feature_selection import SelectKBest, chi2\n",
        "from sklearn.metrics import f1_score\n",
        "from sklearn.metrics import accuracy_score\n",
        "from sklearn import preprocessing\n",
        "from collections import Counter\n",
        "from sklearn.decomposition import PCA\n",
        "from sklearn.svm import LinearSVC\n",
        "from imblearn import under_sampling, over_sampling\n",
        "from sklearn.linear_model import LogisticRegression\n",
        "from imblearn.over_sampling import SMOTE\n",
        "from sklearn.utils import shuffle\n",
        "import xgboost as xgb\n",
        "from sklearn.decomposition import TruncatedSVD\n",
        "from sklearn.naive_bayes import GaussianNB\n",
        "from imblearn.under_sampling import RandomUnderSampler\n",
        "from sklearn.naive_bayes import BernoulliNB\n",
        "from sklearn.metrics import classification_report\n",
        "import matplotlib.pyplot as plt\n",
        "from imblearn.over_sampling import RandomOverSampler"
      ]
    },
    {
      "cell_type": "markdown",
      "source": [
        "# Train and Test Data Processing"
      ],
      "metadata": {
        "id": "13S_uZNgXEiz"
      }
    },
    {
      "cell_type": "code",
      "source": [
        "train = pd.read_csv(\"train_2.txt\", delimiter=\"\\n\", header= None, engine='python')\n",
        "train['Features']=''\n",
        "train.columns = ['Class','Features']\n",
        "\n",
        "Class=[]\n",
        "Features=[]\n",
        "for i in range(0,len(train)):\n",
        "    data = train.loc[i][0].split(\"\\t\")\n",
        "    Class.append(data[0])\n",
        "    Features.append(data[1])  \n",
        "\n",
        "dict = {\"Class\":Class, \"Features\":Features}\n",
        "train = pd.DataFrame.from_dict(dict) \n"
      ],
      "metadata": {
        "id": "B2I_hC6LJBBr"
      },
      "execution_count": 5,
      "outputs": []
    },
    {
      "cell_type": "code",
      "source": [
        "train.Features"
      ],
      "metadata": {
        "colab": {
          "base_uri": "https://localhost:8080/"
        },
        "id": "vPqUVz6BRPFt",
        "outputId": "e92a8e06-da4d-46f9-8c20-be32f00f6177"
      },
      "execution_count": 6,
      "outputs": [
        {
          "output_type": "execute_result",
          "data": {
            "text/plain": [
              "0      191 367 614 634 711 1202 1220 1311 1472 1730 2...\n",
              "1      118 307 367 478 505 512 807 878 939 1024 1095 ...\n",
              "2      10 184 284 297 320 375 445 588 658 1108 1411 1...\n",
              "3      87 149 433 704 711 892 988 1056 1070 1234 1246...\n",
              "4      84 118 279 316 435 505 584 629 849 1029 1082 1...\n",
              "                             ...                        \n",
              "795    374 1031 1271 1312 1452 1517 1628 1668 1898 19...\n",
              "796    106 465 1095 1119 1176 1658 1669 1679 1813 188...\n",
              "797    140 273 303 354 383 436 619 640 798 866 943 12...\n",
              "798    126 150 354 377 379 702 764 1099 1110 1220 127...\n",
              "799    190 191 354 412 425 433 783 915 1070 1642 1730...\n",
              "Name: Features, Length: 800, dtype: object"
            ]
          },
          "metadata": {},
          "execution_count": 6
        }
      ]
    },
    {
      "cell_type": "code",
      "source": [
        "trainData = train.Features.str.split(expand=True).astype(float)\n",
        "trainData.apply(lambda x: x.replace(np.NaN, 0, inplace = True))\n",
        "trainData.head()"
      ],
      "metadata": {
        "colab": {
          "base_uri": "https://localhost:8080/",
          "height": 299
        },
        "id": "0yH3llnOOekT",
        "outputId": "b568e99f-b958-427b-919b-365a4f9de800"
      },
      "execution_count": 7,
      "outputs": [
        {
          "output_type": "execute_result",
          "data": {
            "text/plain": [
              "    0      1      2      3      4       5       6       7       8       9     \\\n",
              "0  191.0  367.0  614.0  634.0  711.0  1202.0  1220.0  1311.0  1472.0  1730.0   \n",
              "1  118.0  307.0  367.0  478.0  505.0   512.0   807.0   878.0   939.0  1024.0   \n",
              "2   10.0  184.0  284.0  297.0  320.0   375.0   445.0   588.0   658.0  1108.0   \n",
              "3   87.0  149.0  433.0  704.0  711.0   892.0   988.0  1056.0  1070.0  1234.0   \n",
              "4   84.0  118.0  279.0  316.0  435.0   505.0   584.0   629.0   849.0  1029.0   \n",
              "\n",
              "   ...  6051  6052  6053  6054  6055  6056  6057  6058  6059  6060  \n",
              "0  ...   0.0   0.0   0.0   0.0   0.0   0.0   0.0   0.0   0.0   0.0  \n",
              "1  ...   0.0   0.0   0.0   0.0   0.0   0.0   0.0   0.0   0.0   0.0  \n",
              "2  ...   0.0   0.0   0.0   0.0   0.0   0.0   0.0   0.0   0.0   0.0  \n",
              "3  ...   0.0   0.0   0.0   0.0   0.0   0.0   0.0   0.0   0.0   0.0  \n",
              "4  ...   0.0   0.0   0.0   0.0   0.0   0.0   0.0   0.0   0.0   0.0  \n",
              "\n",
              "[5 rows x 6061 columns]"
            ],
            "text/html": [
              "\n",
              "  <div id=\"df-0549f351-98d6-49d5-9fa0-60553e7ef1ff\">\n",
              "    <div class=\"colab-df-container\">\n",
              "      <div>\n",
              "<style scoped>\n",
              "    .dataframe tbody tr th:only-of-type {\n",
              "        vertical-align: middle;\n",
              "    }\n",
              "\n",
              "    .dataframe tbody tr th {\n",
              "        vertical-align: top;\n",
              "    }\n",
              "\n",
              "    .dataframe thead th {\n",
              "        text-align: right;\n",
              "    }\n",
              "</style>\n",
              "<table border=\"1\" class=\"dataframe\">\n",
              "  <thead>\n",
              "    <tr style=\"text-align: right;\">\n",
              "      <th></th>\n",
              "      <th>0</th>\n",
              "      <th>1</th>\n",
              "      <th>2</th>\n",
              "      <th>3</th>\n",
              "      <th>4</th>\n",
              "      <th>5</th>\n",
              "      <th>6</th>\n",
              "      <th>7</th>\n",
              "      <th>8</th>\n",
              "      <th>9</th>\n",
              "      <th>...</th>\n",
              "      <th>6051</th>\n",
              "      <th>6052</th>\n",
              "      <th>6053</th>\n",
              "      <th>6054</th>\n",
              "      <th>6055</th>\n",
              "      <th>6056</th>\n",
              "      <th>6057</th>\n",
              "      <th>6058</th>\n",
              "      <th>6059</th>\n",
              "      <th>6060</th>\n",
              "    </tr>\n",
              "  </thead>\n",
              "  <tbody>\n",
              "    <tr>\n",
              "      <th>0</th>\n",
              "      <td>191.0</td>\n",
              "      <td>367.0</td>\n",
              "      <td>614.0</td>\n",
              "      <td>634.0</td>\n",
              "      <td>711.0</td>\n",
              "      <td>1202.0</td>\n",
              "      <td>1220.0</td>\n",
              "      <td>1311.0</td>\n",
              "      <td>1472.0</td>\n",
              "      <td>1730.0</td>\n",
              "      <td>...</td>\n",
              "      <td>0.0</td>\n",
              "      <td>0.0</td>\n",
              "      <td>0.0</td>\n",
              "      <td>0.0</td>\n",
              "      <td>0.0</td>\n",
              "      <td>0.0</td>\n",
              "      <td>0.0</td>\n",
              "      <td>0.0</td>\n",
              "      <td>0.0</td>\n",
              "      <td>0.0</td>\n",
              "    </tr>\n",
              "    <tr>\n",
              "      <th>1</th>\n",
              "      <td>118.0</td>\n",
              "      <td>307.0</td>\n",
              "      <td>367.0</td>\n",
              "      <td>478.0</td>\n",
              "      <td>505.0</td>\n",
              "      <td>512.0</td>\n",
              "      <td>807.0</td>\n",
              "      <td>878.0</td>\n",
              "      <td>939.0</td>\n",
              "      <td>1024.0</td>\n",
              "      <td>...</td>\n",
              "      <td>0.0</td>\n",
              "      <td>0.0</td>\n",
              "      <td>0.0</td>\n",
              "      <td>0.0</td>\n",
              "      <td>0.0</td>\n",
              "      <td>0.0</td>\n",
              "      <td>0.0</td>\n",
              "      <td>0.0</td>\n",
              "      <td>0.0</td>\n",
              "      <td>0.0</td>\n",
              "    </tr>\n",
              "    <tr>\n",
              "      <th>2</th>\n",
              "      <td>10.0</td>\n",
              "      <td>184.0</td>\n",
              "      <td>284.0</td>\n",
              "      <td>297.0</td>\n",
              "      <td>320.0</td>\n",
              "      <td>375.0</td>\n",
              "      <td>445.0</td>\n",
              "      <td>588.0</td>\n",
              "      <td>658.0</td>\n",
              "      <td>1108.0</td>\n",
              "      <td>...</td>\n",
              "      <td>0.0</td>\n",
              "      <td>0.0</td>\n",
              "      <td>0.0</td>\n",
              "      <td>0.0</td>\n",
              "      <td>0.0</td>\n",
              "      <td>0.0</td>\n",
              "      <td>0.0</td>\n",
              "      <td>0.0</td>\n",
              "      <td>0.0</td>\n",
              "      <td>0.0</td>\n",
              "    </tr>\n",
              "    <tr>\n",
              "      <th>3</th>\n",
              "      <td>87.0</td>\n",
              "      <td>149.0</td>\n",
              "      <td>433.0</td>\n",
              "      <td>704.0</td>\n",
              "      <td>711.0</td>\n",
              "      <td>892.0</td>\n",
              "      <td>988.0</td>\n",
              "      <td>1056.0</td>\n",
              "      <td>1070.0</td>\n",
              "      <td>1234.0</td>\n",
              "      <td>...</td>\n",
              "      <td>0.0</td>\n",
              "      <td>0.0</td>\n",
              "      <td>0.0</td>\n",
              "      <td>0.0</td>\n",
              "      <td>0.0</td>\n",
              "      <td>0.0</td>\n",
              "      <td>0.0</td>\n",
              "      <td>0.0</td>\n",
              "      <td>0.0</td>\n",
              "      <td>0.0</td>\n",
              "    </tr>\n",
              "    <tr>\n",
              "      <th>4</th>\n",
              "      <td>84.0</td>\n",
              "      <td>118.0</td>\n",
              "      <td>279.0</td>\n",
              "      <td>316.0</td>\n",
              "      <td>435.0</td>\n",
              "      <td>505.0</td>\n",
              "      <td>584.0</td>\n",
              "      <td>629.0</td>\n",
              "      <td>849.0</td>\n",
              "      <td>1029.0</td>\n",
              "      <td>...</td>\n",
              "      <td>0.0</td>\n",
              "      <td>0.0</td>\n",
              "      <td>0.0</td>\n",
              "      <td>0.0</td>\n",
              "      <td>0.0</td>\n",
              "      <td>0.0</td>\n",
              "      <td>0.0</td>\n",
              "      <td>0.0</td>\n",
              "      <td>0.0</td>\n",
              "      <td>0.0</td>\n",
              "    </tr>\n",
              "  </tbody>\n",
              "</table>\n",
              "<p>5 rows × 6061 columns</p>\n",
              "</div>\n",
              "      <button class=\"colab-df-convert\" onclick=\"convertToInteractive('df-0549f351-98d6-49d5-9fa0-60553e7ef1ff')\"\n",
              "              title=\"Convert this dataframe to an interactive table.\"\n",
              "              style=\"display:none;\">\n",
              "        \n",
              "  <svg xmlns=\"http://www.w3.org/2000/svg\" height=\"24px\"viewBox=\"0 0 24 24\"\n",
              "       width=\"24px\">\n",
              "    <path d=\"M0 0h24v24H0V0z\" fill=\"none\"/>\n",
              "    <path d=\"M18.56 5.44l.94 2.06.94-2.06 2.06-.94-2.06-.94-.94-2.06-.94 2.06-2.06.94zm-11 1L8.5 8.5l.94-2.06 2.06-.94-2.06-.94L8.5 2.5l-.94 2.06-2.06.94zm10 10l.94 2.06.94-2.06 2.06-.94-2.06-.94-.94-2.06-.94 2.06-2.06.94z\"/><path d=\"M17.41 7.96l-1.37-1.37c-.4-.4-.92-.59-1.43-.59-.52 0-1.04.2-1.43.59L10.3 9.45l-7.72 7.72c-.78.78-.78 2.05 0 2.83L4 21.41c.39.39.9.59 1.41.59.51 0 1.02-.2 1.41-.59l7.78-7.78 2.81-2.81c.8-.78.8-2.07 0-2.86zM5.41 20L4 18.59l7.72-7.72 1.47 1.35L5.41 20z\"/>\n",
              "  </svg>\n",
              "      </button>\n",
              "      \n",
              "  <style>\n",
              "    .colab-df-container {\n",
              "      display:flex;\n",
              "      flex-wrap:wrap;\n",
              "      gap: 12px;\n",
              "    }\n",
              "\n",
              "    .colab-df-convert {\n",
              "      background-color: #E8F0FE;\n",
              "      border: none;\n",
              "      border-radius: 50%;\n",
              "      cursor: pointer;\n",
              "      display: none;\n",
              "      fill: #1967D2;\n",
              "      height: 32px;\n",
              "      padding: 0 0 0 0;\n",
              "      width: 32px;\n",
              "    }\n",
              "\n",
              "    .colab-df-convert:hover {\n",
              "      background-color: #E2EBFA;\n",
              "      box-shadow: 0px 1px 2px rgba(60, 64, 67, 0.3), 0px 1px 3px 1px rgba(60, 64, 67, 0.15);\n",
              "      fill: #174EA6;\n",
              "    }\n",
              "\n",
              "    [theme=dark] .colab-df-convert {\n",
              "      background-color: #3B4455;\n",
              "      fill: #D2E3FC;\n",
              "    }\n",
              "\n",
              "    [theme=dark] .colab-df-convert:hover {\n",
              "      background-color: #434B5C;\n",
              "      box-shadow: 0px 1px 3px 1px rgba(0, 0, 0, 0.15);\n",
              "      filter: drop-shadow(0px 1px 2px rgba(0, 0, 0, 0.3));\n",
              "      fill: #FFFFFF;\n",
              "    }\n",
              "  </style>\n",
              "\n",
              "      <script>\n",
              "        const buttonEl =\n",
              "          document.querySelector('#df-0549f351-98d6-49d5-9fa0-60553e7ef1ff button.colab-df-convert');\n",
              "        buttonEl.style.display =\n",
              "          google.colab.kernel.accessAllowed ? 'block' : 'none';\n",
              "\n",
              "        async function convertToInteractive(key) {\n",
              "          const element = document.querySelector('#df-0549f351-98d6-49d5-9fa0-60553e7ef1ff');\n",
              "          const dataTable =\n",
              "            await google.colab.kernel.invokeFunction('convertToInteractive',\n",
              "                                                     [key], {});\n",
              "          if (!dataTable) return;\n",
              "\n",
              "          const docLinkHtml = 'Like what you see? Visit the ' +\n",
              "            '<a target=\"_blank\" href=https://colab.research.google.com/notebooks/data_table.ipynb>data table notebook</a>'\n",
              "            + ' to learn more about interactive tables.';\n",
              "          element.innerHTML = '';\n",
              "          dataTable['output_type'] = 'display_data';\n",
              "          await google.colab.output.renderOutput(dataTable, element);\n",
              "          const docLink = document.createElement('div');\n",
              "          docLink.innerHTML = docLinkHtml;\n",
              "          element.appendChild(docLink);\n",
              "        }\n",
              "      </script>\n",
              "    </div>\n",
              "  </div>\n",
              "  "
            ]
          },
          "metadata": {},
          "execution_count": 7
        }
      ]
    },
    {
      "cell_type": "code",
      "source": [
        "trainDataArray = trainData.to_numpy()\n",
        "trainDataFull = [[0 for x in range(100001)] for y in range(800)]\n",
        "\n",
        "for i in range(800):\n",
        "  for j in range(6061):\n",
        "    x = int(trainDataArray[i][j])\n",
        "    if x is not 0:\n",
        "      trainDataFull[i][x] = 1\n"
      ],
      "metadata": {
        "id": "FVdrXWvGTF20"
      },
      "execution_count": 8,
      "outputs": []
    },
    {
      "cell_type": "code",
      "source": [
        "trainDataTrial = np.array(trainDataFull)\n",
        "trainDataTrial"
      ],
      "metadata": {
        "colab": {
          "base_uri": "https://localhost:8080/"
        },
        "id": "R24x7RJrWx_c",
        "outputId": "fd71f26b-853d-47eb-99a9-d434c0597a11"
      },
      "execution_count": 9,
      "outputs": [
        {
          "output_type": "execute_result",
          "data": {
            "text/plain": [
              "array([[0, 0, 0, ..., 1, 0, 0],\n",
              "       [0, 0, 0, ..., 0, 0, 0],\n",
              "       [0, 0, 0, ..., 0, 0, 0],\n",
              "       ...,\n",
              "       [0, 0, 0, ..., 0, 0, 0],\n",
              "       [0, 0, 0, ..., 0, 0, 0],\n",
              "       [0, 0, 0, ..., 0, 0, 0]])"
            ]
          },
          "metadata": {},
          "execution_count": 9
        }
      ]
    },
    {
      "cell_type": "code",
      "source": [
        "#class\n",
        "label=train['Class'].values\n",
        "label = list(map(int, label))\n",
        "print(label)\n"
      ],
      "metadata": {
        "colab": {
          "base_uri": "https://localhost:8080/"
        },
        "id": "SL5oP1sjszUD",
        "outputId": "e1582236-8833-4206-fc44-7beef890f628"
      },
      "execution_count": 10,
      "outputs": [
        {
          "output_type": "stream",
          "name": "stdout",
          "text": [
            "[0, 0, 0, 0, 0, 0, 0, 0, 0, 0, 0, 0, 0, 0, 0, 0, 0, 0, 1, 0, 0, 0, 0, 0, 0, 0, 0, 1, 0, 0, 0, 1, 0, 1, 0, 0, 0, 0, 0, 0, 0, 0, 0, 0, 0, 0, 0, 0, 0, 0, 0, 0, 0, 0, 0, 0, 0, 0, 0, 1, 0, 1, 0, 0, 0, 0, 0, 0, 0, 0, 0, 1, 0, 0, 0, 0, 0, 1, 0, 0, 0, 0, 0, 0, 0, 0, 0, 0, 0, 0, 0, 0, 0, 0, 0, 0, 0, 0, 0, 0, 1, 0, 0, 0, 0, 0, 0, 1, 0, 0, 0, 0, 0, 0, 0, 0, 0, 0, 0, 0, 0, 0, 0, 0, 0, 0, 0, 0, 0, 0, 0, 0, 0, 1, 0, 0, 0, 0, 0, 0, 0, 0, 0, 0, 0, 0, 0, 0, 0, 0, 0, 0, 0, 0, 0, 0, 0, 0, 0, 0, 0, 0, 0, 1, 0, 1, 0, 0, 0, 0, 0, 0, 0, 0, 0, 0, 0, 0, 1, 0, 0, 0, 0, 0, 0, 0, 0, 0, 0, 0, 0, 0, 0, 0, 0, 0, 0, 0, 0, 0, 0, 0, 0, 1, 0, 0, 0, 0, 0, 0, 0, 1, 0, 0, 0, 0, 0, 0, 0, 0, 0, 0, 0, 0, 0, 0, 0, 0, 0, 0, 1, 0, 0, 1, 0, 0, 0, 0, 0, 1, 0, 1, 0, 0, 0, 0, 0, 0, 0, 0, 0, 0, 0, 1, 0, 0, 0, 0, 0, 0, 0, 0, 0, 1, 0, 0, 1, 0, 0, 1, 0, 1, 0, 0, 0, 0, 0, 0, 0, 0, 0, 1, 0, 0, 1, 1, 0, 0, 0, 0, 0, 0, 0, 1, 0, 0, 1, 1, 0, 1, 0, 0, 0, 0, 0, 0, 0, 0, 0, 0, 0, 0, 0, 0, 1, 0, 0, 0, 0, 0, 0, 0, 0, 0, 0, 0, 0, 0, 0, 1, 0, 1, 0, 0, 0, 0, 1, 0, 1, 0, 0, 0, 0, 0, 0, 0, 0, 0, 0, 1, 0, 0, 0, 0, 0, 0, 0, 0, 0, 0, 0, 1, 0, 0, 0, 0, 0, 0, 0, 0, 0, 0, 0, 0, 1, 0, 0, 0, 1, 1, 1, 0, 0, 0, 0, 0, 0, 0, 0, 0, 0, 0, 0, 0, 0, 0, 0, 0, 0, 0, 0, 0, 0, 0, 1, 0, 0, 0, 0, 0, 0, 0, 0, 0, 0, 0, 0, 0, 0, 0, 0, 0, 0, 0, 1, 0, 0, 0, 0, 0, 1, 0, 0, 0, 1, 0, 0, 0, 0, 0, 0, 0, 0, 1, 0, 0, 0, 0, 0, 0, 0, 0, 1, 0, 0, 0, 0, 0, 1, 0, 0, 0, 0, 1, 0, 0, 0, 0, 0, 0, 0, 1, 0, 0, 0, 0, 0, 0, 0, 0, 0, 0, 0, 1, 0, 0, 0, 0, 0, 0, 0, 0, 0, 0, 0, 0, 0, 0, 0, 0, 0, 0, 0, 0, 0, 1, 0, 0, 0, 0, 0, 0, 0, 0, 0, 0, 0, 0, 0, 0, 0, 0, 0, 0, 0, 0, 0, 0, 0, 0, 0, 0, 0, 0, 0, 0, 0, 0, 0, 1, 0, 0, 1, 0, 0, 0, 0, 0, 1, 0, 0, 0, 0, 0, 0, 0, 0, 0, 0, 1, 0, 0, 0, 0, 0, 1, 0, 0, 0, 0, 0, 0, 1, 0, 0, 0, 0, 0, 0, 0, 0, 0, 0, 0, 0, 0, 0, 0, 0, 0, 1, 0, 0, 0, 0, 0, 0, 0, 0, 0, 0, 0, 0, 0, 0, 0, 0, 0, 0, 0, 1, 0, 0, 0, 0, 0, 0, 0, 0, 1, 0, 0, 0, 0, 0, 0, 0, 0, 0, 0, 0, 0, 0, 0, 0, 0, 0, 0, 0, 0, 0, 0, 0, 0, 0, 0, 0, 0, 0, 0, 0, 0, 0, 0, 0, 0, 0, 0, 0, 0, 0, 0, 0, 0, 0, 0, 0, 0, 0, 0, 0, 1, 0, 1, 0, 1, 0, 0, 0, 0, 0, 0, 0, 0, 0, 0, 0, 0, 0, 0, 0, 0, 0, 0, 0, 0, 0, 0, 0, 0, 0, 0, 0, 0, 0, 0, 0, 0, 0, 0, 0, 0, 0, 0, 1, 1, 0, 0, 0, 0, 0, 0, 0, 1, 0, 1, 0, 1, 0, 0, 0, 0, 0, 0, 0, 0, 0, 0, 1, 0, 0, 0, 0, 0, 1, 0, 0, 0, 0, 0, 0, 0, 0, 0, 0, 0, 0, 0, 0, 0, 0, 0, 0, 0, 0, 0, 0, 0, 0, 0, 0, 1, 0, 0, 1, 0, 0, 0, 0, 0, 0, 0, 0, 0, 1, 0, 0, 0, 0, 0, 0, 1, 0, 0, 0, 0, 0, 0, 0, 1]\n"
          ]
        }
      ]
    },
    {
      "cell_type": "markdown",
      "source": [
        "Test Data"
      ],
      "metadata": {
        "id": "MgaX3pcqXJvI"
      }
    },
    {
      "cell_type": "code",
      "source": [
        "test = pd.read_csv(\"test_2.txt\", sep = \"#EOF\", header= None, engine='python')\n",
        "test.columns = ['Features']\n",
        "test.Features"
      ],
      "metadata": {
        "colab": {
          "base_uri": "https://localhost:8080/"
        },
        "id": "9o5HmLsCXJa0",
        "outputId": "bbd8e605-1772-4aa1-dc59-df3daf2f95c7"
      },
      "execution_count": 12,
      "outputs": [
        {
          "output_type": "execute_result",
          "data": {
            "text/plain": [
              "0      354 386 517 627 646 764 870 915 1364 1502 1731...\n",
              "1      23 225 360 394 433 445 1021 1205 1861 2036 208...\n",
              "2      103 144 284 309 393 843 915 936 983 1183 1350 ...\n",
              "3      13 174 300 307 430 523 546 616 861 1108 1117 1...\n",
              "4      585 767 783 1176 1214 1224 1256 1303 1605 2102...\n",
              "                             ...                        \n",
              "345    43 50 280 316 462 486 549 588 1048 1115 1154 1...\n",
              "346    24 26 30 87 144 157 334 336 548 581 663 1008 1...\n",
              "347    56 61 91 106 321 478 540 688 781 816 852 914 1...\n",
              "348    9 191 378 379 436 482 575 613 766 914 954 1156...\n",
              "349    10 56 69 183 369 400 474 833 848 1186 1223 139...\n",
              "Name: Features, Length: 350, dtype: object"
            ]
          },
          "metadata": {},
          "execution_count": 12
        }
      ]
    },
    {
      "cell_type": "code",
      "source": [
        "testData = test.Features.str.split(expand=True).astype(float)\n",
        "testData.apply(lambda x: x.replace(np.NaN, 0, inplace = True))\n",
        "testData.head()"
      ],
      "metadata": {
        "colab": {
          "base_uri": "https://localhost:8080/",
          "height": 299
        },
        "id": "nk1YFWeparHE",
        "outputId": "f1ccedb3-2387-44b0-8dee-8209497ca6c4"
      },
      "execution_count": 13,
      "outputs": [
        {
          "output_type": "execute_result",
          "data": {
            "text/plain": [
              "    0      1      2       3       4       5       6       7       8     \\\n",
              "0  354.0  386.0  517.0   627.0   646.0   764.0   870.0   915.0  1364.0   \n",
              "1   23.0  225.0  360.0   394.0   433.0   445.0  1021.0  1205.0  1861.0   \n",
              "2  103.0  144.0  284.0   309.0   393.0   843.0   915.0   936.0   983.0   \n",
              "3   13.0  174.0  300.0   307.0   430.0   523.0   546.0   616.0   861.0   \n",
              "4  585.0  767.0  783.0  1176.0  1214.0  1224.0  1256.0  1303.0  1605.0   \n",
              "\n",
              "     9     ...  4847  4848  4849  4850  4851  4852  4853  4854  4855  4856  \n",
              "0  1502.0  ...   0.0   0.0   0.0   0.0   0.0   0.0   0.0   0.0   0.0   0.0  \n",
              "1  2036.0  ...   0.0   0.0   0.0   0.0   0.0   0.0   0.0   0.0   0.0   0.0  \n",
              "2  1183.0  ...   0.0   0.0   0.0   0.0   0.0   0.0   0.0   0.0   0.0   0.0  \n",
              "3  1108.0  ...   0.0   0.0   0.0   0.0   0.0   0.0   0.0   0.0   0.0   0.0  \n",
              "4  2102.0  ...   0.0   0.0   0.0   0.0   0.0   0.0   0.0   0.0   0.0   0.0  \n",
              "\n",
              "[5 rows x 4857 columns]"
            ],
            "text/html": [
              "\n",
              "  <div id=\"df-55e62b54-5043-4acb-80dd-dfb4189013ca\">\n",
              "    <div class=\"colab-df-container\">\n",
              "      <div>\n",
              "<style scoped>\n",
              "    .dataframe tbody tr th:only-of-type {\n",
              "        vertical-align: middle;\n",
              "    }\n",
              "\n",
              "    .dataframe tbody tr th {\n",
              "        vertical-align: top;\n",
              "    }\n",
              "\n",
              "    .dataframe thead th {\n",
              "        text-align: right;\n",
              "    }\n",
              "</style>\n",
              "<table border=\"1\" class=\"dataframe\">\n",
              "  <thead>\n",
              "    <tr style=\"text-align: right;\">\n",
              "      <th></th>\n",
              "      <th>0</th>\n",
              "      <th>1</th>\n",
              "      <th>2</th>\n",
              "      <th>3</th>\n",
              "      <th>4</th>\n",
              "      <th>5</th>\n",
              "      <th>6</th>\n",
              "      <th>7</th>\n",
              "      <th>8</th>\n",
              "      <th>9</th>\n",
              "      <th>...</th>\n",
              "      <th>4847</th>\n",
              "      <th>4848</th>\n",
              "      <th>4849</th>\n",
              "      <th>4850</th>\n",
              "      <th>4851</th>\n",
              "      <th>4852</th>\n",
              "      <th>4853</th>\n",
              "      <th>4854</th>\n",
              "      <th>4855</th>\n",
              "      <th>4856</th>\n",
              "    </tr>\n",
              "  </thead>\n",
              "  <tbody>\n",
              "    <tr>\n",
              "      <th>0</th>\n",
              "      <td>354.0</td>\n",
              "      <td>386.0</td>\n",
              "      <td>517.0</td>\n",
              "      <td>627.0</td>\n",
              "      <td>646.0</td>\n",
              "      <td>764.0</td>\n",
              "      <td>870.0</td>\n",
              "      <td>915.0</td>\n",
              "      <td>1364.0</td>\n",
              "      <td>1502.0</td>\n",
              "      <td>...</td>\n",
              "      <td>0.0</td>\n",
              "      <td>0.0</td>\n",
              "      <td>0.0</td>\n",
              "      <td>0.0</td>\n",
              "      <td>0.0</td>\n",
              "      <td>0.0</td>\n",
              "      <td>0.0</td>\n",
              "      <td>0.0</td>\n",
              "      <td>0.0</td>\n",
              "      <td>0.0</td>\n",
              "    </tr>\n",
              "    <tr>\n",
              "      <th>1</th>\n",
              "      <td>23.0</td>\n",
              "      <td>225.0</td>\n",
              "      <td>360.0</td>\n",
              "      <td>394.0</td>\n",
              "      <td>433.0</td>\n",
              "      <td>445.0</td>\n",
              "      <td>1021.0</td>\n",
              "      <td>1205.0</td>\n",
              "      <td>1861.0</td>\n",
              "      <td>2036.0</td>\n",
              "      <td>...</td>\n",
              "      <td>0.0</td>\n",
              "      <td>0.0</td>\n",
              "      <td>0.0</td>\n",
              "      <td>0.0</td>\n",
              "      <td>0.0</td>\n",
              "      <td>0.0</td>\n",
              "      <td>0.0</td>\n",
              "      <td>0.0</td>\n",
              "      <td>0.0</td>\n",
              "      <td>0.0</td>\n",
              "    </tr>\n",
              "    <tr>\n",
              "      <th>2</th>\n",
              "      <td>103.0</td>\n",
              "      <td>144.0</td>\n",
              "      <td>284.0</td>\n",
              "      <td>309.0</td>\n",
              "      <td>393.0</td>\n",
              "      <td>843.0</td>\n",
              "      <td>915.0</td>\n",
              "      <td>936.0</td>\n",
              "      <td>983.0</td>\n",
              "      <td>1183.0</td>\n",
              "      <td>...</td>\n",
              "      <td>0.0</td>\n",
              "      <td>0.0</td>\n",
              "      <td>0.0</td>\n",
              "      <td>0.0</td>\n",
              "      <td>0.0</td>\n",
              "      <td>0.0</td>\n",
              "      <td>0.0</td>\n",
              "      <td>0.0</td>\n",
              "      <td>0.0</td>\n",
              "      <td>0.0</td>\n",
              "    </tr>\n",
              "    <tr>\n",
              "      <th>3</th>\n",
              "      <td>13.0</td>\n",
              "      <td>174.0</td>\n",
              "      <td>300.0</td>\n",
              "      <td>307.0</td>\n",
              "      <td>430.0</td>\n",
              "      <td>523.0</td>\n",
              "      <td>546.0</td>\n",
              "      <td>616.0</td>\n",
              "      <td>861.0</td>\n",
              "      <td>1108.0</td>\n",
              "      <td>...</td>\n",
              "      <td>0.0</td>\n",
              "      <td>0.0</td>\n",
              "      <td>0.0</td>\n",
              "      <td>0.0</td>\n",
              "      <td>0.0</td>\n",
              "      <td>0.0</td>\n",
              "      <td>0.0</td>\n",
              "      <td>0.0</td>\n",
              "      <td>0.0</td>\n",
              "      <td>0.0</td>\n",
              "    </tr>\n",
              "    <tr>\n",
              "      <th>4</th>\n",
              "      <td>585.0</td>\n",
              "      <td>767.0</td>\n",
              "      <td>783.0</td>\n",
              "      <td>1176.0</td>\n",
              "      <td>1214.0</td>\n",
              "      <td>1224.0</td>\n",
              "      <td>1256.0</td>\n",
              "      <td>1303.0</td>\n",
              "      <td>1605.0</td>\n",
              "      <td>2102.0</td>\n",
              "      <td>...</td>\n",
              "      <td>0.0</td>\n",
              "      <td>0.0</td>\n",
              "      <td>0.0</td>\n",
              "      <td>0.0</td>\n",
              "      <td>0.0</td>\n",
              "      <td>0.0</td>\n",
              "      <td>0.0</td>\n",
              "      <td>0.0</td>\n",
              "      <td>0.0</td>\n",
              "      <td>0.0</td>\n",
              "    </tr>\n",
              "  </tbody>\n",
              "</table>\n",
              "<p>5 rows × 4857 columns</p>\n",
              "</div>\n",
              "      <button class=\"colab-df-convert\" onclick=\"convertToInteractive('df-55e62b54-5043-4acb-80dd-dfb4189013ca')\"\n",
              "              title=\"Convert this dataframe to an interactive table.\"\n",
              "              style=\"display:none;\">\n",
              "        \n",
              "  <svg xmlns=\"http://www.w3.org/2000/svg\" height=\"24px\"viewBox=\"0 0 24 24\"\n",
              "       width=\"24px\">\n",
              "    <path d=\"M0 0h24v24H0V0z\" fill=\"none\"/>\n",
              "    <path d=\"M18.56 5.44l.94 2.06.94-2.06 2.06-.94-2.06-.94-.94-2.06-.94 2.06-2.06.94zm-11 1L8.5 8.5l.94-2.06 2.06-.94-2.06-.94L8.5 2.5l-.94 2.06-2.06.94zm10 10l.94 2.06.94-2.06 2.06-.94-2.06-.94-.94-2.06-.94 2.06-2.06.94z\"/><path d=\"M17.41 7.96l-1.37-1.37c-.4-.4-.92-.59-1.43-.59-.52 0-1.04.2-1.43.59L10.3 9.45l-7.72 7.72c-.78.78-.78 2.05 0 2.83L4 21.41c.39.39.9.59 1.41.59.51 0 1.02-.2 1.41-.59l7.78-7.78 2.81-2.81c.8-.78.8-2.07 0-2.86zM5.41 20L4 18.59l7.72-7.72 1.47 1.35L5.41 20z\"/>\n",
              "  </svg>\n",
              "      </button>\n",
              "      \n",
              "  <style>\n",
              "    .colab-df-container {\n",
              "      display:flex;\n",
              "      flex-wrap:wrap;\n",
              "      gap: 12px;\n",
              "    }\n",
              "\n",
              "    .colab-df-convert {\n",
              "      background-color: #E8F0FE;\n",
              "      border: none;\n",
              "      border-radius: 50%;\n",
              "      cursor: pointer;\n",
              "      display: none;\n",
              "      fill: #1967D2;\n",
              "      height: 32px;\n",
              "      padding: 0 0 0 0;\n",
              "      width: 32px;\n",
              "    }\n",
              "\n",
              "    .colab-df-convert:hover {\n",
              "      background-color: #E2EBFA;\n",
              "      box-shadow: 0px 1px 2px rgba(60, 64, 67, 0.3), 0px 1px 3px 1px rgba(60, 64, 67, 0.15);\n",
              "      fill: #174EA6;\n",
              "    }\n",
              "\n",
              "    [theme=dark] .colab-df-convert {\n",
              "      background-color: #3B4455;\n",
              "      fill: #D2E3FC;\n",
              "    }\n",
              "\n",
              "    [theme=dark] .colab-df-convert:hover {\n",
              "      background-color: #434B5C;\n",
              "      box-shadow: 0px 1px 3px 1px rgba(0, 0, 0, 0.15);\n",
              "      filter: drop-shadow(0px 1px 2px rgba(0, 0, 0, 0.3));\n",
              "      fill: #FFFFFF;\n",
              "    }\n",
              "  </style>\n",
              "\n",
              "      <script>\n",
              "        const buttonEl =\n",
              "          document.querySelector('#df-55e62b54-5043-4acb-80dd-dfb4189013ca button.colab-df-convert');\n",
              "        buttonEl.style.display =\n",
              "          google.colab.kernel.accessAllowed ? 'block' : 'none';\n",
              "\n",
              "        async function convertToInteractive(key) {\n",
              "          const element = document.querySelector('#df-55e62b54-5043-4acb-80dd-dfb4189013ca');\n",
              "          const dataTable =\n",
              "            await google.colab.kernel.invokeFunction('convertToInteractive',\n",
              "                                                     [key], {});\n",
              "          if (!dataTable) return;\n",
              "\n",
              "          const docLinkHtml = 'Like what you see? Visit the ' +\n",
              "            '<a target=\"_blank\" href=https://colab.research.google.com/notebooks/data_table.ipynb>data table notebook</a>'\n",
              "            + ' to learn more about interactive tables.';\n",
              "          element.innerHTML = '';\n",
              "          dataTable['output_type'] = 'display_data';\n",
              "          await google.colab.output.renderOutput(dataTable, element);\n",
              "          const docLink = document.createElement('div');\n",
              "          docLink.innerHTML = docLinkHtml;\n",
              "          element.appendChild(docLink);\n",
              "        }\n",
              "      </script>\n",
              "    </div>\n",
              "  </div>\n",
              "  "
            ]
          },
          "metadata": {},
          "execution_count": 13
        }
      ]
    },
    {
      "cell_type": "code",
      "source": [
        "testDataArray = testData.to_numpy()\n",
        "testDataFull = [[0 for x in range(100001)] for y in range(350)]\n",
        "\n",
        "for i in range(350):\n",
        "  for j in range(4857):\n",
        "    x = int(testDataArray[i][j])\n",
        "    if x is not 0:\n",
        "      testDataFull[i][x] = 1"
      ],
      "metadata": {
        "id": "6K4VBf4oa_PL"
      },
      "execution_count": 14,
      "outputs": []
    },
    {
      "cell_type": "code",
      "source": [
        "testDataTrial = np.array(testDataFull)\n",
        "testDataTrial"
      ],
      "metadata": {
        "colab": {
          "base_uri": "https://localhost:8080/"
        },
        "id": "cG5QXRi7bWzV",
        "outputId": "f5b9407e-b4a3-4e7d-90bf-085a9fe11e5f"
      },
      "execution_count": 15,
      "outputs": [
        {
          "output_type": "execute_result",
          "data": {
            "text/plain": [
              "array([[0, 0, 0, ..., 0, 0, 0],\n",
              "       [0, 0, 0, ..., 0, 0, 0],\n",
              "       [0, 0, 0, ..., 0, 0, 0],\n",
              "       ...,\n",
              "       [0, 0, 0, ..., 0, 0, 0],\n",
              "       [0, 0, 0, ..., 1, 0, 0],\n",
              "       [0, 0, 0, ..., 0, 0, 0]])"
            ]
          },
          "metadata": {},
          "execution_count": 15
        }
      ]
    },
    {
      "cell_type": "markdown",
      "source": [
        "# Applying Chi Square Feature Selection on classifiers"
      ],
      "metadata": {
        "id": "mEjokWlbz4rG"
      }
    },
    {
      "cell_type": "code",
      "source": [
        "kbest = SelectKBest(score_func=chi2, k=30000)\n",
        "reduced_train = kbest.fit_transform(trainDataTrial, label)"
      ],
      "metadata": {
        "id": "JjvIWOItz3rs"
      },
      "execution_count": 26,
      "outputs": []
    },
    {
      "cell_type": "code",
      "source": [
        "X_train, X_test, y_train, y_test = train_test_split(reduced_train, label, test_size=0.2, random_state=27)"
      ],
      "metadata": {
        "id": "vbxdqTsQ1uph"
      },
      "execution_count": 27,
      "outputs": []
    },
    {
      "cell_type": "markdown",
      "source": [
        "Decision Tree Classifier"
      ],
      "metadata": {
        "id": "PLQlGPj-4oeB"
      }
    },
    {
      "cell_type": "code",
      "source": [
        "clf = DecisionTreeClassifier(random_state = 42)\n",
        "clf.fit(X_train, y_train)\n",
        "prediction_decision_tree = clf.predict(X_test)\n",
        "prediction_decision_tree"
      ],
      "metadata": {
        "colab": {
          "base_uri": "https://localhost:8080/"
        },
        "id": "J45_nAeo2VWw",
        "outputId": "a53addfb-f722-4b1f-c665-e02633d3d511"
      },
      "execution_count": 28,
      "outputs": [
        {
          "output_type": "execute_result",
          "data": {
            "text/plain": [
              "array([0, 0, 0, 0, 0, 0, 0, 0, 0, 0, 0, 0, 0, 0, 0, 0, 1, 0, 0, 0, 0, 0,\n",
              "       0, 0, 0, 0, 0, 0, 0, 1, 1, 0, 1, 0, 0, 0, 0, 0, 0, 1, 0, 0, 0, 1,\n",
              "       0, 0, 0, 0, 0, 0, 0, 0, 0, 0, 0, 0, 1, 0, 0, 0, 0, 0, 0, 0, 0, 0,\n",
              "       0, 0, 0, 0, 1, 0, 0, 1, 0, 0, 0, 0, 0, 0, 0, 0, 0, 0, 0, 0, 0, 0,\n",
              "       0, 0, 0, 0, 0, 0, 0, 1, 0, 0, 0, 0, 0, 0, 0, 1, 0, 0, 0, 0, 0, 0,\n",
              "       1, 0, 0, 0, 0, 0, 0, 0, 0, 0, 0, 0, 0, 0, 0, 0, 0, 1, 0, 0, 0, 0,\n",
              "       0, 0, 0, 0, 0, 0, 0, 0, 0, 0, 0, 0, 0, 0, 0, 0, 0, 0, 0, 0, 0, 0,\n",
              "       0, 0, 0, 0, 0, 0])"
            ]
          },
          "metadata": {},
          "execution_count": 28
        }
      ]
    },
    {
      "cell_type": "markdown",
      "source": [
        "Linear SVM Classifier"
      ],
      "metadata": {
        "id": "0T_xPrUy4rmS"
      }
    },
    {
      "cell_type": "code",
      "source": [
        "linsvc = LinearSVC(random_state=27)\n",
        "linsvc.fit(X_train, y_train)\n",
        "prediction_SVM = linsvc.predict(X_test)\n",
        "prediction_SVM"
      ],
      "metadata": {
        "colab": {
          "base_uri": "https://localhost:8080/"
        },
        "id": "GW_eqq3k4x7i",
        "outputId": "74b908f7-3292-4f5b-e254-abca620b85d6"
      },
      "execution_count": 29,
      "outputs": [
        {
          "output_type": "execute_result",
          "data": {
            "text/plain": [
              "array([0, 0, 0, 0, 0, 0, 0, 0, 0, 0, 0, 0, 0, 0, 0, 0, 0, 0, 0, 0, 0, 0,\n",
              "       0, 0, 0, 0, 0, 0, 0, 1, 1, 0, 1, 0, 0, 0, 0, 0, 0, 1, 0, 0, 0, 0,\n",
              "       0, 0, 0, 0, 0, 0, 0, 0, 0, 0, 0, 0, 0, 0, 0, 0, 0, 0, 0, 0, 0, 1,\n",
              "       0, 0, 0, 0, 1, 0, 0, 0, 0, 0, 0, 0, 0, 0, 0, 0, 0, 0, 0, 0, 0, 0,\n",
              "       0, 0, 0, 0, 0, 0, 0, 0, 0, 0, 0, 0, 0, 0, 0, 1, 0, 0, 0, 0, 0, 0,\n",
              "       0, 0, 0, 0, 0, 0, 0, 0, 0, 0, 0, 0, 0, 0, 0, 0, 0, 1, 0, 0, 0, 0,\n",
              "       0, 0, 0, 0, 0, 0, 0, 0, 0, 0, 0, 0, 0, 0, 0, 0, 0, 0, 0, 0, 0, 0,\n",
              "       0, 0, 0, 0, 0, 0])"
            ]
          },
          "metadata": {},
          "execution_count": 29
        }
      ]
    },
    {
      "cell_type": "markdown",
      "source": [
        "Logistic Regression Classifier"
      ],
      "metadata": {
        "id": "F1C0fTtU5Xzg"
      }
    },
    {
      "cell_type": "code",
      "source": [
        "x = {0:1, 1:9}\n",
        "lr = LogisticRegression(random_state=13, class_weight=x)\n",
        "lr.fit(X_train, y_train)\n",
        "prediction_logistic_regression = lr.predict(X_test)\n",
        "prediction_logistic_regression"
      ],
      "metadata": {
        "colab": {
          "base_uri": "https://localhost:8080/"
        },
        "id": "-sLgaEDT5Xau",
        "outputId": "a8bdc804-7913-4046-8891-0ddc890ab829"
      },
      "execution_count": 30,
      "outputs": [
        {
          "output_type": "execute_result",
          "data": {
            "text/plain": [
              "array([0, 0, 0, 0, 0, 0, 0, 0, 0, 0, 0, 0, 0, 0, 0, 0, 1, 0, 0, 0, 0, 0,\n",
              "       0, 0, 0, 0, 0, 0, 0, 1, 1, 0, 1, 0, 0, 0, 0, 0, 0, 1, 0, 0, 0, 0,\n",
              "       0, 0, 0, 0, 0, 0, 0, 0, 0, 0, 0, 0, 0, 0, 0, 0, 0, 0, 0, 0, 0, 1,\n",
              "       0, 0, 0, 0, 1, 0, 0, 1, 0, 0, 0, 0, 0, 0, 1, 0, 0, 0, 0, 0, 0, 0,\n",
              "       0, 0, 0, 0, 0, 0, 0, 0, 0, 0, 0, 0, 0, 0, 0, 1, 0, 0, 0, 0, 0, 0,\n",
              "       1, 0, 0, 0, 0, 0, 0, 0, 0, 0, 0, 0, 0, 0, 0, 0, 0, 1, 0, 0, 0, 0,\n",
              "       0, 0, 0, 0, 0, 0, 0, 0, 0, 0, 0, 0, 0, 0, 0, 0, 0, 0, 0, 0, 0, 0,\n",
              "       0, 0, 0, 0, 0, 0])"
            ]
          },
          "metadata": {},
          "execution_count": 30
        }
      ]
    },
    {
      "cell_type": "markdown",
      "source": [
        "Naive Bayes Classifier"
      ],
      "metadata": {
        "id": "cUT0oCVP53nr"
      }
    },
    {
      "cell_type": "code",
      "source": [
        "bnb = BernoulliNB(alpha=.75)\n",
        "bnb.fit(X_train, y_train)\n",
        "prediction_nb = bnb.predict(X_test)\n",
        "prediction_nb"
      ],
      "metadata": {
        "colab": {
          "base_uri": "https://localhost:8080/"
        },
        "id": "3mvqHOeO53Sl",
        "outputId": "c44ee31e-97c9-4262-ec87-8e62c361bea3"
      },
      "execution_count": 31,
      "outputs": [
        {
          "output_type": "execute_result",
          "data": {
            "text/plain": [
              "array([0, 0, 0, 0, 0, 0, 0, 0, 0, 0, 0, 0, 0, 0, 0, 0, 1, 0, 0, 0, 0, 0,\n",
              "       0, 0, 0, 0, 0, 0, 0, 0, 0, 0, 0, 0, 0, 0, 0, 0, 0, 0, 0, 0, 0, 0,\n",
              "       0, 0, 0, 0, 0, 0, 0, 0, 0, 0, 0, 0, 0, 1, 0, 1, 0, 0, 0, 0, 0, 0,\n",
              "       0, 0, 0, 0, 0, 0, 0, 0, 0, 0, 0, 0, 0, 0, 0, 1, 0, 0, 1, 0, 0, 0,\n",
              "       0, 0, 0, 0, 0, 0, 0, 0, 0, 0, 1, 0, 0, 0, 0, 0, 0, 0, 0, 0, 0, 0,\n",
              "       0, 0, 0, 0, 0, 0, 0, 0, 0, 0, 0, 0, 0, 1, 0, 0, 0, 0, 0, 0, 1, 0,\n",
              "       0, 1, 0, 0, 0, 0, 0, 0, 0, 0, 0, 0, 0, 0, 0, 0, 0, 0, 0, 0, 0, 0,\n",
              "       0, 0, 0, 0, 0, 0])"
            ]
          },
          "metadata": {},
          "execution_count": 31
        }
      ]
    },
    {
      "cell_type": "markdown",
      "source": [
        "F1 Score"
      ],
      "metadata": {
        "id": "vZcrzVWW8TeR"
      }
    },
    {
      "cell_type": "code",
      "source": [
        "f1ScoreDTC = f1_score(y_test, prediction_decision_tree)\n",
        "f1ScoreSVC = f1_score(y_test, prediction_SVM)\n",
        "f1ScoreLR = f1_score(y_test, prediction_logistic_regression)\n",
        "f1ScoreNB = f1_score(y_test, prediction_nb)\n",
        "\n",
        "print('F1 Score- Decision Tree Classifier: ', f1ScoreDTC)\n",
        "print('F1 Score- Linear SVM Classifier: ', f1ScoreSVC)\n",
        "print('F1 Score- Logistic Regression Classifier: ', f1ScoreLR)\n",
        "print('F1 Score- Naive Bayes Classifier: ', f1ScoreNB)"
      ],
      "metadata": {
        "colab": {
          "base_uri": "https://localhost:8080/"
        },
        "id": "wMLkScht8Nm-",
        "outputId": "8fad9e3d-784b-4af5-8ec2-9c5cc7a1d3a6"
      },
      "execution_count": 33,
      "outputs": [
        {
          "output_type": "stream",
          "name": "stdout",
          "text": [
            "F1 Score- Decision Tree Classifier:  0.588235294117647\n",
            "F1 Score- Linear SVM Classifier:  0.48275862068965514\n",
            "F1 Score- Logistic Regression Classifier:  0.6666666666666667\n",
            "F1 Score- Naive Bayes Classifier:  0.26666666666666666\n"
          ]
        }
      ]
    },
    {
      "cell_type": "code",
      "source": [
        "data = {'Decision Tree':f1ScoreDTC, 'Linear SVM':f1ScoreSVC, 'Logistic Regression':f1ScoreLR, 'Naive Bayes Classifier':f1ScoreNB}\n",
        "x = list(data.keys())\n",
        "y = list(data.values())\n",
        "  \n",
        "fig = plt.figure(figsize = (10, 5))\n",
        "plt.title(\"F1 Score Chart\") \n",
        "\n",
        "\n",
        "plt.scatter(x, y)\n",
        "plt.show()"
      ],
      "metadata": {
        "colab": {
          "base_uri": "https://localhost:8080/",
          "height": 336
        },
        "id": "vhD8G7rczTvb",
        "outputId": "eb991504-23f3-4bb2-c173-01420b2259a6"
      },
      "execution_count": 112,
      "outputs": [
        {
          "output_type": "display_data",
          "data": {
            "text/plain": [
              "<Figure size 720x360 with 1 Axes>"
            ],
            "image/png": "[encoded data removed]"
          },
          "metadata": {
            "needs_background": "light"
          }
        }
      ]
    },
    {
      "cell_type": "markdown",
      "source": [
        "Accuracy Score"
      ],
      "metadata": {
        "id": "Wzl2mfDu_-ip"
      }
    },
    {
      "cell_type": "code",
      "source": [
        "accuracyDTC = accuracy_score(prediction_decision_tree, y_test)\n",
        "accuracySVC = accuracy_score(prediction_SVM, y_test)\n",
        "accuracyLR = accuracy_score(prediction_logistic_regression, y_test)\n",
        "accuracyNB = accuracy_score(prediction_nb, y_test)\n",
        "\n",
        "print('Accuracy Score- Decision Tree Classifier: ', accuracyDTC)\n",
        "print('Accuracy Score- Linear SVM Classifier: ', accuracySVC)\n",
        "print('Accuracy Score- Logistic Regression Classifier: ', accuracyLR)\n",
        "print('Accuracy Score- Naive Bayes Classifier: ', accuracyNB)"
      ],
      "metadata": {
        "colab": {
          "base_uri": "https://localhost:8080/"
        },
        "id": "ZxFMBWZ6_-L3",
        "outputId": "fbca17f0-2759-40a4-913c-e007d6e51449"
      },
      "execution_count": 36,
      "outputs": [
        {
          "output_type": "stream",
          "name": "stdout",
          "text": [
            "Accuracy Score- Decision Tree Classifier:  0.9125\n",
            "Accuracy Score- Linear SVM Classifier:  0.90625\n",
            "Accuracy Score- Logistic Regression Classifier:  0.93125\n",
            "Accuracy Score- Naive Bayes Classifier:  0.8625\n"
          ]
        }
      ]
    },
    {
      "cell_type": "code",
      "source": [
        "data = {'Decision Tree':accuracyDTC, 'Linear SVM':accuracySVC, 'Logistic Regression':accuracyLR, 'Naive Bayes Classifier':accuracyNB}\n",
        "x = list(data.keys())\n",
        "y = list(data.values())\n",
        "  \n",
        "fig = plt.figure(figsize = (10, 5))\n",
        "plt.title(\"Accuracy Score Chart\") \n",
        "\n",
        "plt.scatter(x, y)\n",
        "plt.show()"
      ],
      "metadata": {
        "colab": {
          "base_uri": "https://localhost:8080/",
          "height": 336
        },
        "id": "2Jecm93A3xSD",
        "outputId": "7aa8886b-1763-4a0d-9179-162f35f40ed1"
      },
      "execution_count": 111,
      "outputs": [
        {
          "output_type": "display_data",
          "data": {
            "text/plain": [
              "<Figure size 720x360 with 1 Axes>"
            ],
            "image/png": "[encoded data removed]"
          },
          "metadata": {
            "needs_background": "light"
          }
        }
      ]
    },
    {
      "cell_type": "markdown",
      "source": [
        "# Applying SVD Feature Selection on classifiers"
      ],
      "metadata": {
        "id": "7570yVajEO93"
      }
    },
    {
      "cell_type": "code",
      "source": [
        "svd = TruncatedSVD(n_components=800, random_state=27, n_iter = 30)\n",
        "reducedTrainSVD = svd.fit_transform(trainDataTrial, label)\n",
        "pd.DataFrame(reducedTrainSVD).head()"
      ],
      "metadata": {
        "colab": {
          "base_uri": "https://localhost:8080/",
          "height": 299
        },
        "id": "m6iy3CxvEQzD",
        "outputId": "c0069397-f53d-423f-9c3f-919941933f9c"
      },
      "execution_count": 37,
      "outputs": [
        {
          "output_type": "execute_result",
          "data": {
            "text/plain": [
              "        0         1         2         3         4         5         6    \\\n",
              "0  4.209866 -0.733075 -1.570752 -0.766397 -0.393438  0.175756  0.265072   \n",
              "1  3.864993 -0.452234 -1.629992 -1.057283 -0.210888 -0.019759  0.274282   \n",
              "2  3.767743 -0.568984 -1.656248 -0.999098 -0.223674  0.103720  0.485973   \n",
              "3  3.895825 -0.485487 -1.733745 -0.907969 -0.307753 -0.088896  0.671033   \n",
              "4  3.881688 -0.209835 -1.515436 -0.900967 -0.206142  0.018235  0.451900   \n",
              "\n",
              "        7         8         9    ...       790       791       792       793  \\\n",
              "0  0.055903  0.468170 -0.161659  ...  0.271762 -0.571365 -0.434348  0.350460   \n",
              "1 -0.045534  0.042677 -0.043942  ... -0.263202  2.533338 -0.065902  0.010651   \n",
              "2  0.119731  0.177672 -0.139598  ...  1.358940  0.780513  0.126284  0.047748   \n",
              "3 -0.141934  0.011025  0.076621  ...  1.272386  2.516159 -0.041876  0.826883   \n",
              "4  0.097368  0.044001 -0.103369  ... -1.741662 -0.127360  0.996954  0.499876   \n",
              "\n",
              "        794       795       796       797       798       799  \n",
              "0 -1.675651  0.073089  0.301416  0.029130 -1.115207  1.057512  \n",
              "1 -0.153385  1.523213 -0.665576 -1.098252 -1.519661 -1.041647  \n",
              "2  1.430632  0.019129 -1.060616 -0.760787 -0.449512 -1.703933  \n",
              "3  0.879549 -1.138676 -1.049456 -1.259871  0.125262 -1.031144  \n",
              "4  0.452512 -0.211526 -0.145132  0.082420 -0.034287  0.572985  \n",
              "\n",
              "[5 rows x 800 columns]"
            ],
            "text/html": [
              "\n",
              "  <div id=\"df-93c7529b-2028-44cb-bbed-5a4d21d651eb\">\n",
              "    <div class=\"colab-df-container\">\n",
              "      <div>\n",
              "<style scoped>\n",
              "    .dataframe tbody tr th:only-of-type {\n",
              "        vertical-align: middle;\n",
              "    }\n",
              "\n",
              "    .dataframe tbody tr th {\n",
              "        vertical-align: top;\n",
              "    }\n",
              "\n",
              "    .dataframe thead th {\n",
              "        text-align: right;\n",
              "    }\n",
              "</style>\n",
              "<table border=\"1\" class=\"dataframe\">\n",
              "  <thead>\n",
              "    <tr style=\"text-align: right;\">\n",
              "      <th></th>\n",
              "      <th>0</th>\n",
              "      <th>1</th>\n",
              "      <th>2</th>\n",
              "      <th>3</th>\n",
              "      <th>4</th>\n",
              "      <th>5</th>\n",
              "      <th>6</th>\n",
              "      <th>7</th>\n",
              "      <th>8</th>\n",
              "      <th>9</th>\n",
              "      <th>...</th>\n",
              "      <th>790</th>\n",
              "      <th>791</th>\n",
              "      <th>792</th>\n",
              "      <th>793</th>\n",
              "      <th>794</th>\n",
              "      <th>795</th>\n",
              "      <th>796</th>\n",
              "      <th>797</th>\n",
              "      <th>798</th>\n",
              "      <th>799</th>\n",
              "    </tr>\n",
              "  </thead>\n",
              "  <tbody>\n",
              "    <tr>\n",
              "      <th>0</th>\n",
              "      <td>4.209866</td>\n",
              "      <td>-0.733075</td>\n",
              "      <td>-1.570752</td>\n",
              "      <td>-0.766397</td>\n",
              "      <td>-0.393438</td>\n",
              "      <td>0.175756</td>\n",
              "      <td>0.265072</td>\n",
              "      <td>0.055903</td>\n",
              "      <td>0.468170</td>\n",
              "      <td>-0.161659</td>\n",
              "      <td>...</td>\n",
              "      <td>0.271762</td>\n",
              "      <td>-0.571365</td>\n",
              "      <td>-0.434348</td>\n",
              "      <td>0.350460</td>\n",
              "      <td>-1.675651</td>\n",
              "      <td>0.073089</td>\n",
              "      <td>0.301416</td>\n",
              "      <td>0.029130</td>\n",
              "      <td>-1.115207</td>\n",
              "      <td>1.057512</td>\n",
              "    </tr>\n",
              "    <tr>\n",
              "      <th>1</th>\n",
              "      <td>3.864993</td>\n",
              "      <td>-0.452234</td>\n",
              "      <td>-1.629992</td>\n",
              "      <td>-1.057283</td>\n",
              "      <td>-0.210888</td>\n",
              "      <td>-0.019759</td>\n",
              "      <td>0.274282</td>\n",
              "      <td>-0.045534</td>\n",
              "      <td>0.042677</td>\n",
              "      <td>-0.043942</td>\n",
              "      <td>...</td>\n",
              "      <td>-0.263202</td>\n",
              "      <td>2.533338</td>\n",
              "      <td>-0.065902</td>\n",
              "      <td>0.010651</td>\n",
              "      <td>-0.153385</td>\n",
              "      <td>1.523213</td>\n",
              "      <td>-0.665576</td>\n",
              "      <td>-1.098252</td>\n",
              "      <td>-1.519661</td>\n",
              "      <td>-1.041647</td>\n",
              "    </tr>\n",
              "    <tr>\n",
              "      <th>2</th>\n",
              "      <td>3.767743</td>\n",
              "      <td>-0.568984</td>\n",
              "      <td>-1.656248</td>\n",
              "      <td>-0.999098</td>\n",
              "      <td>-0.223674</td>\n",
              "      <td>0.103720</td>\n",
              "      <td>0.485973</td>\n",
              "      <td>0.119731</td>\n",
              "      <td>0.177672</td>\n",
              "      <td>-0.139598</td>\n",
              "      <td>...</td>\n",
              "      <td>1.358940</td>\n",
              "      <td>0.780513</td>\n",
              "      <td>0.126284</td>\n",
              "      <td>0.047748</td>\n",
              "      <td>1.430632</td>\n",
              "      <td>0.019129</td>\n",
              "      <td>-1.060616</td>\n",
              "      <td>-0.760787</td>\n",
              "      <td>-0.449512</td>\n",
              "      <td>-1.703933</td>\n",
              "    </tr>\n",
              "    <tr>\n",
              "      <th>3</th>\n",
              "      <td>3.895825</td>\n",
              "      <td>-0.485487</td>\n",
              "      <td>-1.733745</td>\n",
              "      <td>-0.907969</td>\n",
              "      <td>-0.307753</td>\n",
              "      <td>-0.088896</td>\n",
              "      <td>0.671033</td>\n",
              "      <td>-0.141934</td>\n",
              "      <td>0.011025</td>\n",
              "      <td>0.076621</td>\n",
              "      <td>...</td>\n",
              "      <td>1.272386</td>\n",
              "      <td>2.516159</td>\n",
              "      <td>-0.041876</td>\n",
              "      <td>0.826883</td>\n",
              "      <td>0.879549</td>\n",
              "      <td>-1.138676</td>\n",
              "      <td>-1.049456</td>\n",
              "      <td>-1.259871</td>\n",
              "      <td>0.125262</td>\n",
              "      <td>-1.031144</td>\n",
              "    </tr>\n",
              "    <tr>\n",
              "      <th>4</th>\n",
              "      <td>3.881688</td>\n",
              "      <td>-0.209835</td>\n",
              "      <td>-1.515436</td>\n",
              "      <td>-0.900967</td>\n",
              "      <td>-0.206142</td>\n",
              "      <td>0.018235</td>\n",
              "      <td>0.451900</td>\n",
              "      <td>0.097368</td>\n",
              "      <td>0.044001</td>\n",
              "      <td>-0.103369</td>\n",
              "      <td>...</td>\n",
              "      <td>-1.741662</td>\n",
              "      <td>-0.127360</td>\n",
              "      <td>0.996954</td>\n",
              "      <td>0.499876</td>\n",
              "      <td>0.452512</td>\n",
              "      <td>-0.211526</td>\n",
              "      <td>-0.145132</td>\n",
              "      <td>0.082420</td>\n",
              "      <td>-0.034287</td>\n",
              "      <td>0.572985</td>\n",
              "    </tr>\n",
              "  </tbody>\n",
              "</table>\n",
              "<p>5 rows × 800 columns</p>\n",
              "</div>\n",
              "      <button class=\"colab-df-convert\" onclick=\"convertToInteractive('df-93c7529b-2028-44cb-bbed-5a4d21d651eb')\"\n",
              "              title=\"Convert this dataframe to an interactive table.\"\n",
              "              style=\"display:none;\">\n",
              "        \n",
              "  <svg xmlns=\"http://www.w3.org/2000/svg\" height=\"24px\"viewBox=\"0 0 24 24\"\n",
              "       width=\"24px\">\n",
              "    <path d=\"M0 0h24v24H0V0z\" fill=\"none\"/>\n",
              "    <path d=\"M18.56 5.44l.94 2.06.94-2.06 2.06-.94-2.06-.94-.94-2.06-.94 2.06-2.06.94zm-11 1L8.5 8.5l.94-2.06 2.06-.94-2.06-.94L8.5 2.5l-.94 2.06-2.06.94zm10 10l.94 2.06.94-2.06 2.06-.94-2.06-.94-.94-2.06-.94 2.06-2.06.94z\"/><path d=\"M17.41 7.96l-1.37-1.37c-.4-.4-.92-.59-1.43-.59-.52 0-1.04.2-1.43.59L10.3 9.45l-7.72 7.72c-.78.78-.78 2.05 0 2.83L4 21.41c.39.39.9.59 1.41.59.51 0 1.02-.2 1.41-.59l7.78-7.78 2.81-2.81c.8-.78.8-2.07 0-2.86zM5.41 20L4 18.59l7.72-7.72 1.47 1.35L5.41 20z\"/>\n",
              "  </svg>\n",
              "      </button>\n",
              "      \n",
              "  <style>\n",
              "    .colab-df-container {\n",
              "      display:flex;\n",
              "      flex-wrap:wrap;\n",
              "      gap: 12px;\n",
              "    }\n",
              "\n",
              "    .colab-df-convert {\n",
              "      background-color: #E8F0FE;\n",
              "      border: none;\n",
              "      border-radius: 50%;\n",
              "      cursor: pointer;\n",
              "      display: none;\n",
              "      fill: #1967D2;\n",
              "      height: 32px;\n",
              "      padding: 0 0 0 0;\n",
              "      width: 32px;\n",
              "    }\n",
              "\n",
              "    .colab-df-convert:hover {\n",
              "      background-color: #E2EBFA;\n",
              "      box-shadow: 0px 1px 2px rgba(60, 64, 67, 0.3), 0px 1px 3px 1px rgba(60, 64, 67, 0.15);\n",
              "      fill: #174EA6;\n",
              "    }\n",
              "\n",
              "    [theme=dark] .colab-df-convert {\n",
              "      background-color: #3B4455;\n",
              "      fill: #D2E3FC;\n",
              "    }\n",
              "\n",
              "    [theme=dark] .colab-df-convert:hover {\n",
              "      background-color: #434B5C;\n",
              "      box-shadow: 0px 1px 3px 1px rgba(0, 0, 0, 0.15);\n",
              "      filter: drop-shadow(0px 1px 2px rgba(0, 0, 0, 0.3));\n",
              "      fill: #FFFFFF;\n",
              "    }\n",
              "  </style>\n",
              "\n",
              "      <script>\n",
              "        const buttonEl =\n",
              "          document.querySelector('#df-93c7529b-2028-44cb-bbed-5a4d21d651eb button.colab-df-convert');\n",
              "        buttonEl.style.display =\n",
              "          google.colab.kernel.accessAllowed ? 'block' : 'none';\n",
              "\n",
              "        async function convertToInteractive(key) {\n",
              "          const element = document.querySelector('#df-93c7529b-2028-44cb-bbed-5a4d21d651eb');\n",
              "          const dataTable =\n",
              "            await google.colab.kernel.invokeFunction('convertToInteractive',\n",
              "                                                     [key], {});\n",
              "          if (!dataTable) return;\n",
              "\n",
              "          const docLinkHtml = 'Like what you see? Visit the ' +\n",
              "            '<a target=\"_blank\" href=https://colab.research.google.com/notebooks/data_table.ipynb>data table notebook</a>'\n",
              "            + ' to learn more about interactive tables.';\n",
              "          element.innerHTML = '';\n",
              "          dataTable['output_type'] = 'display_data';\n",
              "          await google.colab.output.renderOutput(dataTable, element);\n",
              "          const docLink = document.createElement('div');\n",
              "          docLink.innerHTML = docLinkHtml;\n",
              "          element.appendChild(docLink);\n",
              "        }\n",
              "      </script>\n",
              "    </div>\n",
              "  </div>\n",
              "  "
            ]
          },
          "metadata": {},
          "execution_count": 37
        }
      ]
    },
    {
      "cell_type": "code",
      "source": [
        "X_trainSVD, X_testSVD, y_trainSVD, y_testSVD = train_test_split(reducedTrainSVD, label, test_size=0.2, random_state=27)"
      ],
      "metadata": {
        "id": "ONS7POdaGfq0"
      },
      "execution_count": 52,
      "outputs": []
    },
    {
      "cell_type": "markdown",
      "source": [
        "Decision Tree Classifier"
      ],
      "metadata": {
        "id": "XhGYboD7HGRm"
      }
    },
    {
      "cell_type": "code",
      "source": [
        "clfSVD = DecisionTreeClassifier(class_weight={0: 1, 1: 2.5}, random_state = 42)\n",
        "clfSVD.fit(X_trainSVD, y_trainSVD)\n",
        "prediction_decision_treeSVD = clfSVD.predict(X_testSVD)\n",
        "prediction_decision_treeSVD"
      ],
      "metadata": {
        "colab": {
          "base_uri": "https://localhost:8080/"
        },
        "id": "dOmFf684Gxq5",
        "outputId": "cb265eb6-9481-4862-dc83-cd556131fada"
      },
      "execution_count": 71,
      "outputs": [
        {
          "output_type": "execute_result",
          "data": {
            "text/plain": [
              "array([0, 0, 0, 0, 0, 0, 0, 0, 0, 0, 0, 0, 0, 0, 0, 0, 1, 0, 0, 0, 0, 0,\n",
              "       0, 0, 0, 0, 0, 0, 0, 1, 1, 0, 1, 0, 0, 0, 0, 0, 0, 1, 0, 0, 0, 0,\n",
              "       0, 0, 0, 0, 0, 0, 0, 0, 0, 0, 0, 1, 0, 0, 0, 0, 0, 0, 0, 0, 0, 1,\n",
              "       0, 0, 0, 0, 0, 0, 0, 1, 0, 0, 0, 0, 0, 0, 1, 0, 0, 0, 0, 0, 0, 0,\n",
              "       1, 0, 0, 0, 0, 0, 0, 0, 0, 0, 0, 0, 0, 0, 0, 0, 0, 0, 0, 0, 0, 0,\n",
              "       1, 0, 0, 0, 0, 0, 0, 0, 0, 0, 0, 0, 0, 0, 0, 0, 0, 1, 0, 0, 0, 0,\n",
              "       0, 0, 0, 0, 0, 0, 1, 0, 0, 0, 0, 0, 0, 0, 0, 0, 0, 0, 0, 0, 0, 0,\n",
              "       0, 0, 0, 0, 0, 0])"
            ]
          },
          "metadata": {},
          "execution_count": 71
        }
      ]
    },
    {
      "cell_type": "markdown",
      "source": [
        "Linear SVM Classifier"
      ],
      "metadata": {
        "id": "M9B_fpHpImFV"
      }
    },
    {
      "cell_type": "code",
      "source": [
        "linsvcSVD = LinearSVC(random_state=27)\n",
        "linsvcSVD.fit(X_trainSVD, y_trainSVD)\n",
        "prediction_SVM_SVD = linsvcSVD.predict(X_testSVD)\n",
        "prediction_SVM_SVD"
      ],
      "metadata": {
        "colab": {
          "base_uri": "https://localhost:8080/"
        },
        "id": "p1RYy-9LHFWP",
        "outputId": "602ccec5-54de-41b9-cd3f-eeefd5ad0bc8"
      },
      "execution_count": 65,
      "outputs": [
        {
          "output_type": "execute_result",
          "data": {
            "text/plain": [
              "array([0, 0, 0, 0, 0, 0, 0, 0, 0, 0, 0, 0, 0, 0, 0, 0, 0, 0, 0, 0, 0, 0,\n",
              "       0, 0, 0, 0, 0, 0, 0, 0, 1, 0, 0, 0, 0, 0, 0, 0, 0, 1, 0, 0, 0, 0,\n",
              "       0, 0, 0, 0, 0, 0, 0, 0, 0, 0, 0, 0, 0, 0, 0, 0, 0, 0, 0, 0, 0, 1,\n",
              "       0, 0, 0, 0, 0, 0, 0, 0, 0, 0, 0, 0, 0, 0, 0, 0, 0, 0, 0, 0, 0, 0,\n",
              "       0, 0, 0, 0, 0, 0, 0, 0, 0, 0, 0, 0, 0, 0, 0, 0, 0, 0, 0, 0, 0, 0,\n",
              "       0, 0, 0, 0, 0, 0, 0, 0, 0, 0, 0, 0, 0, 0, 0, 0, 0, 0, 0, 0, 0, 0,\n",
              "       0, 0, 0, 0, 0, 0, 0, 0, 0, 0, 0, 0, 0, 0, 0, 0, 0, 0, 0, 0, 0, 0,\n",
              "       0, 0, 0, 0, 0, 0])"
            ]
          },
          "metadata": {},
          "execution_count": 65
        }
      ]
    },
    {
      "cell_type": "markdown",
      "source": [
        "Logistic Regression Classifier"
      ],
      "metadata": {
        "id": "Gq4G4CJaIqGB"
      }
    },
    {
      "cell_type": "code",
      "source": [
        "x = {0:1, 1:2600}\n",
        "lrSVD = LogisticRegression(random_state=13, class_weight=x)\n",
        "lrSVD.fit(X_trainSVD, y_trainSVD)\n",
        "prediction_logistic_regressionSVD = lrSVD.predict(X_testSVD)\n",
        "prediction_logistic_regressionSVD"
      ],
      "metadata": {
        "colab": {
          "base_uri": "https://localhost:8080/"
        },
        "id": "XFbn7hBKIp04",
        "outputId": "11a17021-5e4c-4dec-e4ad-5fca389b3efb"
      },
      "execution_count": 66,
      "outputs": [
        {
          "output_type": "execute_result",
          "data": {
            "text/plain": [
              "array([0, 0, 0, 0, 0, 0, 0, 0, 0, 0, 0, 0, 0, 0, 0, 0, 1, 0, 0, 0, 0, 0,\n",
              "       0, 0, 0, 0, 0, 0, 0, 0, 1, 0, 1, 0, 0, 0, 0, 0, 0, 1, 0, 0, 0, 0,\n",
              "       0, 0, 0, 0, 0, 0, 0, 0, 0, 0, 0, 0, 0, 0, 0, 0, 0, 0, 0, 0, 0, 1,\n",
              "       0, 0, 0, 0, 1, 0, 0, 1, 0, 0, 0, 0, 0, 0, 1, 0, 0, 0, 1, 0, 0, 0,\n",
              "       0, 0, 0, 0, 0, 0, 0, 0, 0, 0, 0, 0, 0, 0, 0, 1, 0, 0, 0, 0, 0, 0,\n",
              "       1, 0, 0, 0, 0, 0, 0, 0, 0, 0, 0, 0, 0, 0, 0, 0, 0, 1, 0, 0, 0, 0,\n",
              "       0, 0, 0, 0, 0, 0, 0, 0, 0, 0, 0, 0, 0, 0, 0, 0, 0, 0, 0, 0, 0, 0,\n",
              "       0, 0, 0, 0, 0, 0])"
            ]
          },
          "metadata": {},
          "execution_count": 66
        }
      ]
    },
    {
      "cell_type": "markdown",
      "source": [
        "Naive Bayes Classifier"
      ],
      "metadata": {
        "id": "MyOoa69DJiwm"
      }
    },
    {
      "cell_type": "code",
      "source": [
        "bnbSVD = BernoulliNB(alpha=.75)\n",
        "bnbSVD.fit(X_trainSVD, y_trainSVD)\n",
        "prediction_nbSVD = bnbSVD.predict(X_testSVD)\n",
        "prediction_nbSVD"
      ],
      "metadata": {
        "colab": {
          "base_uri": "https://localhost:8080/"
        },
        "id": "kKtzYJa0JigB",
        "outputId": "032db65d-42ea-480e-828d-99913d69326c"
      },
      "execution_count": 67,
      "outputs": [
        {
          "output_type": "execute_result",
          "data": {
            "text/plain": [
              "array([0, 0, 0, 0, 0, 0, 0, 0, 0, 0, 0, 0, 0, 0, 0, 0, 1, 0, 0, 0, 0, 1,\n",
              "       0, 0, 0, 0, 0, 0, 0, 1, 1, 0, 1, 0, 0, 0, 0, 0, 0, 1, 0, 0, 0, 0,\n",
              "       0, 0, 0, 0, 0, 0, 0, 0, 0, 0, 0, 0, 1, 0, 0, 0, 0, 1, 0, 0, 0, 0,\n",
              "       0, 0, 0, 0, 0, 0, 0, 1, 0, 0, 0, 0, 0, 0, 1, 0, 0, 0, 0, 0, 0, 0,\n",
              "       0, 0, 0, 0, 0, 0, 0, 0, 0, 0, 0, 0, 0, 0, 0, 0, 0, 0, 0, 0, 0, 0,\n",
              "       1, 0, 0, 0, 0, 0, 0, 0, 0, 0, 0, 0, 0, 0, 0, 0, 0, 0, 0, 0, 0, 0,\n",
              "       0, 0, 0, 0, 0, 0, 0, 0, 0, 0, 0, 0, 0, 0, 0, 0, 0, 0, 0, 0, 0, 0,\n",
              "       0, 0, 0, 0, 0, 0])"
            ]
          },
          "metadata": {},
          "execution_count": 67
        }
      ]
    },
    {
      "cell_type": "markdown",
      "source": [
        "F1 Score"
      ],
      "metadata": {
        "id": "i043aGoOJ23Q"
      }
    },
    {
      "cell_type": "code",
      "source": [
        "f1ScoreDTCsvd = f1_score(y_testSVD, prediction_decision_treeSVD)\n",
        "f1ScoreSVCsvd = f1_score(y_testSVD, prediction_SVM_SVD)\n",
        "f1ScoreLRsvd = f1_score(y_testSVD, prediction_logistic_regressionSVD)\n",
        "f1ScoreNBsvd = f1_score(y_testSVD, prediction_nbSVD)\n",
        "\n",
        "print('F1 Score- Decision Tree Classifier: ', f1ScoreDTCsvd)\n",
        "print('F1 Score- Linear SVM Classifier: ', f1ScoreSVCsvd)\n",
        "print('F1 Score- Logistic Regression Classifier: ', f1ScoreLRsvd)\n",
        "print('F1 Score- Naive Bayes Classifier: ', f1ScoreNBsvd)"
      ],
      "metadata": {
        "colab": {
          "base_uri": "https://localhost:8080/"
        },
        "id": "J-TB12MeJ2k4",
        "outputId": "0eac0a15-6e89-4b8f-d480-1429c8a872f0"
      },
      "execution_count": 72,
      "outputs": [
        {
          "output_type": "stream",
          "name": "stdout",
          "text": [
            "F1 Score- Decision Tree Classifier:  0.5294117647058824\n",
            "F1 Score- Linear SVM Classifier:  0.16666666666666666\n",
            "F1 Score- Logistic Regression Classifier:  0.6060606060606061\n",
            "F1 Score- Naive Bayes Classifier:  0.5625\n"
          ]
        }
      ]
    },
    {
      "cell_type": "code",
      "source": [
        "data = {'Decision Tree':f1ScoreDTCsvd, 'Linear SVM':f1ScoreSVCsvd, 'Logistic Regression':f1ScoreLRsvd, 'Naive Bayes Classifier':f1ScoreNBsvd}\n",
        "x = list(data.keys())\n",
        "y = list(data.values())\n",
        "  \n",
        "fig = plt.figure(figsize = (10, 5))\n",
        "plt.title(\"F1 Score Chart\") \n",
        "\n",
        "plt.scatter(x, y)\n",
        "plt.show()"
      ],
      "metadata": {
        "colab": {
          "base_uri": "https://localhost:8080/",
          "height": 336
        },
        "id": "ZcCJCbs_4dfh",
        "outputId": "c59286a5-aeac-44e6-d85a-732db356da96"
      },
      "execution_count": 109,
      "outputs": [
        {
          "output_type": "display_data",
          "data": {
            "text/plain": [
              "<Figure size 720x360 with 1 Axes>"
            ],
            "image/png": "[encoded data removed]"
          },
          "metadata": {
            "needs_background": "light"
          }
        }
      ]
    },
    {
      "cell_type": "markdown",
      "source": [
        "Accuracy Score"
      ],
      "metadata": {
        "id": "_-guGe_fKvtP"
      }
    },
    {
      "cell_type": "code",
      "source": [
        "accuracyDTCsvd = accuracy_score(prediction_decision_treeSVD, y_testSVD)\n",
        "accuracySVCsvd = accuracy_score(prediction_SVM_SVD, y_testSVD)\n",
        "accuracyLRsvd = accuracy_score(prediction_logistic_regressionSVD, y_testSVD)\n",
        "accuracyNBsvd = accuracy_score(prediction_nbSVD, y_testSVD)\n",
        "\n",
        "print('Accuracy Score- Decision Tree Classifier: ', accuracyDTCsvd)\n",
        "print('Accuracy Score- Linear SVM Classifier: ', accuracySVCsvd)\n",
        "print('Accuracy Score- Logistic Regression Classifier: ', accuracyLRsvd)\n",
        "print('Accuracy Score- Naive Bayes Classifier: ', accuracyNBsvd)"
      ],
      "metadata": {
        "colab": {
          "base_uri": "https://localhost:8080/"
        },
        "id": "jIwYpvH9KvXU",
        "outputId": "df302df0-b849-436e-f542-e15fea7d98cc"
      },
      "execution_count": 73,
      "outputs": [
        {
          "output_type": "stream",
          "name": "stdout",
          "text": [
            "Accuracy Score- Decision Tree Classifier:  0.9\n",
            "Accuracy Score- Linear SVM Classifier:  0.875\n",
            "Accuracy Score- Logistic Regression Classifier:  0.91875\n",
            "Accuracy Score- Naive Bayes Classifier:  0.9125\n"
          ]
        }
      ]
    },
    {
      "cell_type": "code",
      "source": [
        "data = {'Decision Tree':accuracyDTCsvd, 'Linear SVM':accuracySVCsvd, 'Logistic Regression':accuracyLRsvd, 'Naive Bayes Classifier':accuracyNBsvd}\n",
        "x = list(data.keys())\n",
        "y = list(data.values())\n",
        "  \n",
        "fig = plt.figure(figsize = (10, 5))\n",
        "plt.title(\"Accuracy Score Chart\") \n",
        "\n",
        "plt.scatter(x, y)\n",
        "plt.show()"
      ],
      "metadata": {
        "colab": {
          "base_uri": "https://localhost:8080/",
          "height": 336
        },
        "id": "1u7hd1Py41In",
        "outputId": "bae0d073-e2bb-47b6-b2cc-e1057d8837a4"
      },
      "execution_count": 110,
      "outputs": [
        {
          "output_type": "display_data",
          "data": {
            "text/plain": [
              "<Figure size 720x360 with 1 Axes>"
            ],
            "image/png": "[encoded data removed]"
          },
          "metadata": {
            "needs_background": "light"
          }
        }
      ]
    },
    {
      "cell_type": "markdown",
      "source": [
        "# Sampling to improve the accuracy"
      ],
      "metadata": {
        "id": "h97QTozoV8jo"
      }
    },
    {
      "cell_type": "markdown",
      "source": [
        "**Random Under Sampler used for sampling the data and then Chi Square feature selection technique.**"
      ],
      "metadata": {
        "id": "CiJq6zmKsqJ2"
      }
    },
    {
      "cell_type": "markdown",
      "source": [
        "Approach-> sampling-shuffling-TrainTestSplit-FeatureSelection-classifier"
      ],
      "metadata": {
        "id": "GuA6GRoTWkXc"
      }
    },
    {
      "cell_type": "code",
      "source": [
        "#Random Under Sampler\n",
        "rUnder = RandomUnderSampler(random_state=0)\n",
        "train_resampledUnder, label_resampledUnder = rUnder.fit_resample(trainDataTrial, label)\n",
        "\n",
        "#shuffling\n",
        "X_shuffle, y_shuffle = shuffle(train_resampledUnder, label_resampledUnder, random_state=27)\n",
        "\n",
        "#Train Test Split\n",
        "X_trainRUnder, X_testRUnder, y_trainRUnder, y_testRUnder = train_test_split(X_shuffle, y_shuffle, test_size=0.2, stratify=y_shuffle, random_state=23)\n"
      ],
      "metadata": {
        "id": "a8iSsS3SV9qy"
      },
      "execution_count": 77,
      "outputs": []
    },
    {
      "cell_type": "code",
      "source": [
        "#Feature Selection- Chi square\n",
        "kbestRUnder = SelectKBest(score_func=chi2, k=450)\n",
        "trainRUnderkBest = kbestRUnder.fit_transform(X_trainRUnder, y_trainRUnder)\n",
        "testRUnderkBest = kbestRUnder.transform(X_testRUnder)"
      ],
      "metadata": {
        "id": "LaN7kbnGeD0G"
      },
      "execution_count": 83,
      "outputs": []
    },
    {
      "cell_type": "code",
      "source": [
        "#Decision Tree Classifier \n",
        "clfX = DecisionTreeClassifier(random_state = 42)\n",
        "clfX.fit(trainRUnderkBest, y_trainRUnder)\n",
        "prediction_decision_treeX = clfX.predict(testRUnderkBest)\n",
        "#prediction_decision_treeX\n",
        "\n",
        "#Linear SVM Classifier\n",
        "linsvcX = LinearSVC(random_state=27)\n",
        "linsvcX.fit(trainRUnderkBest, y_trainRUnder)\n",
        "prediction_SVMX = linsvcX.predict(testRUnderkBest)\n",
        "#prediction_SVMX\n",
        "\n",
        "#Logistic Regression Classifier\n",
        "m = {0:1, 1:2600}\n",
        "lrX = LogisticRegression(random_state=13, class_weight=m)\n",
        "lrX.fit(trainRUnderkBest, y_trainRUnder)\n",
        "prediction_logistic_regressionX = lrX.predict(testRUnderkBest)\n",
        "#prediction_logistic_regressionX\n",
        "\n",
        "#Naive Bayes Classifier\n",
        "bnbX = BernoulliNB(alpha=.75)\n",
        "bnbX.fit(trainRUnderkBest, y_trainRUnder)\n",
        "prediction_nbX = bnbX.predict(testRUnderkBest)\n",
        "#prediction_nbX\n",
        "\n",
        "\n"
      ],
      "metadata": {
        "id": "Y94jlMA_g37D"
      },
      "execution_count": 91,
      "outputs": []
    },
    {
      "cell_type": "code",
      "source": [
        "f1ScoreDTCX = f1_score(y_testRUnder, prediction_decision_treeX)\n",
        "f1ScoreSVCX = f1_score(y_testRUnder, prediction_SVMX)\n",
        "f1ScoreLRX = f1_score(y_testRUnder, prediction_logistic_regressionX)\n",
        "f1ScoreNBX = f1_score(y_testRUnder, prediction_nbX)\n",
        "\n",
        "print('F1 Score- Decision Tree Classifier: ', f1ScoreDTCX)\n",
        "print('F1 Score- Linear SVM Classifier: ', f1ScoreSVCX)\n",
        "print('F1 Score- Logistic Regression Classifier: ', f1ScoreLRX)\n",
        "print('F1 Score- Naive Bayes Classifier: ', f1ScoreNBX)"
      ],
      "metadata": {
        "colab": {
          "base_uri": "https://localhost:8080/"
        },
        "id": "Sfbg-HaXqFZx",
        "outputId": "b56795b7-07c2-49b6-92a0-7970dc95720e"
      },
      "execution_count": 92,
      "outputs": [
        {
          "output_type": "stream",
          "name": "stdout",
          "text": [
            "F1 Score- Decision Tree Classifier:  0.6666666666666667\n",
            "F1 Score- Linear SVM Classifier:  0.8484848484848485\n",
            "F1 Score- Logistic Regression Classifier:  0.6956521739130436\n",
            "F1 Score- Naive Bayes Classifier:  0.9333333333333333\n"
          ]
        }
      ]
    },
    {
      "cell_type": "code",
      "source": [
        "data = {'Decision Tree':f1ScoreDTCX, 'Linear SVM':f1ScoreSVCX, 'Logistic Regression':f1ScoreLRX, 'Naive Bayes Classifier':f1ScoreNBX}\n",
        "x = list(data.keys())\n",
        "y = list(data.values())\n",
        "  \n",
        "fig = plt.figure(figsize = (10, 5))\n",
        "plt.title(\"F1 Score Chart\") \n",
        "\n",
        "\n",
        "#plt.bar(algorithm, values, width = 0.2)\n",
        "plt.scatter(x, y)\n",
        "plt.show()"
      ],
      "metadata": {
        "colab": {
          "base_uri": "https://localhost:8080/",
          "height": 336
        },
        "id": "3KA7GNRsxNYM",
        "outputId": "26bc818a-eda3-4d2e-c456-d7e2f859e0a3"
      },
      "execution_count": 100,
      "outputs": [
        {
          "output_type": "display_data",
          "data": {
            "text/plain": [
              "<Figure size 720x360 with 1 Axes>"
            ],
            "image/png": "[encoded data removed]"
          },
          "metadata": {
            "needs_background": "light"
          }
        }
      ]
    },
    {
      "cell_type": "code",
      "source": [
        "accuracyDTCX = accuracy_score(prediction_decision_treeX, y_testRUnder)\n",
        "accuracySVCX = accuracy_score(prediction_SVMX, y_testRUnder)\n",
        "accuracyLRX = accuracy_score(prediction_logistic_regressionX, y_testRUnder)\n",
        "accuracyNBX = accuracy_score(prediction_nbX, y_testRUnder)\n",
        "\n",
        "print('Accuracy Score- Decision Tree Classifier: ', accuracyDTCX)\n",
        "print('Accuracy Score- Linear SVM Classifier: ', accuracySVCX)\n",
        "print('Accuracy Score- Logistic Regression Classifier: ', accuracyLRX)\n",
        "print('Accuracy Score- Naive Bayes Classifier: ', accuracyNBX)"
      ],
      "metadata": {
        "colab": {
          "base_uri": "https://localhost:8080/"
        },
        "id": "EfwMPur3sH5j",
        "outputId": "0051afac-e1c5-4691-dd3d-c9650214b969"
      },
      "execution_count": 93,
      "outputs": [
        {
          "output_type": "stream",
          "name": "stdout",
          "text": [
            "Accuracy Score- Decision Tree Classifier:  0.65625\n",
            "Accuracy Score- Linear SVM Classifier:  0.84375\n",
            "Accuracy Score- Logistic Regression Classifier:  0.5625\n",
            "Accuracy Score- Naive Bayes Classifier:  0.9375\n"
          ]
        }
      ]
    },
    {
      "cell_type": "code",
      "source": [
        "data = {'Decision Tree':accuracyDTCX, 'Linear SVM':accuracySVCX, 'Logistic Regression':accuracyLRX, 'Naive Bayes Classifier':accuracyNBX}\n",
        "x = list(data.keys())\n",
        "y = list(data.values())\n",
        "  \n",
        "fig = plt.figure(figsize = (10, 5))\n",
        "plt.title(\"Accuracy Score Chart\") \n",
        "\n",
        "\n",
        "#plt.bar(algorithm, values, width = 0.2)\n",
        "plt.scatter(x, y)\n",
        "plt.show()"
      ],
      "metadata": {
        "colab": {
          "base_uri": "https://localhost:8080/",
          "height": 336
        },
        "id": "i4TxhBY0y5eu",
        "outputId": "cfc72bcd-cd26-4bd4-9073-c565db18aace"
      },
      "execution_count": 102,
      "outputs": [
        {
          "output_type": "display_data",
          "data": {
            "text/plain": [
              "<Figure size 720x360 with 1 Axes>"
            ],
            "image/png": "[encoded data removed]"
          },
          "metadata": {
            "needs_background": "light"
          }
        }
      ]
    },
    {
      "cell_type": "markdown",
      "source": [
        "**Random Over Sampler used for sampling the data and then SVD feature selection technique.**"
      ],
      "metadata": {
        "id": "eIuFuJ-0DmQW"
      }
    },
    {
      "cell_type": "code",
      "source": [
        "rOver = RandomOverSampler(random_state=0)\n",
        "train_OverResampled, label_OverResampled = rOver.fit_resample(trainDataTrial, label)\n",
        "\n",
        "#shuffling\n",
        "X_shuffleOver, y_shuffleOver = shuffle(train_OverResampled, label_OverResampled, random_state=27)\n",
        "\n",
        "#Train Test Split\n",
        "X_trainROver, X_testROver, y_trainROver, y_testROver = train_test_split(X_shuffleOver, y_shuffleOver, test_size=0.2, stratify=y_shuffleOver, random_state=23)\n",
        "\n",
        "\n"
      ],
      "metadata": {
        "id": "J_pvV0Tk55CW"
      },
      "execution_count": 117,
      "outputs": []
    },
    {
      "cell_type": "code",
      "source": [
        "trainOverSVD = svd.fit_transform(X_trainROver, y_trainROver)\n",
        "testOverSVD = svd.transform(X_testROver)\n"
      ],
      "metadata": {
        "id": "d1NSW06z8j48"
      },
      "execution_count": 118,
      "outputs": []
    },
    {
      "cell_type": "code",
      "source": [
        "trainOverSVD1 = svd.transform(X_trainROver)"
      ],
      "metadata": {
        "id": "PHuScZS1FM35"
      },
      "execution_count": 127,
      "outputs": []
    },
    {
      "cell_type": "code",
      "source": [
        "testActualOverSVD = svd.transform(testDataTrial)"
      ],
      "metadata": {
        "id": "5nlaopUUA4UQ"
      },
      "execution_count": 129,
      "outputs": []
    },
    {
      "cell_type": "code",
      "source": [
        "clfX1 = DecisionTreeClassifier(class_weight={0: 1, 1: 1.5})\n",
        "clfX1.fit(trainOverSVD1, y_trainROver)\n",
        "pdtc1 = clfX1.predict(testActualOverSVD)"
      ],
      "metadata": {
        "id": "27mWF-lsGeFU"
      },
      "execution_count": 134,
      "outputs": []
    },
    {
      "cell_type": "code",
      "source": [
        "pdtc = clfX.predict(testActualOverSVD)"
      ],
      "metadata": {
        "id": "2uz2dPsVBJ-B"
      },
      "execution_count": 133,
      "outputs": []
    },
    {
      "cell_type": "code",
      "source": [
        "resultFile = open('format.txt', 'w')\n",
        "resultFile.writelines(\"%s\\n\" % val for val in pdtc1)\n",
        "resultFile.close()"
      ],
      "metadata": {
        "id": "giQZ4DehBdXK"
      },
      "execution_count": 135,
      "outputs": []
    },
    {
      "cell_type": "code",
      "source": [
        "#Decision Tree Classifier \n",
        "clfX = DecisionTreeClassifier(random_state = 42)\n",
        "clfX.fit(trainOverSVD1, y_trainROver)\n",
        "prediction_decision_treeX = clfX.predict(testOverSVD)\n",
        "#prediction_decision_treeX\n",
        "\n",
        "\n",
        "#Linear SVM Classifier\n",
        "linsvcX = LinearSVC(random_state=27)\n",
        "linsvcX.fit(trainOverSVD1, y_trainROver)\n",
        "prediction_SVMX = linsvcX.predict(testOverSVD)\n",
        "#prediction_SVMX\n",
        "\n",
        "#Logistic Regression Classifier\n",
        "m = {0:1, 1:2600}\n",
        "lrX = LogisticRegression(random_state=13, class_weight=m)\n",
        "lrX.fit(trainOverSVD1, y_trainROver)\n",
        "prediction_logistic_regressionX = lrX.predict(testOverSVD)\n",
        "#prediction_logistic_regressionX\n",
        "\n",
        "#Naive Bayes Classifier\n",
        "bnbX = BernoulliNB(alpha=.75)\n",
        "bnbX.fit(trainOverSVD1, y_trainROver)\n",
        "prediction_nbX = bnbX.predict(testOverSVD)\n",
        "#prediction_nbX"
      ],
      "metadata": {
        "colab": {
          "base_uri": "https://localhost:8080/"
        },
        "id": "XmAjR2YJ9atm",
        "outputId": "f43a7945-c51a-41fd-f462-1d33fdedfa19"
      },
      "execution_count": 128,
      "outputs": [
        {
          "output_type": "stream",
          "name": "stderr",
          "text": [
            "/usr/local/lib/python3.7/dist-packages/sklearn/svm/_base.py:1208: ConvergenceWarning: Liblinear failed to converge, increase the number of iterations.\n",
            "  ConvergenceWarning,\n"
          ]
        }
      ]
    },
    {
      "cell_type": "code",
      "source": [
        "f1ScoreDTCX = f1_score(y_testROver, prediction_decision_treeX)\n",
        "f1ScoreSVCX = f1_score(y_testROver, prediction_SVMX)\n",
        "f1ScoreLRX = f1_score(y_testROver, prediction_logistic_regressionX)\n",
        "f1ScoreNBX = f1_score(y_testROver, prediction_nbX)\n",
        "\n",
        "print('F1 Score- Decision Tree Classifier: ', f1ScoreDTCX)\n",
        "print('F1 Score- Linear SVM Classifier: ', f1ScoreSVCX)\n",
        "print('F1 Score- Logistic Regression Classifier: ', f1ScoreLRX)\n",
        "print('F1 Score- Naive Bayes Classifier: ', f1ScoreNBX)"
      ],
      "metadata": {
        "colab": {
          "base_uri": "https://localhost:8080/"
        },
        "id": "4HMQ15mx-pcp",
        "outputId": "3eeb80fc-edb0-4853-c3e7-2f5372e338d0"
      },
      "execution_count": 120,
      "outputs": [
        {
          "output_type": "stream",
          "name": "stdout",
          "text": [
            "F1 Score- Decision Tree Classifier:  0.9764309764309764\n",
            "F1 Score- Linear SVM Classifier:  0.9931506849315068\n",
            "F1 Score- Logistic Regression Classifier:  0.9863945578231292\n",
            "F1 Score- Naive Bayes Classifier:  0.9246575342465754\n"
          ]
        }
      ]
    },
    {
      "cell_type": "code",
      "source": [
        "data = {'Decision Tree':f1ScoreDTCX, 'Linear SVM':f1ScoreSVCX, 'Logistic Regression':f1ScoreLRX, 'Naive Bayes Classifier':f1ScoreNBX}\n",
        "x = list(data.keys())\n",
        "y = list(data.values())\n",
        "  \n",
        "fig = plt.figure(figsize = (10, 5))\n",
        "plt.title(\"F1 Score Chart\") \n",
        "\n",
        "\n",
        "#plt.bar(algorithm, values, width = 0.2)\n",
        "plt.scatter(x, y)\n",
        "plt.show()"
      ],
      "metadata": {
        "colab": {
          "base_uri": "https://localhost:8080/",
          "height": 336
        },
        "id": "hP1bcQkmEEPp",
        "outputId": "e97f6b5c-d193-49db-ca48-de236a72b5b2"
      },
      "execution_count": 125,
      "outputs": [
        {
          "output_type": "display_data",
          "data": {
            "text/plain": [
              "<Figure size 720x360 with 1 Axes>"
            ],
            "image/png": "[encoded data removed]"
          },
          "metadata": {
            "needs_background": "light"
          }
        }
      ]
    },
    {
      "cell_type": "code",
      "source": [
        "accuracyDTCX = accuracy_score(prediction_decision_treeX, y_testROver)\n",
        "accuracySVCX = accuracy_score(prediction_SVMX, y_testROver)\n",
        "accuracyLRX = accuracy_score(prediction_logistic_regressionX, y_testROver)\n",
        "accuracyNBX = accuracy_score(prediction_nbX, y_testROver)\n",
        "\n",
        "print('Accuracy Score- Decision Tree Classifier: ', accuracyDTCX)\n",
        "print('Accuracy Score- Linear SVM Classifier: ', accuracySVCX)\n",
        "print('Accuracy Score- Logistic Regression Classifier: ', accuracyLRX)\n",
        "print('Accuracy Score- Naive Bayes Classifier: ', accuracyNBX)"
      ],
      "metadata": {
        "colab": {
          "base_uri": "https://localhost:8080/"
        },
        "id": "PhvcOzImAOTc",
        "outputId": "a8650f71-990e-4b94-dd62-ffb9ab9ab72f"
      },
      "execution_count": 121,
      "outputs": [
        {
          "output_type": "stream",
          "name": "stdout",
          "text": [
            "Accuracy Score- Decision Tree Classifier:  0.9757785467128027\n",
            "Accuracy Score- Linear SVM Classifier:  0.9930795847750865\n",
            "Accuracy Score- Logistic Regression Classifier:  0.986159169550173\n",
            "Accuracy Score- Naive Bayes Classifier:  0.9238754325259516\n"
          ]
        }
      ]
    },
    {
      "cell_type": "markdown",
      "source": [
        "# FEATURE SELECTION"
      ],
      "metadata": {
        "id": "cH8xhiRziOLR"
      }
    },
    {
      "cell_type": "markdown",
      "source": [
        "Chi-Square Feature selection"
      ],
      "metadata": {
        "id": "sPYq-V0bb_Ej"
      }
    },
    {
      "cell_type": "code",
      "source": [
        "kbest = SelectKBest(score_func=chi2, k=30000)\n",
        "reduced_train = kbest.fit_transform(trainDataTrial, label)\n",
        "reduced_test = kbest.transform(testDataTrial)"
      ],
      "metadata": {
        "id": "GuOhgBCLb8-_"
      },
      "execution_count": null,
      "outputs": []
    },
    {
      "cell_type": "markdown",
      "source": [
        "PCA Feature Selection"
      ],
      "metadata": {
        "id": "D56AUb7jc4Ge"
      }
    },
    {
      "cell_type": "code",
      "source": [
        "pca = PCA(n_components = 100, whiten= True)\n",
        "train_pca = pca.fit_transform(trainDataTrial)\n",
        "test_pca = pca.transform(testDataTrial)"
      ],
      "metadata": {
        "id": "qqO_-baPc3l_"
      },
      "execution_count": null,
      "outputs": []
    },
    {
      "cell_type": "markdown",
      "source": [
        "# CLASSIFIERS"
      ],
      "metadata": {
        "id": "_jfyl7cPiE8X"
      }
    },
    {
      "cell_type": "markdown",
      "source": [
        "Decision Tree Classifier"
      ],
      "metadata": {
        "id": "uyxv-p8Dd_Re"
      }
    },
    {
      "cell_type": "code",
      "source": [
        "clf = DecisionTreeClassifier(max_depth =3, random_state = 42)\n",
        "clf.fit(reduced_train, label)\n",
        "prediction_decision_tree = clf.predict(reduced_test)\n",
        "prediction_decision_tree"
      ],
      "metadata": {
        "colab": {
          "base_uri": "https://localhost:8080/"
        },
        "id": "1U3W4GMsd1QQ",
        "outputId": "b8c2e1df-c958-44f5-eba0-1ae70f44a589"
      },
      "execution_count": null,
      "outputs": [
        {
          "output_type": "execute_result",
          "data": {
            "text/plain": [
              "array([0, 0, 0, 0, 0, 0, 0, 1, 0, 0, 0, 1, 0, 1, 0, 0, 0, 0, 1, 0, 0, 0,\n",
              "       0, 0, 1, 0, 0, 0, 0, 0, 0, 0, 0, 0, 0, 0, 0, 0, 0, 0, 0, 0, 0, 0,\n",
              "       0, 0, 0, 1, 0, 0, 1, 0, 0, 0, 0, 0, 0, 0, 0, 0, 0, 0, 1, 0, 0, 0,\n",
              "       0, 0, 0, 0, 0, 0, 1, 1, 0, 0, 0, 0, 0, 0, 0, 0, 0, 0, 0, 0, 0, 0,\n",
              "       0, 0, 0, 0, 0, 0, 0, 0, 0, 0, 1, 0, 0, 0, 0, 0, 0, 0, 0, 0, 0, 0,\n",
              "       0, 0, 0, 0, 0, 0, 1, 0, 0, 0, 0, 0, 0, 0, 0, 0, 0, 0, 0, 0, 0, 0,\n",
              "       0, 0, 0, 1, 0, 0, 0, 0, 0, 0, 0, 0, 0, 0, 0, 0, 0, 0, 0, 0, 0, 0,\n",
              "       0, 0, 0, 0, 0, 0, 0, 0, 0, 1, 0, 0, 0, 0, 0, 0, 0, 1, 0, 0, 0, 0,\n",
              "       0, 0, 0, 1, 0, 0, 0, 0, 0, 0, 0, 0, 0, 0, 1, 0, 0, 0, 0, 0, 0, 0,\n",
              "       0, 0, 0, 0, 0, 0, 0, 0, 1, 0, 0, 0, 0, 0, 0, 0, 1, 0, 0, 0, 0, 0,\n",
              "       0, 0, 0, 0, 0, 0, 0, 0, 0, 0, 0, 0, 0, 0, 0, 0, 0, 0, 0, 0, 0, 0,\n",
              "       0, 0, 0, 0, 0, 0, 0, 0, 0, 0, 0, 0, 1, 0, 0, 0, 0, 0, 0, 0, 0, 0,\n",
              "       0, 0, 0, 0, 0, 0, 1, 0, 0, 0, 0, 0, 0, 0, 0, 0, 0, 0, 0, 0, 0, 0,\n",
              "       0, 0, 0, 0, 0, 0, 0, 0, 0, 0, 1, 0, 0, 0, 0, 0, 0, 0, 0, 0, 0, 0,\n",
              "       0, 0, 0, 0, 0, 1, 0, 0, 1, 0, 0, 0, 0, 0, 0, 0, 0, 0, 0, 0, 0, 0,\n",
              "       0, 0, 0, 0, 0, 0, 1, 0, 0, 0, 0, 0, 1, 0, 0, 0, 0, 0, 0, 0])"
            ]
          },
          "metadata": {},
          "execution_count": 92
        }
      ]
    },
    {
      "cell_type": "code",
      "source": [
        "resultFile = open('format.txt', 'w')\n",
        "resultFile.writelines(\"%s\\n\" % val for val in prediction_decision_tree)\n",
        "resultFile.close()"
      ],
      "metadata": {
        "id": "0JWGiq_ze0Vk"
      },
      "execution_count": null,
      "outputs": []
    },
    {
      "cell_type": "markdown",
      "source": [
        "Linear SVM Classifier"
      ],
      "metadata": {
        "id": "xvQZcoW4fk4M"
      }
    },
    {
      "cell_type": "code",
      "source": [
        "linsvc = LinearSVC(C=1)\n",
        "linsvc.fit(reduced_train, label)\n",
        "prediction_SVM = linsvc.predict(reduced_test)\n",
        "prediction_SVM"
      ],
      "metadata": {
        "colab": {
          "base_uri": "https://localhost:8080/"
        },
        "id": "RmpRBIonfkbe",
        "outputId": "389ab0e6-a1e0-4af3-c745-66dcdf2124c2"
      },
      "execution_count": null,
      "outputs": [
        {
          "output_type": "execute_result",
          "data": {
            "text/plain": [
              "array([0, 0, 0, 0, 0, 0, 0, 0, 0, 0, 0, 1, 0, 0, 0, 0, 0, 0, 0, 0, 0, 0,\n",
              "       0, 0, 1, 0, 0, 0, 0, 0, 0, 0, 0, 0, 0, 0, 0, 0, 0, 0, 0, 0, 0, 0,\n",
              "       0, 0, 0, 1, 0, 0, 1, 1, 0, 0, 0, 0, 0, 0, 0, 0, 0, 0, 1, 0, 0, 0,\n",
              "       0, 0, 0, 0, 0, 0, 0, 0, 0, 0, 0, 0, 0, 0, 0, 0, 0, 0, 1, 0, 0, 0,\n",
              "       0, 0, 0, 0, 0, 0, 0, 0, 0, 0, 1, 0, 0, 0, 0, 0, 0, 0, 0, 0, 0, 0,\n",
              "       0, 0, 0, 0, 0, 0, 1, 0, 0, 0, 0, 0, 0, 0, 0, 0, 0, 0, 0, 0, 0, 0,\n",
              "       0, 0, 0, 0, 0, 0, 0, 0, 0, 0, 0, 0, 0, 0, 0, 0, 0, 0, 0, 0, 0, 0,\n",
              "       0, 0, 0, 0, 0, 0, 0, 0, 0, 0, 0, 0, 0, 0, 0, 0, 0, 0, 0, 0, 0, 0,\n",
              "       0, 0, 0, 1, 0, 0, 0, 0, 0, 0, 0, 0, 0, 0, 0, 0, 0, 0, 0, 0, 0, 0,\n",
              "       0, 0, 0, 0, 0, 0, 0, 0, 0, 0, 0, 0, 0, 0, 0, 0, 1, 0, 0, 0, 0, 0,\n",
              "       0, 0, 0, 0, 0, 0, 0, 0, 0, 0, 0, 0, 0, 0, 0, 0, 0, 0, 0, 0, 0, 0,\n",
              "       0, 0, 0, 0, 0, 0, 0, 0, 0, 0, 0, 0, 1, 0, 0, 0, 0, 0, 0, 0, 0, 0,\n",
              "       0, 0, 0, 0, 0, 0, 0, 0, 0, 0, 0, 0, 0, 0, 0, 0, 0, 0, 0, 0, 0, 0,\n",
              "       0, 0, 0, 0, 0, 0, 0, 0, 0, 0, 0, 0, 0, 0, 0, 0, 0, 0, 0, 0, 0, 0,\n",
              "       0, 0, 0, 0, 0, 1, 1, 0, 1, 0, 0, 0, 0, 0, 0, 0, 0, 0, 0, 0, 0, 0,\n",
              "       0, 0, 0, 0, 0, 0, 0, 0, 0, 0, 0, 0, 0, 0, 0, 0, 0, 0, 0, 0])"
            ]
          },
          "metadata": {},
          "execution_count": 91
        }
      ]
    },
    {
      "cell_type": "code",
      "source": [
        "resultFile = open('format.txt', 'w')\n",
        "resultFile.writelines(\"%s\\n\" % val for val in prediction_SVM)\n",
        "resultFile.close()"
      ],
      "metadata": {
        "id": "zqitXuSEgwm-"
      },
      "execution_count": null,
      "outputs": []
    },
    {
      "cell_type": "markdown",
      "source": [
        "Logistic Regression"
      ],
      "metadata": {
        "id": "xEJ2T9k6nzVI"
      }
    },
    {
      "cell_type": "code",
      "source": [
        "reduced_train"
      ],
      "metadata": {
        "colab": {
          "base_uri": "https://localhost:8080/"
        },
        "id": "LSWAODZhq48p",
        "outputId": "6b17edf3-acbb-4d27-c3ab-209085ec8abc"
      },
      "execution_count": null,
      "outputs": [
        {
          "output_type": "execute_result",
          "data": {
            "text/plain": [
              "array([[0, 0, 0, ..., 0, 0, 0],\n",
              "       [0, 0, 0, ..., 0, 0, 0],\n",
              "       [0, 0, 0, ..., 0, 0, 0],\n",
              "       ...,\n",
              "       [0, 0, 0, ..., 0, 0, 0],\n",
              "       [0, 0, 0, ..., 0, 0, 0],\n",
              "       [0, 0, 0, ..., 0, 0, 0]])"
            ]
          },
          "metadata": {},
          "execution_count": 55
        }
      ]
    },
    {
      "cell_type": "code",
      "source": [
        "x = {0:1, 1:9}\n",
        "lr = LogisticRegression(random_state=13, class_weight=x)\n",
        "lr.fit(reduced_train, label)\n",
        "prediction_logistic_regression = lr.predict(reduced_test)\n",
        "prediction_logistic_regression"
      ],
      "metadata": {
        "colab": {
          "base_uri": "https://localhost:8080/"
        },
        "id": "kmLkCR2Rn3lG",
        "outputId": "dbc1f835-0fb1-4686-d286-db96dc317294"
      },
      "execution_count": null,
      "outputs": [
        {
          "output_type": "execute_result",
          "data": {
            "text/plain": [
              "array([0, 0, 0, 0, 0, 0, 0, 0, 0, 0, 0, 1, 0, 0, 0, 0, 0, 0, 0, 0, 0, 0,\n",
              "       0, 0, 0, 0, 0, 0, 0, 0, 0, 0, 0, 0, 0, 0, 0, 0, 0, 0, 0, 0, 0, 0,\n",
              "       0, 0, 0, 1, 0, 0, 1, 1, 0, 0, 0, 0, 0, 0, 0, 0, 0, 0, 1, 0, 0, 0,\n",
              "       0, 0, 0, 0, 0, 0, 0, 0, 0, 0, 0, 0, 0, 0, 0, 0, 0, 0, 1, 0, 0, 0,\n",
              "       0, 0, 0, 0, 0, 0, 0, 0, 0, 0, 1, 0, 0, 0, 0, 0, 0, 0, 0, 0, 0, 0,\n",
              "       0, 0, 0, 0, 0, 0, 1, 0, 0, 0, 0, 0, 0, 0, 0, 0, 0, 0, 0, 0, 0, 0,\n",
              "       0, 0, 0, 0, 0, 0, 0, 0, 0, 0, 0, 0, 0, 0, 0, 0, 0, 0, 0, 0, 0, 0,\n",
              "       0, 0, 0, 0, 0, 0, 0, 0, 0, 0, 0, 0, 0, 0, 0, 0, 0, 0, 0, 0, 0, 0,\n",
              "       0, 0, 0, 1, 0, 0, 0, 0, 0, 0, 0, 0, 0, 0, 0, 0, 0, 0, 0, 0, 0, 0,\n",
              "       0, 0, 0, 0, 0, 0, 0, 0, 0, 0, 0, 0, 0, 0, 0, 0, 1, 0, 0, 0, 0, 0,\n",
              "       0, 0, 0, 0, 0, 0, 0, 0, 0, 0, 0, 0, 0, 0, 0, 0, 0, 0, 0, 0, 0, 0,\n",
              "       0, 0, 0, 0, 0, 0, 0, 0, 0, 0, 0, 0, 1, 0, 0, 0, 0, 0, 0, 0, 0, 0,\n",
              "       0, 0, 0, 0, 0, 0, 0, 0, 0, 0, 0, 0, 0, 0, 0, 0, 0, 0, 0, 0, 0, 0,\n",
              "       0, 0, 0, 0, 0, 0, 0, 0, 0, 0, 0, 0, 0, 0, 0, 0, 0, 0, 0, 0, 0, 0,\n",
              "       0, 0, 0, 0, 0, 1, 1, 0, 1, 0, 0, 0, 0, 0, 0, 0, 0, 0, 0, 0, 0, 0,\n",
              "       0, 0, 0, 0, 0, 0, 0, 0, 0, 0, 0, 0, 0, 0, 0, 0, 0, 0, 0, 0])"
            ]
          },
          "metadata": {},
          "execution_count": 90
        }
      ]
    },
    {
      "cell_type": "markdown",
      "source": [
        "Naive Bayes Classifier"
      ],
      "metadata": {
        "id": "gzj5K02YnnbL"
      }
    },
    {
      "cell_type": "code",
      "source": [
        "bnb = BernoulliNB(alpha=.75)\n",
        "bnb.fit(train_resampledUnder1, label_resampledUnder1)\n",
        "results = bnb.predict(reduced_test1)"
      ],
      "metadata": {
        "id": "wf2KS3HKnnAp"
      },
      "execution_count": null,
      "outputs": []
    },
    {
      "cell_type": "markdown",
      "source": [
        "XG Boost Classifier"
      ],
      "metadata": {
        "id": "mB6SqPakoZqj"
      }
    },
    {
      "cell_type": "code",
      "source": [
        "xgb_cl = xgb.XGBClassifier()\n",
        "xgb_cl.fit(chiTrain, y_train)\n",
        "prediction_xgb = xgb_cl.predict(chiTest)"
      ],
      "metadata": {
        "id": "2i45dy-9oZEw"
      },
      "execution_count": null,
      "outputs": []
    },
    {
      "cell_type": "markdown",
      "source": [
        "# SAMPLING"
      ],
      "metadata": {
        "id": "Xq2DrOwFjJxR"
      }
    },
    {
      "cell_type": "markdown",
      "source": [
        "**Over Sampling**"
      ],
      "metadata": {
        "id": "6YDQIgZ-ksjU"
      }
    },
    {
      "cell_type": "markdown",
      "source": [
        "Random Over Sampler"
      ],
      "metadata": {
        "id": "5KWh2pqPky9l"
      }
    },
    {
      "cell_type": "code",
      "source": [
        "from imblearn.over_sampling import RandomOverSampler\n",
        "ros = RandomOverSampler(random_state=0)\n",
        "train_resampled, label_resampled = ros.fit_resample(sparse_train, label)\n",
        "print(sorted(Counter(label_resampled).items()),label_resampled.shape)"
      ],
      "metadata": {
        "id": "zwCHmtrBjRCo"
      },
      "execution_count": null,
      "outputs": []
    },
    {
      "cell_type": "markdown",
      "source": [
        "SMOTE"
      ],
      "metadata": {
        "id": "vK0cd21mFuON"
      }
    },
    {
      "cell_type": "code",
      "source": [
        "oversample = SMOTE()\n",
        "X, y = oversample.fit_resample(trainDataTrial, label)"
      ],
      "metadata": {
        "id": "LmV5WY9kFtyl"
      },
      "execution_count": null,
      "outputs": []
    },
    {
      "cell_type": "markdown",
      "source": [
        "**Under Sampling**"
      ],
      "metadata": {
        "id": "cL4F0V-Qk73J"
      }
    },
    {
      "cell_type": "markdown",
      "source": [
        "Random Under Sampler"
      ],
      "metadata": {
        "id": "ad4DDPijlAz6"
      }
    },
    {
      "cell_type": "code",
      "source": [
        "from imblearn.under_sampling import RandomUnderSampler\n",
        "rosUnder = RandomUnderSampler(random_state=0)\n",
        "train_resampledUnder, label_resampledUnder = rosUnder.fit_resample(sparse_train, label)\n",
        "print(sorted(Counter(label_resampledUnder).items()),label_resampledUnder.shape)"
      ],
      "metadata": {
        "id": "ZiFIv1jnk7bo"
      },
      "execution_count": null,
      "outputs": []
    },
    {
      "cell_type": "markdown",
      "source": [
        "# Train Test Split"
      ],
      "metadata": {
        "id": "PmTGUUFqmFEH"
      }
    },
    {
      "cell_type": "code",
      "source": [
        "X_train, X_test, y_train, y_test = train_test_split(X_shuffle,y_shuffle, test_size=0.2, stratify=y_shuffle)"
      ],
      "metadata": {
        "id": "RCcqxH89mDxj"
      },
      "execution_count": null,
      "outputs": []
    },
    {
      "cell_type": "markdown",
      "source": [
        "# Shuffling the data"
      ],
      "metadata": {
        "id": "k0G3mtz1H0CB"
      }
    },
    {
      "cell_type": "code",
      "source": [
        "X_shuffle, y_shuffle = shuffle(X, y, random_state=27)"
      ],
      "metadata": {
        "id": "trcaqIG5HzQX"
      },
      "execution_count": null,
      "outputs": []
    },
    {
      "cell_type": "markdown",
      "source": [
        "## F1 Score"
      ],
      "metadata": {
        "id": "VMjwPIOtpLrw"
      }
    },
    {
      "cell_type": "code",
      "source": [
        "Rf = f1_score(y_test, prediction_xgb)\n",
        "print('F1 Score:', Rf)"
      ],
      "metadata": {
        "id": "x8EX9xMjpMbI"
      },
      "execution_count": null,
      "outputs": []
    },
    {
      "cell_type": "markdown",
      "source": [
        "# New Way"
      ],
      "metadata": {
        "id": "GyubwhF1JD-7"
      }
    },
    {
      "cell_type": "code",
      "source": [
        "kbest = SelectKBest(score_func=chi2, k=30000)\n",
        "chiTrain = kbest.fit_transform(X_train, y_train)\n",
        "chiTest = kbest.transform(X_test)"
      ],
      "metadata": {
        "id": "MO1FSaeNJCor"
      },
      "execution_count": null,
      "outputs": []
    },
    {
      "cell_type": "code",
      "source": [
        "pca = PCA(n_components = 100, whiten= True)\n",
        "pcaTrain = pca.fit_transform(chiTrain)\n",
        "pcaTest = pca.transform(chiTest)"
      ],
      "metadata": {
        "id": "mD8MuwZ_J2qD"
      },
      "execution_count": null,
      "outputs": []
    },
    {
      "cell_type": "code",
      "source": [
        "#SVD Feature Selection\n",
        "svd =  TruncatedSVD(n_components = 1000)\n",
        "trainDataSVD = svd.fit_transform(X_train)\n",
        "validationDataSVD = svd.transform(X_test)\n",
        "pd.DataFrame(trainDataSVD)"
      ],
      "metadata": {
        "id": "QB6DAV2lQYyJ"
      },
      "execution_count": null,
      "outputs": []
    },
    {
      "cell_type": "code",
      "source": [
        "##Decision Tree\n",
        "clf1 = DecisionTreeClassifier(random_state = 42)\n",
        "clf1.fit(pcaTrain, y_train)\n",
        "prediction_decision_tree1 = clf1.predict(pcaTest)\n",
        "prediction_decision_tree1"
      ],
      "metadata": {
        "id": "dYYakR9dKI-c"
      },
      "execution_count": null,
      "outputs": []
    },
    {
      "cell_type": "code",
      "source": [
        "#XGB Classifier\n",
        "xgb_cl = xgb.XGBClassifier()\n",
        "xgb_cl.fit(chiTrain, y_train)\n",
        "prediction_xgb = xgb_cl.predict(chiTest)"
      ],
      "metadata": {
        "id": "32nfsLNtQIoW"
      },
      "execution_count": null,
      "outputs": []
    },
    {
      "cell_type": "markdown",
      "source": [
        "F1 Score Accuracy"
      ],
      "metadata": {
        "id": "gMge7qiEPkeD"
      }
    },
    {
      "cell_type": "code",
      "source": [
        "Rf = f1_score(y_test, prediction_xgb)\n",
        "print('F1 Score:', Rf)\n",
        "metrics.accuracy_score(y_test, prediction_xgb)\n",
        "\n"
      ],
      "metadata": {
        "colab": {
          "base_uri": "https://localhost:8080/"
        },
        "id": "e0DqnMnTSpjD",
        "outputId": "503a9094-2641-427b-a916-2576e80e2757"
      },
      "execution_count": null,
      "outputs": [
        {
          "output_type": "stream",
          "name": "stdout",
          "text": [
            "F1 Score: 0.9550173010380624\n"
          ]
        },
        {
          "output_type": "execute_result",
          "data": {
            "text/plain": [
              "0.9550173010380623"
            ]
          },
          "metadata": {},
          "execution_count": 40
        }
      ]
    },
    {
      "cell_type": "code",
      "source": [
        "Rf12 = f1_score(y_test, prediction_decision_tree1)\n",
        "Rf12"
      ],
      "metadata": {
        "colab": {
          "base_uri": "https://localhost:8080/"
        },
        "id": "M4IcxICeK0Nb",
        "outputId": "7a58c827-9fa3-4d0a-fb10-0f99851d0af6"
      },
      "execution_count": null,
      "outputs": [
        {
          "output_type": "execute_result",
          "data": {
            "text/plain": [
              "0.9494949494949494"
            ]
          },
          "metadata": {},
          "execution_count": 26
        }
      ]
    },
    {
      "cell_type": "code",
      "source": [
        "prediction_decision_tree1"
      ],
      "metadata": {
        "id": "qAJvcUjmM2B5"
      },
      "execution_count": null,
      "outputs": []
    },
    {
      "cell_type": "code",
      "source": [
        "#upload on miner test data low prediction score\n",
        "chiActualTest = kbest.transform(testDataTrial)\n",
        "prediction_xgb1 = xgb_cl.predict(chiActualTest)"
      ],
      "metadata": {
        "id": "knDi_w96UmiW"
      },
      "execution_count": null,
      "outputs": []
    },
    {
      "cell_type": "code",
      "source": [
        "prediction_decision_tree1 = clf1.predict(chiActualTest)"
      ],
      "metadata": {
        "id": "l7c9m4lVWzim"
      },
      "execution_count": null,
      "outputs": []
    },
    {
      "cell_type": "code",
      "source": [
        "prediction_xgb1"
      ],
      "metadata": {
        "id": "_LPH9G6vVLo2"
      },
      "execution_count": null,
      "outputs": []
    },
    {
      "cell_type": "code",
      "source": [
        "resultFile = open('format.txt', 'w')\n",
        "resultFile.writelines(\"%s\\n\" % val for val in prediction_xgb1)\n",
        "resultFile.close()"
      ],
      "metadata": {
        "id": "OG2CCR0IM_m9"
      },
      "execution_count": null,
      "outputs": []
    },
    {
      "cell_type": "markdown",
      "source": [
        "# Working on actual test data"
      ],
      "metadata": {
        "id": "d7FTIQ7TXLzw"
      }
    },
    {
      "cell_type": "markdown",
      "source": [
        "Approach 1 - 38% on miner"
      ],
      "metadata": {
        "id": "K8-6k5PLbJSW"
      }
    },
    {
      "cell_type": "code",
      "source": [
        "kbest = SelectKBest(score_func=chi2, k=30000)\n",
        "reduced_train = kbest.fit_transform(trainDataTrial, label)\n",
        "reduced_test = kbest.transform(testDataTrial)\n",
        "\n",
        "oversample = SMOTE()\n",
        "X, y = oversample.fit_resample(reduced_train, label)\n",
        "\n",
        "clf = DecisionTreeClassifier(random_state = 42)\n",
        "clf.fit(X, y)\n",
        "prediction_decision_tree = clf.predict(reduced_test)\n",
        "prediction_decision_tree\n",
        "\n"
      ],
      "metadata": {
        "id": "ylyjpAW7XOUp"
      },
      "execution_count": null,
      "outputs": []
    },
    {
      "cell_type": "markdown",
      "source": [
        "Approach 2- Chi Square, RandomUnderSampler, BernoulliNB\n",
        "Accuracy on Miner- 73%"
      ],
      "metadata": {
        "id": "KqtK1xbgifUH"
      }
    },
    {
      "cell_type": "code",
      "source": [
        "kbest1 = SelectKBest(score_func=chi2, k=450)\n",
        "reduced_train1 = kbest1.fit_transform(trainDataTrial, label)\n",
        "reduced_test1 = kbest1.transform(testDataTrial)\n",
        "\n",
        "rosUnder1 = RandomUnderSampler(random_state=0)\n",
        "train_resampledUnder1, label_resampledUnder1 = rosUnder1.fit_resample(reduced_train1, label)\n",
        "\n",
        "bnb = BernoulliNB(alpha=.75)\n",
        "bnb.fit(train_resampledUnder1, label_resampledUnder1)\n",
        "prediction = bnb.predict(reduced_test1)\n"
      ],
      "metadata": {
        "id": "wyMD4BKKiXeV"
      },
      "execution_count": 104,
      "outputs": []
    },
    {
      "cell_type": "code",
      "source": [
        "prediction"
      ],
      "metadata": {
        "id": "_EXMovo2kbJZ",
        "colab": {
          "base_uri": "https://localhost:8080/"
        },
        "outputId": "b00d9271-34d3-48bb-c1ec-8fb178ab49dd"
      },
      "execution_count": 105,
      "outputs": [
        {
          "output_type": "execute_result",
          "data": {
            "text/plain": [
              "array([0, 0, 1, 0, 0, 0, 0, 1, 0, 0, 0, 1, 0, 0, 0, 0, 0, 0, 0, 0, 0, 0,\n",
              "       0, 0, 1, 0, 0, 0, 0, 0, 0, 0, 0, 0, 0, 0, 0, 0, 0, 0, 0, 0, 0, 0,\n",
              "       0, 0, 0, 1, 0, 0, 1, 1, 0, 0, 0, 0, 1, 0, 0, 0, 0, 0, 1, 0, 0, 0,\n",
              "       0, 0, 0, 0, 0, 0, 0, 1, 1, 0, 0, 0, 0, 0, 0, 0, 0, 0, 1, 0, 0, 0,\n",
              "       0, 0, 0, 0, 0, 0, 0, 0, 0, 0, 1, 0, 0, 0, 0, 0, 0, 0, 0, 0, 0, 0,\n",
              "       0, 0, 0, 0, 0, 0, 1, 0, 0, 0, 0, 0, 0, 0, 0, 0, 0, 0, 0, 0, 0, 0,\n",
              "       0, 0, 0, 1, 0, 0, 0, 0, 0, 0, 0, 0, 0, 0, 0, 0, 0, 0, 0, 0, 0, 0,\n",
              "       0, 0, 0, 0, 0, 0, 0, 0, 0, 1, 0, 0, 1, 0, 0, 0, 0, 0, 0, 0, 0, 0,\n",
              "       0, 0, 0, 1, 0, 0, 0, 0, 0, 0, 0, 0, 0, 0, 1, 0, 0, 0, 0, 0, 0, 0,\n",
              "       0, 0, 0, 0, 0, 0, 0, 0, 1, 0, 0, 0, 0, 0, 0, 0, 1, 0, 0, 0, 0, 0,\n",
              "       0, 0, 0, 0, 0, 0, 0, 0, 0, 0, 0, 0, 0, 0, 0, 0, 0, 0, 0, 0, 0, 0,\n",
              "       0, 0, 0, 0, 0, 0, 0, 0, 0, 0, 0, 0, 1, 0, 0, 0, 0, 0, 0, 0, 0, 0,\n",
              "       0, 0, 0, 0, 0, 0, 1, 0, 0, 0, 0, 0, 0, 0, 0, 0, 0, 0, 0, 0, 0, 0,\n",
              "       0, 0, 0, 0, 0, 0, 0, 0, 0, 0, 1, 0, 0, 0, 0, 0, 0, 0, 0, 0, 0, 0,\n",
              "       0, 0, 0, 0, 0, 1, 1, 0, 1, 0, 0, 0, 0, 0, 0, 0, 0, 0, 0, 0, 0, 0,\n",
              "       0, 0, 0, 0, 0, 1, 1, 0, 0, 0, 0, 0, 1, 0, 0, 0, 0, 0, 0, 0])"
            ]
          },
          "metadata": {},
          "execution_count": 105
        }
      ]
    },
    {
      "cell_type": "code",
      "source": [
        "pd.DataFrame(prediction).value_counts()"
      ],
      "metadata": {
        "colab": {
          "base_uri": "https://localhost:8080/"
        },
        "id": "m56n7lGQsm-d",
        "outputId": "c491d969-fe28-4503-e7ce-95ba42b69a5e"
      },
      "execution_count": 106,
      "outputs": [
        {
          "output_type": "execute_result",
          "data": {
            "text/plain": [
              "0    320\n",
              "1     30\n",
              "dtype: int64"
            ]
          },
          "metadata": {},
          "execution_count": 106
        }
      ]
    },
    {
      "cell_type": "code",
      "source": [
        "resultFile = open('format.txt', 'w')\n",
        "resultFile.writelines(\"%s\\n\" % val for val in prediction)\n",
        "resultFile.close()"
      ],
      "metadata": {
        "id": "i3LHLiqvatBS"
      },
      "execution_count": null,
      "outputs": []
    },
    {
      "cell_type": "markdown",
      "source": [
        "Approach 3 -> SVD used for feature selection and Decision Tree used as a classifier "
      ],
      "metadata": {
        "id": "n1nT7XjcoVGz"
      }
    },
    {
      "cell_type": "code",
      "source": [
        "svd_trunc = TruncatedSVD(algorithm='randomized', n_components=800, n_iter=30, random_state=42)\n",
        "svd_trunc_m = svd_trunc.fit(trainDataTrial, label)\n",
        "reduced_features = svd_trunc_m.transform(trainDataTrial)"
      ],
      "metadata": {
        "id": "wG2XR7SEoUuv"
      },
      "execution_count": 46,
      "outputs": []
    },
    {
      "cell_type": "code",
      "source": [
        "validationDataSVDTest = svd_trunc.transform(testDataTrial)"
      ],
      "metadata": {
        "id": "4wBGAdcp1w1t"
      },
      "execution_count": 55,
      "outputs": []
    },
    {
      "cell_type": "code",
      "source": [
        "X_train, X_test, y_train, y_test = train_test_split(reduced_features,label, test_size=0.2, random_state=123)"
      ],
      "metadata": {
        "id": "hUbffeW7theU"
      },
      "execution_count": 56,
      "outputs": []
    },
    {
      "cell_type": "code",
      "source": [
        "dtc = DecisionTreeClassifier(random_state=53,class_weight={0: 1, 1: 1.5})\n",
        "dtc.fit(X_train,y_train)\n",
        "predict_decision_tree = dtc.predict(X_test)"
      ],
      "metadata": {
        "id": "gM345sZgt-YQ"
      },
      "execution_count": 57,
      "outputs": []
    },
    {
      "cell_type": "code",
      "source": [
        "f1Scoredtc = f1_score(y_test, predict_decision_tree)\n",
        "print('F1 Score- Decision Tree Classifier:', f1Scoredtc)"
      ],
      "metadata": {
        "colab": {
          "base_uri": "https://localhost:8080/"
        },
        "id": "p_uH_aA2v6O6",
        "outputId": "5632d881-2552-4d98-9596-bfd2f52e5a40"
      },
      "execution_count": 58,
      "outputs": [
        {
          "output_type": "stream",
          "name": "stdout",
          "text": [
            "F1 Score- Decision Tree Classifier: 0.5625\n"
          ]
        }
      ]
    },
    {
      "cell_type": "code",
      "source": [
        "#Miner\n",
        "dtc.fit(X_train,y_train)\n",
        "predict_dtc = dtc.predict(validationDataSVDTest)"
      ],
      "metadata": {
        "id": "RlXPGWbn1gVy"
      },
      "execution_count": 59,
      "outputs": []
    },
    {
      "cell_type": "code",
      "source": [
        "predict_dtc"
      ],
      "metadata": {
        "colab": {
          "base_uri": "https://localhost:8080/"
        },
        "id": "vDSIlWyI3OU8",
        "outputId": "538159ff-3025-4cab-ef49-f36ab6d30b0a"
      },
      "execution_count": 60,
      "outputs": [
        {
          "output_type": "execute_result",
          "data": {
            "text/plain": [
              "array([0, 0, 0, 0, 0, 0, 0, 0, 0, 0, 0, 1, 0, 0, 0, 0, 0, 0, 0, 0, 0, 0,\n",
              "       0, 0, 0, 0, 0, 0, 0, 0, 0, 0, 0, 0, 0, 0, 0, 0, 0, 0, 0, 0, 0, 0,\n",
              "       0, 0, 0, 0, 0, 0, 0, 1, 0, 0, 0, 0, 0, 0, 0, 0, 0, 0, 1, 0, 0, 0,\n",
              "       0, 0, 0, 0, 0, 0, 0, 0, 0, 0, 0, 0, 0, 0, 0, 0, 0, 0, 1, 0, 0, 0,\n",
              "       0, 0, 0, 0, 0, 0, 0, 0, 0, 0, 1, 0, 0, 0, 0, 0, 0, 0, 0, 0, 0, 0,\n",
              "       0, 0, 0, 0, 0, 0, 1, 0, 0, 0, 0, 0, 0, 0, 0, 0, 0, 0, 0, 0, 0, 0,\n",
              "       0, 0, 0, 0, 0, 0, 0, 0, 0, 0, 0, 0, 0, 0, 0, 0, 0, 0, 0, 0, 0, 0,\n",
              "       0, 0, 0, 0, 0, 0, 1, 0, 0, 1, 0, 0, 0, 0, 0, 0, 0, 0, 0, 0, 0, 0,\n",
              "       0, 0, 0, 1, 0, 0, 0, 0, 0, 0, 0, 0, 0, 0, 1, 0, 0, 0, 0, 0, 0, 0,\n",
              "       0, 0, 0, 0, 0, 0, 0, 0, 1, 0, 0, 0, 0, 0, 0, 0, 0, 0, 0, 0, 0, 0,\n",
              "       0, 0, 0, 0, 0, 0, 0, 0, 0, 0, 0, 0, 0, 0, 0, 0, 0, 0, 0, 0, 0, 0,\n",
              "       0, 0, 0, 0, 0, 0, 0, 0, 0, 0, 0, 0, 1, 0, 0, 0, 0, 0, 0, 0, 0, 0,\n",
              "       0, 0, 0, 0, 0, 0, 0, 0, 0, 0, 0, 0, 0, 0, 0, 0, 0, 0, 0, 0, 0, 0,\n",
              "       0, 0, 0, 0, 0, 0, 0, 0, 0, 0, 0, 0, 0, 0, 0, 0, 0, 0, 0, 0, 0, 0,\n",
              "       0, 0, 0, 0, 0, 0, 0, 0, 0, 0, 0, 0, 0, 0, 0, 0, 0, 0, 0, 0, 0, 0,\n",
              "       0, 0, 0, 0, 0, 0, 1, 0, 0, 0, 0, 0, 0, 0, 0, 0, 0, 0, 0, 0])"
            ]
          },
          "metadata": {},
          "execution_count": 60
        }
      ]
    },
    {
      "cell_type": "code",
      "source": [
        "resultFile = open('format.txt', 'w')\n",
        "resultFile.writelines(\"%s\\n\" % val for val in predict_dtc)\n",
        "resultFile.close()"
      ],
      "metadata": {
        "id": "o9kzOoQm3WAl"
      },
      "execution_count": 61,
      "outputs": []
    },
    {
      "cell_type": "markdown",
      "source": [
        "Approach 4 -> Used chi square and then applied PCA as a feature selection on the Decision Tree classifier"
      ],
      "metadata": {
        "id": "NFtPX3vQ11N0"
      }
    },
    {
      "cell_type": "code",
      "source": [
        "#upload on miner test data- 63%\n",
        "#format(8).txt\n",
        "chiActualTest = kbest.transform(testDataTrial)\n",
        "pcaActualTest = pca.transform(chiActualTest)\n",
        "prediction_decision_tree1 = clf1.predict(pcaActualTest)"
      ],
      "metadata": {
        "id": "FUbsJr3gLT0D"
      },
      "execution_count": null,
      "outputs": []
    }
  ]
}