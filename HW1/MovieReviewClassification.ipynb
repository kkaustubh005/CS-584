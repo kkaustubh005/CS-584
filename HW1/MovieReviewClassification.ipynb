{
  "cells": [
    {
      "cell_type": "markdown",
      "metadata": {
        "id": "1tHIjk9YGFn6"
      },
      "source": [
        "# **HW1: Movie Reviews Classification**"
      ]
    },
    {
      "cell_type": "markdown",
      "metadata": {
        "id": "Z7ueJNCBPqv6"
      },
      "source": [
        "\n",
        "**Identifier**: Kaustubh\n",
        "#G01314326"
      ]
    },
    {
      "cell_type": "markdown",
      "metadata": {
        "id": "ChbGoJHAAUkN"
      },
      "source": [
        "Importing libaries"
      ]
    },
    {
      "cell_type": "code",
      "execution_count": 48,
      "metadata": {
        "colab": {
          "base_uri": "https://localhost:8080/"
        },
        "id": "yX48rtBn_zY_",
        "outputId": "e63d7b45-5d63-4a5a-8f64-804028f7be2b"
      },
      "outputs": [
        {
          "name": "stdout",
          "output_type": "stream",
          "text": [
            "[nltk_data] Downloading package punkt to /root/nltk_data...\n",
            "[nltk_data]   Package punkt is already up-to-date!\n",
            "[nltk_data] Downloading package stopwords to /root/nltk_data...\n",
            "[nltk_data]   Package stopwords is already up-to-date!\n",
            "[nltk_data] Downloading package wordnet to /root/nltk_data...\n",
            "[nltk_data]   Package wordnet is already up-to-date!\n"
          ]
        }
      ],
      "source": [
        "import pandas as pd\n",
        "import numpy as np\n",
        "import nltk\n",
        "nltk.download('punkt')\n",
        "nltk.download('stopwords')\n",
        "nltk.download('wordnet')\n",
        "import re\n",
        "from nltk.corpus import stopwords\n",
        "from nltk.stem import WordNetLemmatizer\n",
        "from sklearn.metrics.pairwise import cosine_similarity\n",
        "from sklearn.feature_extraction.text import TfidfVectorizer\n",
        "from sklearn.model_selection import train_test_split\n",
        "from sklearn import metrics"
      ]
    },
    {
      "cell_type": "markdown",
      "metadata": {
        "id": "wwmpe3A2Cn49"
      },
      "source": [
        "Train and Test Data Frame"
      ]
    },
    {
      "cell_type": "code",
      "execution_count": 49,
      "metadata": {
        "id": "79l1sRCpBHK2"
      },
      "outputs": [],
      "source": [
        "train = pd.read_csv(\"training.txt\", delimiter=\"\\n\", header= None, engine='python')\n",
        "train['Review']=''\n",
        "train.columns = ['Rating','Review']\n",
        "\n",
        "Rating=[]\n",
        "Review=[]\n",
        "for i in range(0,len(train)):\n",
        "    data = train.loc[i][0].split(\"\\t\")\n",
        "    Rating.append(data[0])\n",
        "    Review.append(data[1])  \n",
        "\n",
        "dict = {\"Rating\":Rating, \"Review\":Review}\n",
        "train = pd.DataFrame.from_dict(dict) "
      ]
    },
    {
      "cell_type": "code",
      "execution_count": 50,
      "metadata": {
        "id": "aRIfkRMyLF7W"
      },
      "outputs": [],
      "source": [
        "trainRating = train['Rating'].values\n",
        "trainRating"
      ]
    },
    {
      "cell_type": "code",
      "execution_count": 67,
      "metadata": {
        "colab": {
          "base_uri": "https://localhost:8080/"
        },
        "id": "bAZA1Zu-O0Bz",
        "outputId": "2fcf7883-4da9-4119-bf74-02fe03fa3aee"
      },
      "outputs": [
        {
          "data": {
            "text/plain": [
              "array(['-1', '+1', '+1', ..., '+1', '-1', '-1'], dtype=object)"
            ]
          },
          "execution_count": 67,
          "metadata": {},
          "output_type": "execute_result"
        }
      ],
      "source": [
        "trainRating"
      ]
    },
    {
      "cell_type": "code",
      "execution_count": 51,
      "metadata": {
        "id": "OP13nWetBv7k"
      },
      "outputs": [],
      "source": [
        "test = pd.read_csv(\"test data.txt\", sep = \"#EOF\", header= None, engine='python')\n",
        "test.columns = ['Review']"
      ]
    },
    {
      "cell_type": "markdown",
      "metadata": {
        "id": "deCv8f5MDko-"
      },
      "source": [
        "Pre-processing Train Data"
      ]
    },
    {
      "cell_type": "code",
      "execution_count": 52,
      "metadata": {
        "id": "5oWFtDgZDfR4"
      },
      "outputs": [],
      "source": [
        "wordnet=WordNetLemmatizer()\n",
        "trainCleanData = list()\n",
        "length = len(Review)\n",
        "stopWords = stopwords.words('english')\n",
        "for i in range(length):\n",
        "    txt = re.sub('[^a-zA-Z]', ' ', Review[i])  \n",
        "    txt = txt.lower() \n",
        "    txt = nltk.word_tokenize(txt)\n",
        "    txt = [wordnet.lemmatize(word) for word in txt if not word in set(stopWords)]\n",
        "    txt = [word for word in set(txt)]\n",
        "    txt = ' '.join(txt)\n",
        "    trainCleanData.append(txt)"
      ]
    },
    {
      "cell_type": "markdown",
      "metadata": {
        "id": "Yn0FaoIAHsTx"
      },
      "source": [
        "Pre-Processing Test Data"
      ]
    },
    {
      "cell_type": "code",
      "execution_count": 53,
      "metadata": {
        "id": "NwG_H5VZHrzd"
      },
      "outputs": [],
      "source": [
        "testCleanData = list()\n",
        "length = len(test['Review'])\n",
        "for i in range(length):\n",
        "    txt = re.sub('[^a-zA-Z]', ' ', test['Review'][i])\n",
        "    txt = txt.lower() \n",
        "    txt = nltk.word_tokenize(txt)\n",
        "    txt = [wordnet.lemmatize(word) for word in txt if not word in set(stopWords)]\n",
        "    txt = [word for word in set(txt)]\n",
        "    txt = ' '.join(txt)\n",
        "    testCleanData.append(txt)"
      ]
    },
    {
      "cell_type": "markdown",
      "metadata": {
        "id": "pJ0UxX31Lg0B"
      },
      "source": [
        "***Validating the classifier using train test split function on train and test data.***"
      ]
    },
    {
      "cell_type": "markdown",
      "metadata": {
        "id": "KxfggUOuL2Lf"
      },
      "source": [
        "Train Test Split function"
      ]
    },
    {
      "cell_type": "code",
      "execution_count": 54,
      "metadata": {
        "id": "qEfvsBKkLgHX"
      },
      "outputs": [],
      "source": [
        "X_train, X_test, y_train, y_test = train_test_split(trainCleanData,trainRating, random_state=1, test_size=0.2)"
      ]
    },
    {
      "cell_type": "markdown",
      "metadata": {
        "id": "3ew3S-kTMise"
      },
      "source": [
        "Applying TF-IDF and calculating Cosine Similarity "
      ]
    },
    {
      "cell_type": "code",
      "execution_count": 55,
      "metadata": {
        "id": "GsOL49v0MW0J"
      },
      "outputs": [],
      "source": [
        "tfidf = TfidfVectorizer()"
      ]
    },
    {
      "cell_type": "code",
      "execution_count": 56,
      "metadata": {
        "id": "1LdgSFLMMJTJ"
      },
      "outputs": [],
      "source": [
        "X_trainTF = tfidf.fit_transform(X_train)\n",
        "X_testTF = tfidf.transform(X_test)\n",
        "cosSimilarX = cosine_similarity(X_testTF, X_trainTF)"
      ]
    },
    {
      "cell_type": "markdown",
      "metadata": {
        "id": "W2F7czTVNTgS"
      },
      "source": [
        "K-Nearest Neighbor Classifier Implementation"
      ]
    },
    {
      "cell_type": "code",
      "execution_count": 57,
      "metadata": {
        "id": "l-p4UUduNTMw"
      },
      "outputs": [],
      "source": [
        "def NearestNeighborClassifier(k, cos_similarity, rating):   \n",
        "  sentiments = list()\n",
        "  for i in cos_similarity:   \n",
        "    kn = np.argsort(-i)[:k]      \n",
        "    positiveCounter = 0\n",
        "    negativeCounter = 0\n",
        "    for val in kn:    \n",
        "      if rating[val] == '+1':\n",
        "        positiveCounter+=1\n",
        "      else:\n",
        "        negativeCounter+=1   \n",
        "\n",
        "    if positiveCounter>negativeCounter:\n",
        "      sentiments.append('+1')\n",
        "    else:\n",
        "      sentiments.append('-1')  \n",
        "\n",
        "  return sentiments    "
      ]
    },
    {
      "cell_type": "markdown",
      "metadata": {
        "id": "tXV5565KWEFU"
      },
      "source": [
        "Accuracy Check: KNN method applied"
      ]
    },
    {
      "cell_type": "code",
      "execution_count": 64,
      "metadata": {
        "colab": {
          "base_uri": "https://localhost:8080/"
        },
        "id": "jeBJIxB5N5PU",
        "outputId": "1fffda5f-6f09-46ad-fac3-c08f104476e7"
      },
      "outputs": [
        {
          "name": "stdout",
          "output_type": "stream",
          "text": [
            "Accuracy Score: 86.13333333333333%\n"
          ]
        }
      ],
      "source": [
        "#k=143\n",
        "ratingCD = list()\n",
        "ratingCD = NearestNeighborClassifier(143, cosSimilarX, y_train)\n",
        "print('Accuracy Score: ',metrics.accuracy_score(y_test,ratingCD)*100,'%',sep='')"
      ]
    },
    {
      "cell_type": "code",
      "execution_count": 68,
      "metadata": {
        "colab": {
          "base_uri": "https://localhost:8080/"
        },
        "id": "GUGLH2YCQtSL",
        "outputId": "4a5272b3-f052-45f6-959b-9289de1bcd8c"
      },
      "outputs": [
        {
          "name": "stdout",
          "output_type": "stream",
          "text": [
            "Accuracy Score: 85.16666666666667%\n"
          ]
        }
      ],
      "source": [
        "#k=70\n",
        "ratingCD = list()\n",
        "ratingCD = NearestNeighborClassifier(70, cosSimilarX, y_train)\n",
        "print('Accuracy Score: ',metrics.accuracy_score(y_test,ratingCD)*100,'%',sep='')"
      ]
    },
    {
      "cell_type": "markdown",
      "metadata": {
        "id": "emxlNt53hgit"
      },
      "source": [
        "Graph for K and Accuracy"
      ]
    },
    {
      "cell_type": "markdown",
      "metadata": {
        "id": "L-TXhpLYQRpO"
      },
      "source": [
        "For loop to check best K value according to the highest accuracy."
      ]
    },
    {
      "cell_type": "code",
      "execution_count": 65,
      "metadata": {
        "id": "dD-zW-w-dTho"
      },
      "outputs": [],
      "source": [
        "count=1\n",
        "accuracyList = list()\n",
        "kValues = list()\n",
        "for i in range(0,400, 2):\n",
        "  ratingCD = list()\n",
        "  ratingCD = NearestNeighborClassifier(count, cosSimilarX, y_train)\n",
        "  accuracyList.append(metrics.accuracy_score(y_test,ratingCD)*100)\n",
        "  kValues.append(count)\n",
        "  count+=2"
      ]
    },
    {
      "cell_type": "code",
      "execution_count": 66,
      "metadata": {
        "colab": {
          "base_uri": "https://localhost:8080/",
          "height": 330
        },
        "id": "5NMCp1LXfDj3",
        "outputId": "a3310da2-b5a2-4b61-8163-8508f02495de"
      },
      "outputs": [
        {
          "data": {
            "image/png": "[encoded data removed]",
            "text/plain": [
              "<Figure size 432x288 with 1 Axes>"
            ]
          },
          "metadata": {
            "needs_background": "light"
          },
          "output_type": "display_data"
        },
        {
          "name": "stdout",
          "output_type": "stream",
          "text": [
            "K: 143\n",
            "Best Accuracy: 86.13333333333333 %\n"
          ]
        }
      ],
      "source": [
        "import matplotlib.pyplot as plt\n",
        "plt.title('Graph of K VS Accuracy')\n",
        "\n",
        "df = pd.DataFrame({\"K\":kValues, \"Accuracy\":accuracyList})\n",
        "plt.scatter(df['K'], df['Accuracy'])\n",
        "plt.ylabel('Accuracy (in percentage)')\n",
        "plt.xlabel('K')\n",
        "plt.show()\n",
        "\n",
        "maxAccuracy = max(accuracyList)  \n",
        "maxK = kValues[accuracyList.index(maxAccuracy)]  \n",
        "print (\"K:\",maxK)\n",
        "print (\"Best Accuracy:\", maxAccuracy,\"%\")"
      ]
    },
    {
      "cell_type": "markdown",
      "metadata": {
        "id": "6rj0v71pVnlT"
      },
      "source": [
        "***Running K-Nearest Neighbor Classifier on Actual Test Data***"
      ]
    },
    {
      "cell_type": "markdown",
      "metadata": {
        "id": "6sKWAQNKWjMW"
      },
      "source": [
        "Applying TF-IDF and calculating Cosine Similarity"
      ]
    },
    {
      "cell_type": "code",
      "execution_count": 59,
      "metadata": {
        "id": "CSbhvVfgVnTr"
      },
      "outputs": [],
      "source": [
        "trainTF = tfidf.fit_transform(trainCleanData)\n",
        "testTF = tfidf.transform(testCleanData)\n",
        "cosSim = cosine_similarity(testTF, trainTF)"
      ]
    },
    {
      "cell_type": "markdown",
      "metadata": {
        "id": "iYpCDTrqXG0K"
      },
      "source": [
        "Applying K-Nearest Neighbor Classifier"
      ]
    },
    {
      "cell_type": "code",
      "execution_count": 61,
      "metadata": {
        "id": "sp8fywYuWniw"
      },
      "outputs": [],
      "source": [
        "#K=143\n",
        "prediction = list()\n",
        "prediction = NearestNeighborClassifier(143, cosSim, trainRating)\n"
      ]
    },
    {
      "cell_type": "code",
      "execution_count": 63,
      "metadata": {
        "id": "Q9_RkgqgXXda"
      },
      "outputs": [],
      "source": [
        "resultFile = open('format.txt', 'w')\n",
        "resultFile.writelines(\"%s\\n\" % val for val in prediction)\n",
        "resultFile.close()"
      ]
    }
  ],
  "metadata": {
    "colab": {
      "collapsed_sections": [],
      "name": "CS584- Assignment1.ipynb",
      "provenance": []
    },
    "kernelspec": {
      "display_name": "Python 3",
      "name": "python3"
    },
    "language_info": {
      "name": "python"
    }
  },
  "nbformat": 4,
  "nbformat_minor": 0
}
