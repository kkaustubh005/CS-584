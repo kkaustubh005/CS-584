{
  "nbformat": 4,
  "nbformat_minor": 0,
  "metadata": {
    "colab": {
      "name": "CS584_Assignment3.ipynb",
      "provenance": [],
      "collapsed_sections": []
    },
    "kernelspec": {
      "name": "python3",
      "display_name": "Python 3"
    },
    "language_info": {
      "name": "python"
    }
  },
  "cells": [
    {
      "cell_type": "markdown",
      "source": [
        "**HW3- Image Clustering**"
      ],
      "metadata": {
        "id": "vMyK6V8sikyy"
      }
    },
    {
      "cell_type": "markdown",
      "source": [
        "Identifier: Kaustubh\n",
        "\n",
        "G01314326"
      ],
      "metadata": {
        "id": "8QVDmYR2ieav"
      }
    },
    {
      "cell_type": "code",
      "execution_count": 1,
      "metadata": {
        "id": "qfe0ZReulE3C"
      },
      "outputs": [],
      "source": [
        "import numpy as np\n",
        "import pandas as pd\n",
        "import numpy.matlib\n",
        "import matplotlib.pyplot as plt\n",
        "import seaborn as sns\n",
        "from sklearn import datasets\n",
        "from sklearn.manifold import TSNE\n",
        "from sklearn.metrics import silhouette_score\n",
        "from sklearn.metrics.cluster import v_measure_score\n",
        "from sklearn.metrics import accuracy_score\n",
        "from sklearn.decomposition import PCA\n",
        "from scipy.spatial import distance\n",
        "from sklearn.preprocessing import normalize as nor\n",
        "from sklearn.preprocessing import LabelEncoder "
      ]
    },
    {
      "cell_type": "markdown",
      "source": [
        "# IRIS DATASET"
      ],
      "metadata": {
        "id": "-vVxYOA1fiDu"
      }
    },
    {
      "cell_type": "code",
      "source": [
        "iris = pd.read_csv('iris.data',header=None)\n",
        "iris.columns = ['f1','f2','f3','f4','target']\n",
        "irisV = iris.drop(iris.columns[4], axis=1)"
      ],
      "metadata": {
        "id": "E1tvUlb2lR8P"
      },
      "execution_count": 23,
      "outputs": []
    },
    {
      "cell_type": "code",
      "source": [
        "irisArray = irisV.values\n",
        "irisArray"
      ],
      "metadata": {
        "id": "uouudHMMlcSK"
      },
      "execution_count": null,
      "outputs": []
    },
    {
      "cell_type": "markdown",
      "source": [
        "Applying dimensionality reduction"
      ],
      "metadata": {
        "id": "2Qqcb1bFJSEB"
      }
    },
    {
      "cell_type": "code",
      "source": [
        "tsne = TSNE(n_components=2, verbose=1, perplexity=30, n_iter=400)\n",
        "tsneIRIS_data = tsne.fit_transform(irisArray)\n",
        "tsneIRIS_data"
      ],
      "metadata": {
        "id": "5gEUw5qLIVyA"
      },
      "execution_count": null,
      "outputs": []
    },
    {
      "cell_type": "code",
      "source": [
        "pca = PCA(n_components = 2)\n",
        "pcaIRIS_data = pca.fit_transform(irisArray)\n",
        "pcaIRIS_data"
      ],
      "metadata": {
        "id": "_a09oFYeIq5E"
      },
      "execution_count": null,
      "outputs": []
    },
    {
      "cell_type": "markdown",
      "source": [
        "K MEANS function"
      ],
      "metadata": {
        "id": "T_xdu25WIRSw"
      }
    },
    {
      "cell_type": "code",
      "source": [
        "def dist(a, b):\n",
        "    return np.sqrt(sum(np.square(a-b)))\n",
        "\n",
        "def assign_cluster(k, X, cg):\n",
        "    cluster = [-1]*len(X)\n",
        "    for i in range(len(X)):\n",
        "        dist_arr = []\n",
        "        for j in range(k):\n",
        "            dist_arr.append(distance.cosine(X[i], cg[j]))\n",
        "        idx = np.argmin(dist_arr)\n",
        "        cluster[i] = idx\n",
        "    return np.asarray(cluster)\n",
        "\n",
        "def compute_centroids(k, X, cluster):\n",
        "    cg_arr = []\n",
        "    for i in range(k):\n",
        "        arr = []\n",
        "        for j in range(len(X)):\n",
        "            if cluster[j]==i:\n",
        "                arr.append(X[j])\n",
        "        cg_arr.append(np.mean(arr, axis=0))\n",
        "    return np.asarray(cg_arr)\n",
        "\n",
        "def measure_change(cg_prev, cg_new):\n",
        "    res = 0\n",
        "    for a,b in zip(cg_prev,cg_new):\n",
        "        res+=dist(a,b)\n",
        "    return res"
      ],
      "metadata": {
        "id": "wlvu2Bngli5W"
      },
      "execution_count": 28,
      "outputs": []
    },
    {
      "cell_type": "markdown",
      "source": [
        "K-Means Implementation"
      ],
      "metadata": {
        "id": "_-ZJ8YLCFQoa"
      }
    },
    {
      "cell_type": "code",
      "source": [
        "def k_means(k, data):\n",
        "    centroids = [data[i+2] for i in range(k)]\n",
        "    cluster = [0]*len(data)\n",
        "    cg_change = 100\n",
        "    while cg_change>.001:\n",
        "        cluster = assign_cluster(k, data, centroids)\n",
        "        cg_new = compute_centroids(k, data, cluster)\n",
        "        cg_change = measure_change(cg_new, centroids)\n",
        "        centroids = cg_new\n",
        "    return cluster"
      ],
      "metadata": {
        "id": "XW1OsiaLFQGm"
      },
      "execution_count": 29,
      "outputs": []
    },
    {
      "cell_type": "code",
      "source": [
        "for i in range(2,4):\n",
        "  cluster_IRIS = k_means(i, irisArray)\n",
        "  clusterTSNE_IRIS = k_means(i, tsneIRIS_data)\n",
        "  clusterPCA_IRIS = k_means(i, pcaIRIS_data)\n",
        "\n",
        "  print('For K-',i,'IRIS- VScore: ',v_measure_score(y,cluster_IRIS))\n",
        "  print('For K-',i,'IRIS- VScore (TSNE): ',v_measure_score(y,clusterTSNE_IRIS))\n",
        "  print('For K-',i,'IRIS- VScore (PCA): ',v_measure_score(y,clusterPCA_IRIS))\n",
        "  print('')\n",
        "\n",
        "  score = silhouette_score(irisArray, cluster_IRIS)\n",
        "  KMeansPP_scoreTSNE = silhouette_score(tsneIRIS_data, clusterTSNE_IRIS)\n",
        "  KMeansPP_scorePCA = silhouette_score(pcaIRIS_data, clusterPCA_IRIS)\n",
        "\n",
        "  print('For K-',i,'IRIS- silhouette score- ',score)\n",
        "  print('For K-',i,'IRIS- silhouette score (TSNE)- ',KMeansPP_scoreTSNE)\n",
        "  print('For K-',i,'IRIS- silhouette score (PCA)- ',KMeansPP_scorePCA)\n",
        "  print('')\n",
        "  print('')"
      ],
      "metadata": {
        "colab": {
          "base_uri": "https://localhost:8080/"
        },
        "id": "3MrOErnOLD4C",
        "outputId": "5cea3e88-ee5e-47d4-fbfa-1af36fdac887"
      },
      "execution_count": 30,
      "outputs": [
        {
          "output_type": "stream",
          "name": "stdout",
          "text": [
            "For K- 2 IRIS- VScore:  0.7336804366512104\n",
            "For K- 2 IRIS- VScore (TSNE):  0.7336804366512104\n",
            "For K- 2 IRIS- VScore (PCA):  0.5897196644745017\n",
            "\n",
            "For K- 2 IRIS- silhouette score-  0.6863930543445408\n",
            "For K- 2 IRIS- silhouette score (TSNE)-  0.83156985\n",
            "For K- 2 IRIS- silhouette score (PCA)-  0.6737606107575783\n",
            "\n",
            "\n",
            "For K- 3 IRIS- VScore:  0.6496820278112171\n",
            "For K- 3 IRIS- VScore (TSNE):  0.8571871881141631\n",
            "For K- 3 IRIS- VScore (PCA):  0.5786623660442618\n",
            "\n",
            "For K- 3 IRIS- silhouette score-  0.47633773673492535\n",
            "For K- 3 IRIS- silhouette score (TSNE)-  0.6372705\n",
            "For K- 3 IRIS- silhouette score (PCA)-  0.46408234581722013\n",
            "\n",
            "\n"
          ]
        }
      ]
    },
    {
      "cell_type": "code",
      "source": [
        "plt.subplots(figsize=(9,6))\n",
        "plt.scatter(x=tsneIRIS_data[:,0], y=tsneIRIS_data[:,1], \n",
        "            c=clusterTSNE_IRIS, cmap=plt.cm.Spectral);\n",
        "plt.xlabel('f1')\n",
        "plt.ylabel('f2');\n",
        "plt.savefig('final_clusters', bpi=150)"
      ],
      "metadata": {
        "colab": {
          "base_uri": "https://localhost:8080/",
          "height": 388
        },
        "id": "Pw7yyM38PE43",
        "outputId": "9c3b85e9-8b1b-46a5-eac4-9c5742e29962"
      },
      "execution_count": 31,
      "outputs": [
        {
          "output_type": "display_data",
          "data": {
            "text/plain": [
              "<Figure size 648x432 with 1 Axes>"
            ],
            "image/png": "[encoded data removed]"
          },
          "metadata": {
            "needs_background": "light"
          }
        }
      ]
    },
    {
      "cell_type": "markdown",
      "source": [
        "K-Means++ Implementation"
      ],
      "metadata": {
        "id": "nBmkEyQ8FLZu"
      }
    },
    {
      "cell_type": "code",
      "source": [
        "#Calculating centroids using k means++\n",
        "def kMeansPlusPlus(dataset, k):\n",
        "    centroids = [dataset[0]]\n",
        "\n",
        "    for _ in range(1, k):\n",
        "        dist_sq = np.array([min([np.inner(c-x,c-x) for c in centroids]) for x in dataset])\n",
        "        probs = dist_sq/dist_sq.sum()\n",
        "        cumulative_probs = probs.cumsum()\n",
        "        r = np.random.rand()\n",
        "\n",
        "        for j, p in enumerate(cumulative_probs):\n",
        "            if r < p:\n",
        "                i = j\n",
        "                break\n",
        "        \n",
        "        centroids.append(dataset[i])\n",
        "\n",
        "    return np.array(centroids)"
      ],
      "metadata": {
        "id": "oFywb0TjntNI"
      },
      "execution_count": 42,
      "outputs": []
    },
    {
      "cell_type": "code",
      "source": [
        "kmeansPP_centroid = kMeansPlusPlus(irisArray, 3)\n",
        "kmeansPP_centroid"
      ],
      "metadata": {
        "colab": {
          "base_uri": "https://localhost:8080/"
        },
        "id": "H1s6elVhn2I6",
        "outputId": "69e636ef-e81c-480b-f2ed-e75a6d3fdd0a"
      },
      "execution_count": 43,
      "outputs": [
        {
          "output_type": "execute_result",
          "data": {
            "text/plain": [
              "array([[5.1, 3.5, 1.4, 0.2],\n",
              "       [6.3, 3.3, 6. , 2.5],\n",
              "       [6.1, 3. , 4.6, 1.4]])"
            ]
          },
          "metadata": {},
          "execution_count": 43
        }
      ]
    },
    {
      "cell_type": "code",
      "source": [
        "#Forming clusters- kmeans++\n",
        "def k_meansPP(k, X, kmeansPP_centroid):\n",
        "    cluster = [0]*len(X)\n",
        "    cg_change = 100\n",
        "    while cg_change>.001:\n",
        "        cluster = assign_cluster(k, X, kmeansPP_centroid)\n",
        "        cg_new = compute_centroids(k, X, cluster)\n",
        "        cg_change = measure_change(cg_new, kmeansPP_centroid)\n",
        "        kmeansPP_centroid = cg_new\n",
        "    return cluster"
      ],
      "metadata": {
        "id": "uOfSK-fsoFHR"
      },
      "execution_count": 44,
      "outputs": []
    },
    {
      "cell_type": "code",
      "source": [
        "kmeansPP_cluster = k_meansPP(3, irisArray, kmeansPP_centroid )\n",
        "kmeansPP_cluster"
      ],
      "metadata": {
        "colab": {
          "base_uri": "https://localhost:8080/"
        },
        "id": "VMmpJ4HPpBWR",
        "outputId": "4b6ae0fb-8ceb-4298-ccef-dddc97a36e21"
      },
      "execution_count": 45,
      "outputs": [
        {
          "output_type": "execute_result",
          "data": {
            "text/plain": [
              "array([0, 0, 0, 0, 0, 0, 0, 0, 0, 0, 0, 0, 0, 0, 0, 0, 0, 0, 0, 0, 0, 0,\n",
              "       0, 0, 0, 0, 0, 0, 0, 0, 0, 0, 0, 0, 0, 0, 0, 0, 0, 0, 0, 0, 0, 0,\n",
              "       0, 0, 0, 0, 0, 0, 2, 2, 2, 2, 2, 2, 2, 2, 2, 2, 2, 2, 2, 2, 2, 2,\n",
              "       2, 2, 2, 2, 1, 2, 1, 2, 2, 2, 2, 2, 2, 2, 2, 2, 2, 1, 1, 2, 2, 2,\n",
              "       2, 2, 2, 2, 2, 2, 2, 2, 2, 2, 2, 2, 1, 1, 1, 1, 1, 1, 1, 1, 1, 1,\n",
              "       1, 1, 1, 1, 1, 1, 1, 1, 1, 1, 1, 1, 1, 1, 1, 1, 1, 1, 1, 1, 1, 1,\n",
              "       1, 1, 1, 1, 1, 1, 1, 1, 1, 1, 1, 1, 1, 1, 1, 1, 1, 1])"
            ]
          },
          "metadata": {},
          "execution_count": 45
        }
      ]
    },
    {
      "cell_type": "code",
      "source": [
        "#target label\n",
        "label = LabelEncoder()\n",
        "y = label.fit_transform(iris.target.values)\n",
        "y"
      ],
      "metadata": {
        "colab": {
          "base_uri": "https://localhost:8080/"
        },
        "id": "0_BoMxdUp1Ip",
        "outputId": "88fc9682-bc65-4d48-b8c5-d5625c7bfd3f"
      },
      "execution_count": 27,
      "outputs": [
        {
          "output_type": "execute_result",
          "data": {
            "text/plain": [
              "array([0, 0, 0, 0, 0, 0, 0, 0, 0, 0, 0, 0, 0, 0, 0, 0, 0, 0, 0, 0, 0, 0,\n",
              "       0, 0, 0, 0, 0, 0, 0, 0, 0, 0, 0, 0, 0, 0, 0, 0, 0, 0, 0, 0, 0, 0,\n",
              "       0, 0, 0, 0, 0, 0, 1, 1, 1, 1, 1, 1, 1, 1, 1, 1, 1, 1, 1, 1, 1, 1,\n",
              "       1, 1, 1, 1, 1, 1, 1, 1, 1, 1, 1, 1, 1, 1, 1, 1, 1, 1, 1, 1, 1, 1,\n",
              "       1, 1, 1, 1, 1, 1, 1, 1, 1, 1, 1, 1, 2, 2, 2, 2, 2, 2, 2, 2, 2, 2,\n",
              "       2, 2, 2, 2, 2, 2, 2, 2, 2, 2, 2, 2, 2, 2, 2, 2, 2, 2, 2, 2, 2, 2,\n",
              "       2, 2, 2, 2, 2, 2, 2, 2, 2, 2, 2, 2, 2, 2, 2, 2, 2, 2])"
            ]
          },
          "metadata": {},
          "execution_count": 27
        }
      ]
    },
    {
      "cell_type": "code",
      "source": [
        "#KMeans++\n",
        "#v_measure_score(y,cluster)\n",
        "print('VScore: ',v_measure_score(y,kmeansPP_cluster))\n",
        "\n",
        "score = silhouette_score(irisArray, kmeansPP_cluster)\n",
        "\n",
        "print('silhouette score- ',score)\n"
      ],
      "metadata": {
        "colab": {
          "base_uri": "https://localhost:8080/"
        },
        "id": "c-JC9fjqpbcg",
        "outputId": "c55738ac-38cc-459f-be10-f2815e7496ba"
      },
      "execution_count": 45,
      "outputs": [
        {
          "output_type": "stream",
          "name": "stdout",
          "text": [
            "VScore:  0.8996935451597475\n",
            "silhouette score-  0.48658598412959597\n"
          ]
        }
      ]
    },
    {
      "cell_type": "markdown",
      "source": [
        "# MNIST DATA **SET**"
      ],
      "metadata": {
        "id": "6qKHIF-Tyoxj"
      }
    },
    {
      "cell_type": "code",
      "source": [
        "MNIST=pd.read_csv(\"MNIST.txt\", delimiter=',', header=None)\n",
        "MNIST.head()"
      ],
      "metadata": {
        "colab": {
          "base_uri": "https://localhost:8080/",
          "height": 235
        },
        "id": "2p6fu6dUyuor",
        "outputId": "2025c96c-73d6-45eb-ea9a-4bd3151eac2f"
      },
      "execution_count": 36,
      "outputs": [
        {
          "output_type": "execute_result",
          "data": {
            "text/plain": [
              "   0    1    2    3    4    5    6    7    8    9    ...  774  775  776  777  \\\n",
              "0    0    0    0    0    0    0    0    0    0    0  ...    0    0    0    0   \n",
              "1    0    0    0    0    0    0    0    0    0    0  ...    0    0    0    0   \n",
              "2    0    0    0    0    0    0    0    0    0    0  ...    0    0    0    0   \n",
              "3    0    0    0    0    0    0    0    0    0    0  ...    0    0    0    0   \n",
              "4    0    0    0    0    0    0    0    0    0    0  ...    0    0    0    0   \n",
              "\n",
              "   778  779  780  781  782  783  \n",
              "0    0    0    0    0    0    0  \n",
              "1    0    0    0    0    0    0  \n",
              "2    0    0    0    0    0    0  \n",
              "3    0    0    0    0    0    0  \n",
              "4    0    0    0    0    0    0  \n",
              "\n",
              "[5 rows x 784 columns]"
            ],
            "text/html": [
              "\n",
              "  <div id=\"df-ef10fa61-48d6-4a0f-9bf3-07620c1258be\">\n",
              "    <div class=\"colab-df-container\">\n",
              "      <div>\n",
              "<style scoped>\n",
              "    .dataframe tbody tr th:only-of-type {\n",
              "        vertical-align: middle;\n",
              "    }\n",
              "\n",
              "    .dataframe tbody tr th {\n",
              "        vertical-align: top;\n",
              "    }\n",
              "\n",
              "    .dataframe thead th {\n",
              "        text-align: right;\n",
              "    }\n",
              "</style>\n",
              "<table border=\"1\" class=\"dataframe\">\n",
              "  <thead>\n",
              "    <tr style=\"text-align: right;\">\n",
              "      <th></th>\n",
              "      <th>0</th>\n",
              "      <th>1</th>\n",
              "      <th>2</th>\n",
              "      <th>3</th>\n",
              "      <th>4</th>\n",
              "      <th>5</th>\n",
              "      <th>6</th>\n",
              "      <th>7</th>\n",
              "      <th>8</th>\n",
              "      <th>9</th>\n",
              "      <th>...</th>\n",
              "      <th>774</th>\n",
              "      <th>775</th>\n",
              "      <th>776</th>\n",
              "      <th>777</th>\n",
              "      <th>778</th>\n",
              "      <th>779</th>\n",
              "      <th>780</th>\n",
              "      <th>781</th>\n",
              "      <th>782</th>\n",
              "      <th>783</th>\n",
              "    </tr>\n",
              "  </thead>\n",
              "  <tbody>\n",
              "    <tr>\n",
              "      <th>0</th>\n",
              "      <td>0</td>\n",
              "      <td>0</td>\n",
              "      <td>0</td>\n",
              "      <td>0</td>\n",
              "      <td>0</td>\n",
              "      <td>0</td>\n",
              "      <td>0</td>\n",
              "      <td>0</td>\n",
              "      <td>0</td>\n",
              "      <td>0</td>\n",
              "      <td>...</td>\n",
              "      <td>0</td>\n",
              "      <td>0</td>\n",
              "      <td>0</td>\n",
              "      <td>0</td>\n",
              "      <td>0</td>\n",
              "      <td>0</td>\n",
              "      <td>0</td>\n",
              "      <td>0</td>\n",
              "      <td>0</td>\n",
              "      <td>0</td>\n",
              "    </tr>\n",
              "    <tr>\n",
              "      <th>1</th>\n",
              "      <td>0</td>\n",
              "      <td>0</td>\n",
              "      <td>0</td>\n",
              "      <td>0</td>\n",
              "      <td>0</td>\n",
              "      <td>0</td>\n",
              "      <td>0</td>\n",
              "      <td>0</td>\n",
              "      <td>0</td>\n",
              "      <td>0</td>\n",
              "      <td>...</td>\n",
              "      <td>0</td>\n",
              "      <td>0</td>\n",
              "      <td>0</td>\n",
              "      <td>0</td>\n",
              "      <td>0</td>\n",
              "      <td>0</td>\n",
              "      <td>0</td>\n",
              "      <td>0</td>\n",
              "      <td>0</td>\n",
              "      <td>0</td>\n",
              "    </tr>\n",
              "    <tr>\n",
              "      <th>2</th>\n",
              "      <td>0</td>\n",
              "      <td>0</td>\n",
              "      <td>0</td>\n",
              "      <td>0</td>\n",
              "      <td>0</td>\n",
              "      <td>0</td>\n",
              "      <td>0</td>\n",
              "      <td>0</td>\n",
              "      <td>0</td>\n",
              "      <td>0</td>\n",
              "      <td>...</td>\n",
              "      <td>0</td>\n",
              "      <td>0</td>\n",
              "      <td>0</td>\n",
              "      <td>0</td>\n",
              "      <td>0</td>\n",
              "      <td>0</td>\n",
              "      <td>0</td>\n",
              "      <td>0</td>\n",
              "      <td>0</td>\n",
              "      <td>0</td>\n",
              "    </tr>\n",
              "    <tr>\n",
              "      <th>3</th>\n",
              "      <td>0</td>\n",
              "      <td>0</td>\n",
              "      <td>0</td>\n",
              "      <td>0</td>\n",
              "      <td>0</td>\n",
              "      <td>0</td>\n",
              "      <td>0</td>\n",
              "      <td>0</td>\n",
              "      <td>0</td>\n",
              "      <td>0</td>\n",
              "      <td>...</td>\n",
              "      <td>0</td>\n",
              "      <td>0</td>\n",
              "      <td>0</td>\n",
              "      <td>0</td>\n",
              "      <td>0</td>\n",
              "      <td>0</td>\n",
              "      <td>0</td>\n",
              "      <td>0</td>\n",
              "      <td>0</td>\n",
              "      <td>0</td>\n",
              "    </tr>\n",
              "    <tr>\n",
              "      <th>4</th>\n",
              "      <td>0</td>\n",
              "      <td>0</td>\n",
              "      <td>0</td>\n",
              "      <td>0</td>\n",
              "      <td>0</td>\n",
              "      <td>0</td>\n",
              "      <td>0</td>\n",
              "      <td>0</td>\n",
              "      <td>0</td>\n",
              "      <td>0</td>\n",
              "      <td>...</td>\n",
              "      <td>0</td>\n",
              "      <td>0</td>\n",
              "      <td>0</td>\n",
              "      <td>0</td>\n",
              "      <td>0</td>\n",
              "      <td>0</td>\n",
              "      <td>0</td>\n",
              "      <td>0</td>\n",
              "      <td>0</td>\n",
              "      <td>0</td>\n",
              "    </tr>\n",
              "  </tbody>\n",
              "</table>\n",
              "<p>5 rows × 784 columns</p>\n",
              "</div>\n",
              "      <button class=\"colab-df-convert\" onclick=\"convertToInteractive('df-ef10fa61-48d6-4a0f-9bf3-07620c1258be')\"\n",
              "              title=\"Convert this dataframe to an interactive table.\"\n",
              "              style=\"display:none;\">\n",
              "        \n",
              "  <svg xmlns=\"http://www.w3.org/2000/svg\" height=\"24px\"viewBox=\"0 0 24 24\"\n",
              "       width=\"24px\">\n",
              "    <path d=\"M0 0h24v24H0V0z\" fill=\"none\"/>\n",
              "    <path d=\"M18.56 5.44l.94 2.06.94-2.06 2.06-.94-2.06-.94-.94-2.06-.94 2.06-2.06.94zm-11 1L8.5 8.5l.94-2.06 2.06-.94-2.06-.94L8.5 2.5l-.94 2.06-2.06.94zm10 10l.94 2.06.94-2.06 2.06-.94-2.06-.94-.94-2.06-.94 2.06-2.06.94z\"/><path d=\"M17.41 7.96l-1.37-1.37c-.4-.4-.92-.59-1.43-.59-.52 0-1.04.2-1.43.59L10.3 9.45l-7.72 7.72c-.78.78-.78 2.05 0 2.83L4 21.41c.39.39.9.59 1.41.59.51 0 1.02-.2 1.41-.59l7.78-7.78 2.81-2.81c.8-.78.8-2.07 0-2.86zM5.41 20L4 18.59l7.72-7.72 1.47 1.35L5.41 20z\"/>\n",
              "  </svg>\n",
              "      </button>\n",
              "      \n",
              "  <style>\n",
              "    .colab-df-container {\n",
              "      display:flex;\n",
              "      flex-wrap:wrap;\n",
              "      gap: 12px;\n",
              "    }\n",
              "\n",
              "    .colab-df-convert {\n",
              "      background-color: #E8F0FE;\n",
              "      border: none;\n",
              "      border-radius: 50%;\n",
              "      cursor: pointer;\n",
              "      display: none;\n",
              "      fill: #1967D2;\n",
              "      height: 32px;\n",
              "      padding: 0 0 0 0;\n",
              "      width: 32px;\n",
              "    }\n",
              "\n",
              "    .colab-df-convert:hover {\n",
              "      background-color: #E2EBFA;\n",
              "      box-shadow: 0px 1px 2px rgba(60, 64, 67, 0.3), 0px 1px 3px 1px rgba(60, 64, 67, 0.15);\n",
              "      fill: #174EA6;\n",
              "    }\n",
              "\n",
              "    [theme=dark] .colab-df-convert {\n",
              "      background-color: #3B4455;\n",
              "      fill: #D2E3FC;\n",
              "    }\n",
              "\n",
              "    [theme=dark] .colab-df-convert:hover {\n",
              "      background-color: #434B5C;\n",
              "      box-shadow: 0px 1px 3px 1px rgba(0, 0, 0, 0.15);\n",
              "      filter: drop-shadow(0px 1px 2px rgba(0, 0, 0, 0.3));\n",
              "      fill: #FFFFFF;\n",
              "    }\n",
              "  </style>\n",
              "\n",
              "      <script>\n",
              "        const buttonEl =\n",
              "          document.querySelector('#df-ef10fa61-48d6-4a0f-9bf3-07620c1258be button.colab-df-convert');\n",
              "        buttonEl.style.display =\n",
              "          google.colab.kernel.accessAllowed ? 'block' : 'none';\n",
              "\n",
              "        async function convertToInteractive(key) {\n",
              "          const element = document.querySelector('#df-ef10fa61-48d6-4a0f-9bf3-07620c1258be');\n",
              "          const dataTable =\n",
              "            await google.colab.kernel.invokeFunction('convertToInteractive',\n",
              "                                                     [key], {});\n",
              "          if (!dataTable) return;\n",
              "\n",
              "          const docLinkHtml = 'Like what you see? Visit the ' +\n",
              "            '<a target=\"_blank\" href=https://colab.research.google.com/notebooks/data_table.ipynb>data table notebook</a>'\n",
              "            + ' to learn more about interactive tables.';\n",
              "          element.innerHTML = '';\n",
              "          dataTable['output_type'] = 'display_data';\n",
              "          await google.colab.output.renderOutput(dataTable, element);\n",
              "          const docLink = document.createElement('div');\n",
              "          docLink.innerHTML = docLinkHtml;\n",
              "          element.appendChild(docLink);\n",
              "        }\n",
              "      </script>\n",
              "    </div>\n",
              "  </div>\n",
              "  "
            ]
          },
          "metadata": {},
          "execution_count": 36
        }
      ]
    },
    {
      "cell_type": "code",
      "source": [
        "MNIST"
      ],
      "metadata": {
        "colab": {
          "base_uri": "https://localhost:8080/",
          "height": 423
        },
        "id": "NFOMyimmzpNS",
        "outputId": "49df5fd0-60f1-4229-a5c4-b59c133a3635"
      },
      "execution_count": 37,
      "outputs": [
        {
          "output_type": "execute_result",
          "data": {
            "text/plain": [
              "       0    1    2    3    4    5    6    7    8    9    ...  774  775  776  \\\n",
              "0        0    0    0    0    0    0    0    0    0    0  ...    0    0    0   \n",
              "1        0    0    0    0    0    0    0    0    0    0  ...    0    0    0   \n",
              "2        0    0    0    0    0    0    0    0    0    0  ...    0    0    0   \n",
              "3        0    0    0    0    0    0    0    0    0    0  ...    0    0    0   \n",
              "4        0    0    0    0    0    0    0    0    0    0  ...    0    0    0   \n",
              "...    ...  ...  ...  ...  ...  ...  ...  ...  ...  ...  ...  ...  ...  ...   \n",
              "10735    0    0    0    0    0    0    0    0    0    0  ...    0    0    0   \n",
              "10736    0    0    0    0    0    0    0    0    0    0  ...    0    0    0   \n",
              "10737    0    0    0    0    0    0    0    0    0    0  ...    0    0    0   \n",
              "10738    0    0    0    0    0    0    0    0    0    0  ...    0    0    0   \n",
              "10739    0    0    0    0    0    0    0    0    0    0  ...    0    0    0   \n",
              "\n",
              "       777  778  779  780  781  782  783  \n",
              "0        0    0    0    0    0    0    0  \n",
              "1        0    0    0    0    0    0    0  \n",
              "2        0    0    0    0    0    0    0  \n",
              "3        0    0    0    0    0    0    0  \n",
              "4        0    0    0    0    0    0    0  \n",
              "...    ...  ...  ...  ...  ...  ...  ...  \n",
              "10735    0    0    0    0    0    0    0  \n",
              "10736    0    0    0    0    0    0    0  \n",
              "10737    0    0    0    0    0    0    0  \n",
              "10738    0    0    0    0    0    0    0  \n",
              "10739    0    0    0    0    0    0    0  \n",
              "\n",
              "[10740 rows x 784 columns]"
            ],
            "text/html": [
              "\n",
              "  <div id=\"df-66ea1d9e-36e5-4995-9152-f49f1cd6f8e2\">\n",
              "    <div class=\"colab-df-container\">\n",
              "      <div>\n",
              "<style scoped>\n",
              "    .dataframe tbody tr th:only-of-type {\n",
              "        vertical-align: middle;\n",
              "    }\n",
              "\n",
              "    .dataframe tbody tr th {\n",
              "        vertical-align: top;\n",
              "    }\n",
              "\n",
              "    .dataframe thead th {\n",
              "        text-align: right;\n",
              "    }\n",
              "</style>\n",
              "<table border=\"1\" class=\"dataframe\">\n",
              "  <thead>\n",
              "    <tr style=\"text-align: right;\">\n",
              "      <th></th>\n",
              "      <th>0</th>\n",
              "      <th>1</th>\n",
              "      <th>2</th>\n",
              "      <th>3</th>\n",
              "      <th>4</th>\n",
              "      <th>5</th>\n",
              "      <th>6</th>\n",
              "      <th>7</th>\n",
              "      <th>8</th>\n",
              "      <th>9</th>\n",
              "      <th>...</th>\n",
              "      <th>774</th>\n",
              "      <th>775</th>\n",
              "      <th>776</th>\n",
              "      <th>777</th>\n",
              "      <th>778</th>\n",
              "      <th>779</th>\n",
              "      <th>780</th>\n",
              "      <th>781</th>\n",
              "      <th>782</th>\n",
              "      <th>783</th>\n",
              "    </tr>\n",
              "  </thead>\n",
              "  <tbody>\n",
              "    <tr>\n",
              "      <th>0</th>\n",
              "      <td>0</td>\n",
              "      <td>0</td>\n",
              "      <td>0</td>\n",
              "      <td>0</td>\n",
              "      <td>0</td>\n",
              "      <td>0</td>\n",
              "      <td>0</td>\n",
              "      <td>0</td>\n",
              "      <td>0</td>\n",
              "      <td>0</td>\n",
              "      <td>...</td>\n",
              "      <td>0</td>\n",
              "      <td>0</td>\n",
              "      <td>0</td>\n",
              "      <td>0</td>\n",
              "      <td>0</td>\n",
              "      <td>0</td>\n",
              "      <td>0</td>\n",
              "      <td>0</td>\n",
              "      <td>0</td>\n",
              "      <td>0</td>\n",
              "    </tr>\n",
              "    <tr>\n",
              "      <th>1</th>\n",
              "      <td>0</td>\n",
              "      <td>0</td>\n",
              "      <td>0</td>\n",
              "      <td>0</td>\n",
              "      <td>0</td>\n",
              "      <td>0</td>\n",
              "      <td>0</td>\n",
              "      <td>0</td>\n",
              "      <td>0</td>\n",
              "      <td>0</td>\n",
              "      <td>...</td>\n",
              "      <td>0</td>\n",
              "      <td>0</td>\n",
              "      <td>0</td>\n",
              "      <td>0</td>\n",
              "      <td>0</td>\n",
              "      <td>0</td>\n",
              "      <td>0</td>\n",
              "      <td>0</td>\n",
              "      <td>0</td>\n",
              "      <td>0</td>\n",
              "    </tr>\n",
              "    <tr>\n",
              "      <th>2</th>\n",
              "      <td>0</td>\n",
              "      <td>0</td>\n",
              "      <td>0</td>\n",
              "      <td>0</td>\n",
              "      <td>0</td>\n",
              "      <td>0</td>\n",
              "      <td>0</td>\n",
              "      <td>0</td>\n",
              "      <td>0</td>\n",
              "      <td>0</td>\n",
              "      <td>...</td>\n",
              "      <td>0</td>\n",
              "      <td>0</td>\n",
              "      <td>0</td>\n",
              "      <td>0</td>\n",
              "      <td>0</td>\n",
              "      <td>0</td>\n",
              "      <td>0</td>\n",
              "      <td>0</td>\n",
              "      <td>0</td>\n",
              "      <td>0</td>\n",
              "    </tr>\n",
              "    <tr>\n",
              "      <th>3</th>\n",
              "      <td>0</td>\n",
              "      <td>0</td>\n",
              "      <td>0</td>\n",
              "      <td>0</td>\n",
              "      <td>0</td>\n",
              "      <td>0</td>\n",
              "      <td>0</td>\n",
              "      <td>0</td>\n",
              "      <td>0</td>\n",
              "      <td>0</td>\n",
              "      <td>...</td>\n",
              "      <td>0</td>\n",
              "      <td>0</td>\n",
              "      <td>0</td>\n",
              "      <td>0</td>\n",
              "      <td>0</td>\n",
              "      <td>0</td>\n",
              "      <td>0</td>\n",
              "      <td>0</td>\n",
              "      <td>0</td>\n",
              "      <td>0</td>\n",
              "    </tr>\n",
              "    <tr>\n",
              "      <th>4</th>\n",
              "      <td>0</td>\n",
              "      <td>0</td>\n",
              "      <td>0</td>\n",
              "      <td>0</td>\n",
              "      <td>0</td>\n",
              "      <td>0</td>\n",
              "      <td>0</td>\n",
              "      <td>0</td>\n",
              "      <td>0</td>\n",
              "      <td>0</td>\n",
              "      <td>...</td>\n",
              "      <td>0</td>\n",
              "      <td>0</td>\n",
              "      <td>0</td>\n",
              "      <td>0</td>\n",
              "      <td>0</td>\n",
              "      <td>0</td>\n",
              "      <td>0</td>\n",
              "      <td>0</td>\n",
              "      <td>0</td>\n",
              "      <td>0</td>\n",
              "    </tr>\n",
              "    <tr>\n",
              "      <th>...</th>\n",
              "      <td>...</td>\n",
              "      <td>...</td>\n",
              "      <td>...</td>\n",
              "      <td>...</td>\n",
              "      <td>...</td>\n",
              "      <td>...</td>\n",
              "      <td>...</td>\n",
              "      <td>...</td>\n",
              "      <td>...</td>\n",
              "      <td>...</td>\n",
              "      <td>...</td>\n",
              "      <td>...</td>\n",
              "      <td>...</td>\n",
              "      <td>...</td>\n",
              "      <td>...</td>\n",
              "      <td>...</td>\n",
              "      <td>...</td>\n",
              "      <td>...</td>\n",
              "      <td>...</td>\n",
              "      <td>...</td>\n",
              "      <td>...</td>\n",
              "    </tr>\n",
              "    <tr>\n",
              "      <th>10735</th>\n",
              "      <td>0</td>\n",
              "      <td>0</td>\n",
              "      <td>0</td>\n",
              "      <td>0</td>\n",
              "      <td>0</td>\n",
              "      <td>0</td>\n",
              "      <td>0</td>\n",
              "      <td>0</td>\n",
              "      <td>0</td>\n",
              "      <td>0</td>\n",
              "      <td>...</td>\n",
              "      <td>0</td>\n",
              "      <td>0</td>\n",
              "      <td>0</td>\n",
              "      <td>0</td>\n",
              "      <td>0</td>\n",
              "      <td>0</td>\n",
              "      <td>0</td>\n",
              "      <td>0</td>\n",
              "      <td>0</td>\n",
              "      <td>0</td>\n",
              "    </tr>\n",
              "    <tr>\n",
              "      <th>10736</th>\n",
              "      <td>0</td>\n",
              "      <td>0</td>\n",
              "      <td>0</td>\n",
              "      <td>0</td>\n",
              "      <td>0</td>\n",
              "      <td>0</td>\n",
              "      <td>0</td>\n",
              "      <td>0</td>\n",
              "      <td>0</td>\n",
              "      <td>0</td>\n",
              "      <td>...</td>\n",
              "      <td>0</td>\n",
              "      <td>0</td>\n",
              "      <td>0</td>\n",
              "      <td>0</td>\n",
              "      <td>0</td>\n",
              "      <td>0</td>\n",
              "      <td>0</td>\n",
              "      <td>0</td>\n",
              "      <td>0</td>\n",
              "      <td>0</td>\n",
              "    </tr>\n",
              "    <tr>\n",
              "      <th>10737</th>\n",
              "      <td>0</td>\n",
              "      <td>0</td>\n",
              "      <td>0</td>\n",
              "      <td>0</td>\n",
              "      <td>0</td>\n",
              "      <td>0</td>\n",
              "      <td>0</td>\n",
              "      <td>0</td>\n",
              "      <td>0</td>\n",
              "      <td>0</td>\n",
              "      <td>...</td>\n",
              "      <td>0</td>\n",
              "      <td>0</td>\n",
              "      <td>0</td>\n",
              "      <td>0</td>\n",
              "      <td>0</td>\n",
              "      <td>0</td>\n",
              "      <td>0</td>\n",
              "      <td>0</td>\n",
              "      <td>0</td>\n",
              "      <td>0</td>\n",
              "    </tr>\n",
              "    <tr>\n",
              "      <th>10738</th>\n",
              "      <td>0</td>\n",
              "      <td>0</td>\n",
              "      <td>0</td>\n",
              "      <td>0</td>\n",
              "      <td>0</td>\n",
              "      <td>0</td>\n",
              "      <td>0</td>\n",
              "      <td>0</td>\n",
              "      <td>0</td>\n",
              "      <td>0</td>\n",
              "      <td>...</td>\n",
              "      <td>0</td>\n",
              "      <td>0</td>\n",
              "      <td>0</td>\n",
              "      <td>0</td>\n",
              "      <td>0</td>\n",
              "      <td>0</td>\n",
              "      <td>0</td>\n",
              "      <td>0</td>\n",
              "      <td>0</td>\n",
              "      <td>0</td>\n",
              "    </tr>\n",
              "    <tr>\n",
              "      <th>10739</th>\n",
              "      <td>0</td>\n",
              "      <td>0</td>\n",
              "      <td>0</td>\n",
              "      <td>0</td>\n",
              "      <td>0</td>\n",
              "      <td>0</td>\n",
              "      <td>0</td>\n",
              "      <td>0</td>\n",
              "      <td>0</td>\n",
              "      <td>0</td>\n",
              "      <td>...</td>\n",
              "      <td>0</td>\n",
              "      <td>0</td>\n",
              "      <td>0</td>\n",
              "      <td>0</td>\n",
              "      <td>0</td>\n",
              "      <td>0</td>\n",
              "      <td>0</td>\n",
              "      <td>0</td>\n",
              "      <td>0</td>\n",
              "      <td>0</td>\n",
              "    </tr>\n",
              "  </tbody>\n",
              "</table>\n",
              "<p>10740 rows × 784 columns</p>\n",
              "</div>\n",
              "      <button class=\"colab-df-convert\" onclick=\"convertToInteractive('df-66ea1d9e-36e5-4995-9152-f49f1cd6f8e2')\"\n",
              "              title=\"Convert this dataframe to an interactive table.\"\n",
              "              style=\"display:none;\">\n",
              "        \n",
              "  <svg xmlns=\"http://www.w3.org/2000/svg\" height=\"24px\"viewBox=\"0 0 24 24\"\n",
              "       width=\"24px\">\n",
              "    <path d=\"M0 0h24v24H0V0z\" fill=\"none\"/>\n",
              "    <path d=\"M18.56 5.44l.94 2.06.94-2.06 2.06-.94-2.06-.94-.94-2.06-.94 2.06-2.06.94zm-11 1L8.5 8.5l.94-2.06 2.06-.94-2.06-.94L8.5 2.5l-.94 2.06-2.06.94zm10 10l.94 2.06.94-2.06 2.06-.94-2.06-.94-.94-2.06-.94 2.06-2.06.94z\"/><path d=\"M17.41 7.96l-1.37-1.37c-.4-.4-.92-.59-1.43-.59-.52 0-1.04.2-1.43.59L10.3 9.45l-7.72 7.72c-.78.78-.78 2.05 0 2.83L4 21.41c.39.39.9.59 1.41.59.51 0 1.02-.2 1.41-.59l7.78-7.78 2.81-2.81c.8-.78.8-2.07 0-2.86zM5.41 20L4 18.59l7.72-7.72 1.47 1.35L5.41 20z\"/>\n",
              "  </svg>\n",
              "      </button>\n",
              "      \n",
              "  <style>\n",
              "    .colab-df-container {\n",
              "      display:flex;\n",
              "      flex-wrap:wrap;\n",
              "      gap: 12px;\n",
              "    }\n",
              "\n",
              "    .colab-df-convert {\n",
              "      background-color: #E8F0FE;\n",
              "      border: none;\n",
              "      border-radius: 50%;\n",
              "      cursor: pointer;\n",
              "      display: none;\n",
              "      fill: #1967D2;\n",
              "      height: 32px;\n",
              "      padding: 0 0 0 0;\n",
              "      width: 32px;\n",
              "    }\n",
              "\n",
              "    .colab-df-convert:hover {\n",
              "      background-color: #E2EBFA;\n",
              "      box-shadow: 0px 1px 2px rgba(60, 64, 67, 0.3), 0px 1px 3px 1px rgba(60, 64, 67, 0.15);\n",
              "      fill: #174EA6;\n",
              "    }\n",
              "\n",
              "    [theme=dark] .colab-df-convert {\n",
              "      background-color: #3B4455;\n",
              "      fill: #D2E3FC;\n",
              "    }\n",
              "\n",
              "    [theme=dark] .colab-df-convert:hover {\n",
              "      background-color: #434B5C;\n",
              "      box-shadow: 0px 1px 3px 1px rgba(0, 0, 0, 0.15);\n",
              "      filter: drop-shadow(0px 1px 2px rgba(0, 0, 0, 0.3));\n",
              "      fill: #FFFFFF;\n",
              "    }\n",
              "  </style>\n",
              "\n",
              "      <script>\n",
              "        const buttonEl =\n",
              "          document.querySelector('#df-66ea1d9e-36e5-4995-9152-f49f1cd6f8e2 button.colab-df-convert');\n",
              "        buttonEl.style.display =\n",
              "          google.colab.kernel.accessAllowed ? 'block' : 'none';\n",
              "\n",
              "        async function convertToInteractive(key) {\n",
              "          const element = document.querySelector('#df-66ea1d9e-36e5-4995-9152-f49f1cd6f8e2');\n",
              "          const dataTable =\n",
              "            await google.colab.kernel.invokeFunction('convertToInteractive',\n",
              "                                                     [key], {});\n",
              "          if (!dataTable) return;\n",
              "\n",
              "          const docLinkHtml = 'Like what you see? Visit the ' +\n",
              "            '<a target=\"_blank\" href=https://colab.research.google.com/notebooks/data_table.ipynb>data table notebook</a>'\n",
              "            + ' to learn more about interactive tables.';\n",
              "          element.innerHTML = '';\n",
              "          dataTable['output_type'] = 'display_data';\n",
              "          await google.colab.output.renderOutput(dataTable, element);\n",
              "          const docLink = document.createElement('div');\n",
              "          docLink.innerHTML = docLinkHtml;\n",
              "          element.appendChild(docLink);\n",
              "        }\n",
              "      </script>\n",
              "    </div>\n",
              "  </div>\n",
              "  "
            ]
          },
          "metadata": {},
          "execution_count": 37
        }
      ]
    },
    {
      "cell_type": "code",
      "source": [
        "mnistArray = MNIST.values\n",
        "mnistArray"
      ],
      "metadata": {
        "colab": {
          "base_uri": "https://localhost:8080/"
        },
        "id": "FEmvNjFEz6e-",
        "outputId": "25c9640a-3f28-472b-f839-b4f92eae9fe6"
      },
      "execution_count": 38,
      "outputs": [
        {
          "output_type": "execute_result",
          "data": {
            "text/plain": [
              "array([[0, 0, 0, ..., 0, 0, 0],\n",
              "       [0, 0, 0, ..., 0, 0, 0],\n",
              "       [0, 0, 0, ..., 0, 0, 0],\n",
              "       ...,\n",
              "       [0, 0, 0, ..., 0, 0, 0],\n",
              "       [0, 0, 0, ..., 0, 0, 0],\n",
              "       [0, 0, 0, ..., 0, 0, 0]])"
            ]
          },
          "metadata": {},
          "execution_count": 38
        }
      ]
    },
    {
      "cell_type": "code",
      "source": [
        "#Normalization\n",
        "dataNormalize = nor(MNIST)\n",
        "dataNormalize"
      ],
      "metadata": {
        "colab": {
          "base_uri": "https://localhost:8080/"
        },
        "id": "6Do2-WiI07Gh",
        "outputId": "2b08712a-b754-40e4-8925-782c4f3d6f7b"
      },
      "execution_count": 39,
      "outputs": [
        {
          "output_type": "execute_result",
          "data": {
            "text/plain": [
              "array([[0., 0., 0., ..., 0., 0., 0.],\n",
              "       [0., 0., 0., ..., 0., 0., 0.],\n",
              "       [0., 0., 0., ..., 0., 0., 0.],\n",
              "       ...,\n",
              "       [0., 0., 0., ..., 0., 0., 0.],\n",
              "       [0., 0., 0., ..., 0., 0., 0.],\n",
              "       [0., 0., 0., ..., 0., 0., 0.]])"
            ]
          },
          "metadata": {},
          "execution_count": 39
        }
      ]
    },
    {
      "cell_type": "code",
      "source": [
        "#Applying TSNE\n",
        "tsne = TSNE()\n",
        "TSNE_data = tsne.fit_transform(dataNormalize)\n",
        "TSNE_data"
      ],
      "metadata": {
        "colab": {
          "base_uri": "https://localhost:8080/"
        },
        "id": "5T1rTuLC1KpU",
        "outputId": "c2139a77-a84b-4da6-a4c3-7837e5270074"
      },
      "execution_count": 40,
      "outputs": [
        {
          "output_type": "stream",
          "name": "stderr",
          "text": [
            "/usr/local/lib/python3.7/dist-packages/sklearn/manifold/_t_sne.py:783: FutureWarning: The default initialization in TSNE will change from 'random' to 'pca' in 1.2.\n",
            "  FutureWarning,\n",
            "/usr/local/lib/python3.7/dist-packages/sklearn/manifold/_t_sne.py:793: FutureWarning: The default learning rate in TSNE will change from 200.0 to 'auto' in 1.2.\n",
            "  FutureWarning,\n"
          ]
        },
        {
          "output_type": "execute_result",
          "data": {
            "text/plain": [
              "array([[ 35.713474, -44.459   ],\n",
              "       [ -5.70276 , -52.657654],\n",
              "       [-10.229636, -73.80126 ],\n",
              "       ...,\n",
              "       [-42.301147,  57.952602],\n",
              "       [ 37.205414,  59.598633],\n",
              "       [ 65.70264 , -38.81408 ]], dtype=float32)"
            ]
          },
          "metadata": {},
          "execution_count": 40
        }
      ]
    },
    {
      "cell_type": "code",
      "source": [
        "#Calculating centroids from the data reduced by TSNE\n",
        "kmeansPP_centroid_MNIST = kMeansPlusPlus(TSNE_data, 10)\n",
        "kmeansPP_centroid_MNIST"
      ],
      "metadata": {
        "colab": {
          "base_uri": "https://localhost:8080/"
        },
        "id": "mL9LnWNn2QK5",
        "outputId": "5f102f92-45b4-4826-f813-3cfb591492e3"
      },
      "execution_count": 46,
      "outputs": [
        {
          "output_type": "execute_result",
          "data": {
            "text/plain": [
              "array([[ 3.5713474e+01, -4.4459000e+01],\n",
              "       [-3.6768612e+01,  5.1925407e+01],\n",
              "       [-3.7170990e+01, -5.3747406e+01],\n",
              "       [ 4.7809933e+01,  4.4804692e+00],\n",
              "       [-5.8574529e+00,  5.7379192e+01],\n",
              "       [-2.5690521e+01, -9.4370384e+00],\n",
              "       [ 1.3133411e+01,  7.6471481e+00],\n",
              "       [ 6.1469303e+01, -4.7841526e+01],\n",
              "       [ 2.3458712e+01,  5.9792473e+01],\n",
              "       [-3.3825382e+01, -4.1207399e-02]], dtype=float32)"
            ]
          },
          "metadata": {},
          "execution_count": 46
        }
      ]
    },
    {
      "cell_type": "code",
      "source": [
        "#Cluster on TSNE reduced data\n",
        "kmeansPP_cluster_MNIST = k_meansPP(10, TSNE_data, kmeansPP_centroid_MNIST )\n",
        "kmeansPP_cluster_MNIST"
      ],
      "metadata": {
        "colab": {
          "base_uri": "https://localhost:8080/"
        },
        "id": "kGIUA1Ja28JJ",
        "outputId": "17478451-801b-418a-c1ae-800ea332a653"
      },
      "execution_count": 47,
      "outputs": [
        {
          "output_type": "execute_result",
          "data": {
            "text/plain": [
              "array([0, 2, 2, ..., 1, 8, 7])"
            ]
          },
          "metadata": {},
          "execution_count": 47
        }
      ]
    },
    {
      "cell_type": "code",
      "source": [
        "#Applying PCA\n",
        "pca = PCA(n_components = 2)\n",
        "PCA_data = pca.fit_transform(dataNormalize)\n",
        "PCA_data"
      ],
      "metadata": {
        "colab": {
          "base_uri": "https://localhost:8080/"
        },
        "id": "LeMvUVuil9PP",
        "outputId": "3698a62b-d8ec-40c5-bf81-7ff8227a122a"
      },
      "execution_count": 48,
      "outputs": [
        {
          "output_type": "execute_result",
          "data": {
            "text/plain": [
              "array([[-0.11785835,  0.12550557],\n",
              "       [-0.11615034, -0.026944  ],\n",
              "       [-0.0781213 ,  0.11244726],\n",
              "       ...,\n",
              "       [-0.16967626, -0.16998317],\n",
              "       [-0.32147322,  0.03727249],\n",
              "       [-0.17035023,  0.23382832]])"
            ]
          },
          "metadata": {},
          "execution_count": 48
        }
      ]
    },
    {
      "cell_type": "code",
      "source": [
        "#Calculating centroids from the data reduced by PCA\n",
        "kmeansPP_centroid_MNIST_PCA = kMeansPlusPlus(PCA_data, 10)\n",
        "kmeansPP_centroid_MNIST_PCA"
      ],
      "metadata": {
        "colab": {
          "base_uri": "https://localhost:8080/"
        },
        "id": "icwdQwX4nVBD",
        "outputId": "21b4f0be-e3eb-4cbb-f4ec-d8bd40a9cc92"
      },
      "execution_count": 49,
      "outputs": [
        {
          "output_type": "execute_result",
          "data": {
            "text/plain": [
              "array([[-0.11785835,  0.12550557],\n",
              "       [-0.13041451, -0.38168971],\n",
              "       [-0.3516259 , -0.1741927 ],\n",
              "       [-0.3972232 ,  0.29857259],\n",
              "       [ 0.28599315,  0.07653805],\n",
              "       [ 0.28019794, -0.26234355],\n",
              "       [ 0.15821496, -0.02950507],\n",
              "       [ 0.46267069, -0.0227401 ],\n",
              "       [-0.17581342,  0.02673411],\n",
              "       [ 0.5542652 , -0.12798078]])"
            ]
          },
          "metadata": {},
          "execution_count": 49
        }
      ]
    },
    {
      "cell_type": "code",
      "source": [
        "#Cluster on PCA reduced data\n",
        "kmeansPP_cluster_MNIST_PCA = k_meansPP(10, PCA_data, kmeansPP_centroid_MNIST_PCA )\n",
        "kmeansPP_cluster_MNIST_PCA"
      ],
      "metadata": {
        "colab": {
          "base_uri": "https://localhost:8080/"
        },
        "id": "bbl7wokzpVCE",
        "outputId": "91a89a36-cce5-4696-ccab-d6629fdafc24"
      },
      "execution_count": 50,
      "outputs": [
        {
          "output_type": "execute_result",
          "data": {
            "text/plain": [
              "array([3, 8, 3, ..., 2, 8, 3])"
            ]
          },
          "metadata": {},
          "execution_count": 50
        }
      ]
    },
    {
      "cell_type": "code",
      "source": [
        "PCA_score_MNIST = silhouette_score(PCA_data, kmeansPP_cluster_MNIST_PCA, metric = 'cosine')\n",
        "print('PCA- MNIST silhouette score- ',PCA_score_MNIST)"
      ],
      "metadata": {
        "colab": {
          "base_uri": "https://localhost:8080/"
        },
        "id": "_Wfz5h2pfWq7",
        "outputId": "e8a89d8e-cdb0-4da6-ca7c-e6c93d80f755"
      },
      "execution_count": 51,
      "outputs": [
        {
          "output_type": "stream",
          "name": "stdout",
          "text": [
            "PCA- MNIST silhouette score-  0.6851191847725323\n"
          ]
        }
      ]
    },
    {
      "cell_type": "code",
      "source": [
        "score_MNIST = silhouette_score(TSNE_data, kmeansPP_cluster_MNIST, metric = 'cosine')\n",
        "print('TSNE- MNIST silhouette score- ',score_MNIST)"
      ],
      "metadata": {
        "colab": {
          "base_uri": "https://localhost:8080/"
        },
        "id": "th5Q6kSXgjKK",
        "outputId": "d18ba343-4429-4df4-e871-cf5baed537e6"
      },
      "execution_count": 52,
      "outputs": [
        {
          "output_type": "stream",
          "name": "stdout",
          "text": [
            "TSNE- MNIST silhouette score-  0.7324267\n"
          ]
        }
      ]
    },
    {
      "cell_type": "code",
      "source": [
        "plt.subplots(figsize=(9,6))\n",
        "plt.scatter(x=TSNE_data[:,0], y=TSNE_data[:,1], \n",
        "            c=kmeansPP_cluster_MNIST, cmap=plt.cm.Spectral);\n",
        "plt.xlabel('f1')\n",
        "plt.ylabel('f2');\n",
        "plt.savefig('final_clusters', bpi=150)"
      ],
      "metadata": {
        "colab": {
          "base_uri": "https://localhost:8080/",
          "height": 388
        },
        "id": "YIWsqDuC8U9X",
        "outputId": "dd23f0d9-77c5-4712-dd38-47c0a73f584c"
      },
      "execution_count": 19,
      "outputs": [
        {
          "output_type": "display_data",
          "data": {
            "text/plain": [
              "<Figure size 648x432 with 1 Axes>"
            ],
            "image/png": "[encoded data removed]"
          },
          "metadata": {
            "needs_background": "light"
          }
        }
      ]
    },
    {
      "cell_type": "code",
      "source": [
        "resultFile = open('format.txt', 'w')\n",
        "resultFile.writelines(\"%s\\n\" % val for val in kmeansPP_cluster_MNIST)\n",
        "resultFile.close()"
      ],
      "metadata": {
        "id": "CBwnyD6f6hZA"
      },
      "execution_count": 20,
      "outputs": []
    },
    {
      "cell_type": "code",
      "source": [
        "#for k -2 to 20\n",
        "for i in range(2,21, 2):\n",
        "  kmeansPP_centroid_MNIST = kMeansPlusPlus(TSNE_data, i)\n",
        "  kmeansPP_cluster_MNIST = k_meansPP(i, TSNE_data, kmeansPP_centroid_MNIST)\n",
        "  score_MNIST = silhouette_score(TSNE_data, kmeansPP_cluster_MNIST, metric = 'cosine')\n",
        "  print('For K-',i,' MNIST silhouette score- ',score_MNIST)\n"
      ],
      "metadata": {
        "colab": {
          "base_uri": "https://localhost:8080/"
        },
        "id": "9PlL3lG7E6sf",
        "outputId": "e9edb2b7-563c-4219-b3f3-302aa73ded5b"
      },
      "execution_count": 63,
      "outputs": [
        {
          "output_type": "stream",
          "name": "stdout",
          "text": [
            "For K- 2  MNIST silhouette score-  0.5864115\n",
            "For K- 4  MNIST silhouette score-  0.69421494\n",
            "For K- 6  MNIST silhouette score-  0.70458317\n",
            "For K- 8  MNIST silhouette score-  0.74289\n",
            "For K- 10  MNIST silhouette score-  0.72280467\n",
            "For K- 12  MNIST silhouette score-  0.70771337\n",
            "For K- 14  MNIST silhouette score-  0.6769822\n",
            "For K- 16  MNIST silhouette score-  0.68723106\n",
            "For K- 18  MNIST silhouette score-  0.69417554\n",
            "For K- 20  MNIST silhouette score-  0.68189114\n"
          ]
        }
      ]
    }
  ]
}